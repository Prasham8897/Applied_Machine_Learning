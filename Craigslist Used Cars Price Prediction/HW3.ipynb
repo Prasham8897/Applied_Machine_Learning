{
 "cells": [
  {
   "cell_type": "markdown",
   "metadata": {},
   "source": [
    "#### Task: Craigslist Vehicle Price Prediction"
   ]
  },
  {
   "cell_type": "markdown",
   "metadata": {},
   "source": [
    "- Prasham Sheth(pds2136)\n",
    "- Manas Dresswala(mad2306)"
   ]
  },
  {
   "cell_type": "code",
   "execution_count": 1,
   "metadata": {},
   "outputs": [],
   "source": [
    "import warnings\n",
    "warnings.filterwarnings('ignore')"
   ]
  },
  {
   "cell_type": "code",
   "execution_count": 2,
   "metadata": {},
   "outputs": [],
   "source": [
    "import pandas as pd\n",
    "import numpy as np\n",
    "import matplotlib.pyplot as plt\n",
    "import time\n",
    "import graphviz\n",
    "\n",
    "from sklearn.model_selection import train_test_split,cross_val_score,GridSearchCV,KFold\n",
    "from sklearn.pipeline import make_pipeline,Pipeline\n",
    "from sklearn.compose import make_column_transformer,ColumnTransformer,make_column_selector\n",
    "from sklearn.preprocessing import StandardScaler,OneHotEncoder,PolynomialFeatures\n",
    "from category_encoders import TargetEncoder\n",
    "from sklearn.feature_selection import RFECV,SelectFromModel\n",
    "from sklearn.metrics import r2_score\n",
    "from mlxtend.feature_selection import SequentialFeatureSelector\n",
    "\n",
    "from sklearn.linear_model import LinearRegression,Ridge,Lasso,ElasticNet,SGDRegressor,RidgeCV,LassoCV\n",
    "from sklearn.tree import DecisionTreeRegressor\n",
    "from sklearn.ensemble import RandomForestRegressor, GradientBoostingRegressor\n",
    "from xgboost import XGBRegressor"
   ]
  },
  {
   "cell_type": "code",
   "execution_count": 3,
   "metadata": {},
   "outputs": [],
   "source": [
    "path = \"C:\\\\Users\\\\sheth\\\\Desktop\\\\my stuff\\\\Columbia\\\\Semester 2\\\\Applied Machine Learning\\\\HW\\\\Submissions\\\\3\\\\\"\n",
    "data = pd.read_csv(path + \"vehicles.csv\")"
   ]
  },
  {
   "cell_type": "code",
   "execution_count": 4,
   "metadata": {},
   "outputs": [
    {
     "data": {
      "text/plain": [
       "(509577, 25)"
      ]
     },
     "execution_count": 4,
     "metadata": {},
     "output_type": "execute_result"
    }
   ],
   "source": [
    "data.shape"
   ]
  },
  {
   "cell_type": "code",
   "execution_count": 5,
   "metadata": {},
   "outputs": [
    {
     "data": {
      "text/html": [
       "<div>\n",
       "<style scoped>\n",
       "    .dataframe tbody tr th:only-of-type {\n",
       "        vertical-align: middle;\n",
       "    }\n",
       "\n",
       "    .dataframe tbody tr th {\n",
       "        vertical-align: top;\n",
       "    }\n",
       "\n",
       "    .dataframe thead th {\n",
       "        text-align: right;\n",
       "    }\n",
       "</style>\n",
       "<table border=\"1\" class=\"dataframe\">\n",
       "  <thead>\n",
       "    <tr style=\"text-align: right;\">\n",
       "      <th></th>\n",
       "      <th>id</th>\n",
       "      <th>url</th>\n",
       "      <th>region</th>\n",
       "      <th>region_url</th>\n",
       "      <th>price</th>\n",
       "      <th>year</th>\n",
       "      <th>manufacturer</th>\n",
       "      <th>model</th>\n",
       "      <th>condition</th>\n",
       "      <th>cylinders</th>\n",
       "      <th>...</th>\n",
       "      <th>drive</th>\n",
       "      <th>size</th>\n",
       "      <th>type</th>\n",
       "      <th>paint_color</th>\n",
       "      <th>image_url</th>\n",
       "      <th>description</th>\n",
       "      <th>county</th>\n",
       "      <th>state</th>\n",
       "      <th>lat</th>\n",
       "      <th>long</th>\n",
       "    </tr>\n",
       "  </thead>\n",
       "  <tbody>\n",
       "    <tr>\n",
       "      <td>0</td>\n",
       "      <td>7034441763</td>\n",
       "      <td>https://saltlakecity.craigslist.org/cto/d/salt...</td>\n",
       "      <td>salt lake city</td>\n",
       "      <td>https://saltlakecity.craigslist.org</td>\n",
       "      <td>17899</td>\n",
       "      <td>2012.0</td>\n",
       "      <td>volkswagen</td>\n",
       "      <td>golf r</td>\n",
       "      <td>excellent</td>\n",
       "      <td>4 cylinders</td>\n",
       "      <td>...</td>\n",
       "      <td>4wd</td>\n",
       "      <td>compact</td>\n",
       "      <td>hatchback</td>\n",
       "      <td>black</td>\n",
       "      <td>https://images.craigslist.org/00G0G_fTLDWM5Xyv...</td>\n",
       "      <td>PRICE REDUCED!   -Garage kept -Low Miles (63K)...</td>\n",
       "      <td>NaN</td>\n",
       "      <td>ut</td>\n",
       "      <td>40.7372</td>\n",
       "      <td>-111.858</td>\n",
       "    </tr>\n",
       "    <tr>\n",
       "      <td>1</td>\n",
       "      <td>7034440610</td>\n",
       "      <td>https://saltlakecity.craigslist.org/ctd/d/sand...</td>\n",
       "      <td>salt lake city</td>\n",
       "      <td>https://saltlakecity.craigslist.org</td>\n",
       "      <td>0</td>\n",
       "      <td>2016.0</td>\n",
       "      <td>ford</td>\n",
       "      <td>f-150</td>\n",
       "      <td>excellent</td>\n",
       "      <td>NaN</td>\n",
       "      <td>...</td>\n",
       "      <td>4wd</td>\n",
       "      <td>NaN</td>\n",
       "      <td>NaN</td>\n",
       "      <td>NaN</td>\n",
       "      <td>https://images.craigslist.org/00v0v_7Cu0buIofU...</td>\n",
       "      <td>Drive it home today. Call (Or Text) us now !!C...</td>\n",
       "      <td>NaN</td>\n",
       "      <td>ut</td>\n",
       "      <td>40.5881</td>\n",
       "      <td>-111.884</td>\n",
       "    </tr>\n",
       "    <tr>\n",
       "      <td>2</td>\n",
       "      <td>7034440588</td>\n",
       "      <td>https://saltlakecity.craigslist.org/ctd/d/sand...</td>\n",
       "      <td>salt lake city</td>\n",
       "      <td>https://saltlakecity.craigslist.org</td>\n",
       "      <td>46463</td>\n",
       "      <td>2015.0</td>\n",
       "      <td>gmc</td>\n",
       "      <td>sierra 1500</td>\n",
       "      <td>excellent</td>\n",
       "      <td>NaN</td>\n",
       "      <td>...</td>\n",
       "      <td>4wd</td>\n",
       "      <td>NaN</td>\n",
       "      <td>NaN</td>\n",
       "      <td>white</td>\n",
       "      <td>https://images.craigslist.org/01515_lPvJ9bfbdY...</td>\n",
       "      <td>Drive it home today. Call (Or Text) us now !!C...</td>\n",
       "      <td>NaN</td>\n",
       "      <td>ut</td>\n",
       "      <td>40.5881</td>\n",
       "      <td>-111.884</td>\n",
       "    </tr>\n",
       "    <tr>\n",
       "      <td>3</td>\n",
       "      <td>7034440546</td>\n",
       "      <td>https://saltlakecity.craigslist.org/ctd/d/sand...</td>\n",
       "      <td>salt lake city</td>\n",
       "      <td>https://saltlakecity.craigslist.org</td>\n",
       "      <td>0</td>\n",
       "      <td>2016.0</td>\n",
       "      <td>ford</td>\n",
       "      <td>f-150</td>\n",
       "      <td>excellent</td>\n",
       "      <td>NaN</td>\n",
       "      <td>...</td>\n",
       "      <td>4wd</td>\n",
       "      <td>NaN</td>\n",
       "      <td>NaN</td>\n",
       "      <td>NaN</td>\n",
       "      <td>https://images.craigslist.org/00T0T_6Rjfp3NS4O...</td>\n",
       "      <td>Drive it home today. Call (Or Text) us now !!C...</td>\n",
       "      <td>NaN</td>\n",
       "      <td>ut</td>\n",
       "      <td>40.5881</td>\n",
       "      <td>-111.884</td>\n",
       "    </tr>\n",
       "    <tr>\n",
       "      <td>4</td>\n",
       "      <td>7034406932</td>\n",
       "      <td>https://saltlakecity.craigslist.org/ctd/d/evan...</td>\n",
       "      <td>salt lake city</td>\n",
       "      <td>https://saltlakecity.craigslist.org</td>\n",
       "      <td>49999</td>\n",
       "      <td>2018.0</td>\n",
       "      <td>ford</td>\n",
       "      <td>f-450</td>\n",
       "      <td>NaN</td>\n",
       "      <td>NaN</td>\n",
       "      <td>...</td>\n",
       "      <td>4wd</td>\n",
       "      <td>NaN</td>\n",
       "      <td>pickup</td>\n",
       "      <td>white</td>\n",
       "      <td>https://images.craigslist.org/00W0W_8yIUwRBXXd...</td>\n",
       "      <td>2018 Ford F-350 F350 F 350 SD Lariat Crew Cab ...</td>\n",
       "      <td>NaN</td>\n",
       "      <td>ut</td>\n",
       "      <td>40.3744</td>\n",
       "      <td>-104.694</td>\n",
       "    </tr>\n",
       "  </tbody>\n",
       "</table>\n",
       "<p>5 rows × 25 columns</p>\n",
       "</div>"
      ],
      "text/plain": [
       "           id                                                url  \\\n",
       "0  7034441763  https://saltlakecity.craigslist.org/cto/d/salt...   \n",
       "1  7034440610  https://saltlakecity.craigslist.org/ctd/d/sand...   \n",
       "2  7034440588  https://saltlakecity.craigslist.org/ctd/d/sand...   \n",
       "3  7034440546  https://saltlakecity.craigslist.org/ctd/d/sand...   \n",
       "4  7034406932  https://saltlakecity.craigslist.org/ctd/d/evan...   \n",
       "\n",
       "           region                           region_url  price    year  \\\n",
       "0  salt lake city  https://saltlakecity.craigslist.org  17899  2012.0   \n",
       "1  salt lake city  https://saltlakecity.craigslist.org      0  2016.0   \n",
       "2  salt lake city  https://saltlakecity.craigslist.org  46463  2015.0   \n",
       "3  salt lake city  https://saltlakecity.craigslist.org      0  2016.0   \n",
       "4  salt lake city  https://saltlakecity.craigslist.org  49999  2018.0   \n",
       "\n",
       "  manufacturer        model  condition    cylinders  ... drive     size  \\\n",
       "0   volkswagen       golf r  excellent  4 cylinders  ...   4wd  compact   \n",
       "1         ford        f-150  excellent          NaN  ...   4wd      NaN   \n",
       "2          gmc  sierra 1500  excellent          NaN  ...   4wd      NaN   \n",
       "3         ford        f-150  excellent          NaN  ...   4wd      NaN   \n",
       "4         ford        f-450        NaN          NaN  ...   4wd      NaN   \n",
       "\n",
       "        type paint_color                                          image_url  \\\n",
       "0  hatchback       black  https://images.craigslist.org/00G0G_fTLDWM5Xyv...   \n",
       "1        NaN         NaN  https://images.craigslist.org/00v0v_7Cu0buIofU...   \n",
       "2        NaN       white  https://images.craigslist.org/01515_lPvJ9bfbdY...   \n",
       "3        NaN         NaN  https://images.craigslist.org/00T0T_6Rjfp3NS4O...   \n",
       "4     pickup       white  https://images.craigslist.org/00W0W_8yIUwRBXXd...   \n",
       "\n",
       "                                         description county state      lat  \\\n",
       "0  PRICE REDUCED!   -Garage kept -Low Miles (63K)...    NaN    ut  40.7372   \n",
       "1  Drive it home today. Call (Or Text) us now !!C...    NaN    ut  40.5881   \n",
       "2  Drive it home today. Call (Or Text) us now !!C...    NaN    ut  40.5881   \n",
       "3  Drive it home today. Call (Or Text) us now !!C...    NaN    ut  40.5881   \n",
       "4  2018 Ford F-350 F350 F 350 SD Lariat Crew Cab ...    NaN    ut  40.3744   \n",
       "\n",
       "      long  \n",
       "0 -111.858  \n",
       "1 -111.884  \n",
       "2 -111.884  \n",
       "3 -111.884  \n",
       "4 -104.694  \n",
       "\n",
       "[5 rows x 25 columns]"
      ]
     },
     "execution_count": 5,
     "metadata": {},
     "output_type": "execute_result"
    }
   ],
   "source": [
    "data.head()"
   ]
  },
  {
   "cell_type": "code",
   "execution_count": 6,
   "metadata": {},
   "outputs": [
    {
     "name": "stdout",
     "output_type": "stream",
     "text": [
      "<class 'pandas.core.frame.DataFrame'>\n",
      "RangeIndex: 509577 entries, 0 to 509576\n",
      "Data columns (total 25 columns):\n",
      "id              509577 non-null int64\n",
      "url             509577 non-null object\n",
      "region          509577 non-null object\n",
      "region_url      509577 non-null object\n",
      "price           509577 non-null int64\n",
      "year            508050 non-null float64\n",
      "manufacturer    486813 non-null object\n",
      "model           501588 non-null object\n",
      "condition       277643 non-null object\n",
      "cylinders       309894 non-null object\n",
      "fuel            505592 non-null object\n",
      "odometer        417253 non-null float64\n",
      "title_status    506515 non-null object\n",
      "transmission    505858 non-null object\n",
      "vin             302152 non-null object\n",
      "drive           365434 non-null object\n",
      "size            167574 non-null object\n",
      "type            368046 non-null object\n",
      "paint_color     344871 non-null object\n",
      "image_url       509563 non-null object\n",
      "description     509561 non-null object\n",
      "county          0 non-null float64\n",
      "state           509577 non-null object\n",
      "lat             499285 non-null float64\n",
      "long            499285 non-null float64\n",
      "dtypes: float64(5), int64(2), object(18)\n",
      "memory usage: 97.2+ MB\n",
      "None\n"
     ]
    }
   ],
   "source": [
    "print(data.info())"
   ]
  },
  {
   "cell_type": "code",
   "execution_count": 163,
   "metadata": {},
   "outputs": [
    {
     "data": {
      "text/plain": [
       "id              509577\n",
       "url             509577\n",
       "region             403\n",
       "region_url         413\n",
       "price            17854\n",
       "year               114\n",
       "manufacturer        43\n",
       "model            35852\n",
       "condition            6\n",
       "cylinders            8\n",
       "fuel                 5\n",
       "odometer        119873\n",
       "title_status         6\n",
       "transmission         3\n",
       "vin             180145\n",
       "drive                3\n",
       "size                 4\n",
       "type                13\n",
       "paint_color         12\n",
       "image_url       349468\n",
       "description     427803\n",
       "county               0\n",
       "state               51\n",
       "lat              51488\n",
       "long             51467\n",
       "dtype: int64"
      ]
     },
     "execution_count": 163,
     "metadata": {},
     "output_type": "execute_result"
    }
   ],
   "source": [
    "data.nunique(axis=0)"
   ]
  },
  {
   "cell_type": "code",
   "execution_count": 164,
   "metadata": {},
   "outputs": [
    {
     "data": {
      "text/plain": [
       "id                   0\n",
       "url                  0\n",
       "region               0\n",
       "region_url           0\n",
       "price                0\n",
       "year              1527\n",
       "manufacturer     22764\n",
       "model             7989\n",
       "condition       231934\n",
       "cylinders       199683\n",
       "fuel              3985\n",
       "odometer         92324\n",
       "title_status      3062\n",
       "transmission      3719\n",
       "vin             207425\n",
       "drive           144143\n",
       "size            342003\n",
       "type            141531\n",
       "paint_color     164706\n",
       "image_url           14\n",
       "description         16\n",
       "county          509577\n",
       "state                0\n",
       "lat              10292\n",
       "long             10292\n",
       "dtype: int64"
      ]
     },
     "execution_count": 164,
     "metadata": {},
     "output_type": "execute_result"
    }
   ],
   "source": [
    "data.isnull().sum()"
   ]
  },
  {
   "cell_type": "markdown",
   "metadata": {},
   "source": [
    "- We here have columns that have different kinds of strings which are used for representing the information in them. We have URL and Region URL which contain the craigslist region and the url for that region. \n",
    "- We also, have ID and VIN which uniquely represent the listing as VIN is the Vehicle Identification Number which is unique for each of the vehicle and ID represent the ID generated for each of the listing.\n",
    "- Similar to Region URL we have Image URL which represents the URL for the images.\n",
    "- There is a description field which describes the listed vehicle.\n",
    "- We have the County column which is useless and has been left by mistake and has all of the values missing.\n",
    "- We also have Latitude and Longitude, State, Region which decribes the location of the listing.\n",
    "\n",
    "Using the above information we drop ID, URL, Region_URL, Image_URL, Description, County. We also drop Latitude and Longitude as State and Region are enough for us to know the trends over the given state and region. Using Latitude and Longitude would be overdoing the task as it then would be getting to know the trends for each of the particular location."
   ]
  },
  {
   "cell_type": "code",
   "execution_count": 165,
   "metadata": {
    "scrolled": true
   },
   "outputs": [
    {
     "data": {
      "text/plain": [
       "Index(['id', 'url', 'region', 'region_url', 'price', 'year', 'manufacturer',\n",
       "       'model', 'condition', 'cylinders', 'fuel', 'odometer', 'title_status',\n",
       "       'transmission', 'vin', 'drive', 'size', 'type', 'paint_color',\n",
       "       'image_url', 'description', 'county', 'state', 'lat', 'long'],\n",
       "      dtype='object')"
      ]
     },
     "execution_count": 165,
     "metadata": {},
     "output_type": "execute_result"
    }
   ],
   "source": [
    "data.columns"
   ]
  },
  {
   "cell_type": "code",
   "execution_count": 166,
   "metadata": {},
   "outputs": [],
   "source": [
    "data = data.drop(columns=[\"id\",\"url\",\"region_url\",\"vin\",\"image_url\",\"description\",\"county\",\"lat\",\"long\"])"
   ]
  },
  {
   "cell_type": "code",
   "execution_count": 167,
   "metadata": {},
   "outputs": [
    {
     "data": {
      "text/plain": [
       "Index(['region', 'price', 'year', 'manufacturer', 'model', 'condition',\n",
       "       'cylinders', 'fuel', 'odometer', 'title_status', 'transmission',\n",
       "       'drive', 'size', 'type', 'paint_color', 'state'],\n",
       "      dtype='object')"
      ]
     },
     "execution_count": 167,
     "metadata": {},
     "output_type": "execute_result"
    }
   ],
   "source": [
    "data.columns"
   ]
  },
  {
   "cell_type": "code",
   "execution_count": 168,
   "metadata": {},
   "outputs": [
    {
     "data": {
      "image/png": "[encoded data removed]",
      "text/plain": [
       "<Figure size 432x288 with 1 Axes>"
      ]
     },
     "metadata": {
      "needs_background": "light"
     },
     "output_type": "display_data"
    }
   ],
   "source": [
    "# understanding the mean price by condition\n",
    "vehicles_by_condition = data.groupby('condition').mean()\n",
    "vehicles_by_condition = vehicles_by_condition.reset_index()\n",
    "vehicles_by_condition = vehicles_by_condition[['condition', 'price']]\n",
    "plt.bar(vehicles_by_condition['condition'], vehicles_by_condition['price'])\n",
    "plt.xlabel('Condition')\n",
    "plt.ylabel('Price')\n",
    "plt.title('Mean price for different conditions')\n",
    "plt.show()"
   ]
  },
  {
   "cell_type": "code",
   "execution_count": 169,
   "metadata": {},
   "outputs": [
    {
     "data": {
      "image/png": "[encoded data removed]",
      "text/plain": [
       "<Figure size 432x288 with 1 Axes>"
      ]
     },
     "metadata": {
      "needs_background": "light"
     },
     "output_type": "display_data"
    }
   ],
   "source": [
    "# understanding the mean price by paint color\n",
    "vehicles_by_paint_color = data.groupby('paint_color').mean()\n",
    "vehicles_by_paint_color = vehicles_by_paint_color.reset_index()\n",
    "vehicles_by_paint_color = vehicles_by_paint_color[['paint_color', 'price']]\n",
    "vehicles_by_paint_color = vehicles_by_paint_color.sort_values('price').reset_index(drop = True)\n",
    "plt.barh(vehicles_by_paint_color['paint_color'], vehicles_by_paint_color['price'])\n",
    "plt.ylabel('Paint Color')\n",
    "plt.xlabel('Price')\n",
    "plt.title('Mean price for different paint colors')\n",
    "plt.show()"
   ]
  },
  {
   "cell_type": "markdown",
   "metadata": {},
   "source": [
    "We further analyze the missing data in the columns and remove all the columns which have more than 40% of the data missing. This results in dropping the \"condition\", \"Cylinders\" and \"size\" column"
   ]
  },
  {
   "cell_type": "code",
   "execution_count": 170,
   "metadata": {},
   "outputs": [],
   "source": [
    "missing = data.isnull().sum()"
   ]
  },
  {
   "cell_type": "code",
   "execution_count": 171,
   "metadata": {},
   "outputs": [],
   "source": [
    "def filter_missing(missing,data,threshold = .4):\n",
    "    col_pass = []\n",
    "    for i in missing.keys():\n",
    "        if missing[i]/data.shape[0]<threshold:\n",
    "            col_pass.append(i)\n",
    "    return col_pass"
   ]
  },
  {
   "cell_type": "code",
   "execution_count": 172,
   "metadata": {},
   "outputs": [],
   "source": [
    "data = data[filter_missing(missing,data)]"
   ]
  },
  {
   "cell_type": "code",
   "execution_count": 173,
   "metadata": {},
   "outputs": [
    {
     "data": {
      "text/plain": [
       "Index(['region', 'price', 'year', 'manufacturer', 'model', 'cylinders', 'fuel',\n",
       "       'odometer', 'title_status', 'transmission', 'drive', 'type',\n",
       "       'paint_color', 'state'],\n",
       "      dtype='object')"
      ]
     },
     "execution_count": 173,
     "metadata": {},
     "output_type": "execute_result"
    }
   ],
   "source": [
    "data.columns"
   ]
  },
  {
   "cell_type": "code",
   "execution_count": 174,
   "metadata": {},
   "outputs": [
    {
     "data": {
      "text/plain": [
       "(509577, 14)"
      ]
     },
     "execution_count": 174,
     "metadata": {},
     "output_type": "execute_result"
    }
   ],
   "source": [
    "data.shape"
   ]
  },
  {
   "cell_type": "code",
   "execution_count": 175,
   "metadata": {},
   "outputs": [
    {
     "data": {
      "image/png": "[encoded data removed]",
      "text/plain": [
       "<Figure size 432x288 with 1 Axes>"
      ]
     },
     "metadata": {
      "needs_background": "light"
     },
     "output_type": "display_data"
    }
   ],
   "source": [
    "plt.boxplot(data[\"price\"],vert=False)\n",
    "plt.yticks([1],[\"Price\"])\n",
    "plt.xlabel(\"Price Value\")\n",
    "plt.title(\"The distribution of Prices of the listed cars\")\n",
    "plt.show()"
   ]
  },
  {
   "cell_type": "markdown",
   "metadata": {},
   "source": [
    "The boxplot shows that there are many outlier points for the price column, as well as there are many points corresponding to 0 valued prices. Thus, we replace the ones with 0 price by the median of price columns. \n",
    "\n",
    "After replacing the 0 valued prices, we remove the ones which are outliers by considering the Interquantile Range."
   ]
  },
  {
   "cell_type": "code",
   "execution_count": 176,
   "metadata": {},
   "outputs": [],
   "source": [
    "data['price'] = data['price'].replace(0,data['price'].median())"
   ]
  },
  {
   "cell_type": "code",
   "execution_count": 177,
   "metadata": {},
   "outputs": [
    {
     "data": {
      "text/plain": [
       "12255.0"
      ]
     },
     "execution_count": 177,
     "metadata": {},
     "output_type": "execute_result"
    }
   ],
   "source": [
    "price_desc = data['price'].describe()\n",
    "price_iqr = price_desc[\"75%\"] - price_desc[\"25%\"]\n",
    "price_iqr"
   ]
  },
  {
   "cell_type": "code",
   "execution_count": 178,
   "metadata": {},
   "outputs": [],
   "source": [
    "price_upper_limit = price_desc[\"75%\"] + (1.5 * price_iqr)\n",
    "price_lower_limit = price_desc[\"25%\"] - (1.5 * price_iqr)"
   ]
  },
  {
   "cell_type": "code",
   "execution_count": 179,
   "metadata": {},
   "outputs": [
    {
     "data": {
      "text/plain": [
       "(488479, 14)"
      ]
     },
     "execution_count": 179,
     "metadata": {},
     "output_type": "execute_result"
    }
   ],
   "source": [
    "data = data[data[\"price\"]<=price_upper_limit]\n",
    "data = data[data[\"price\"]>=price_lower_limit]\n",
    "data.shape"
   ]
  },
  {
   "cell_type": "code",
   "execution_count": 180,
   "metadata": {},
   "outputs": [
    {
     "data": {
      "image/png": "[encoded data removed]",
      "text/plain": [
       "<Figure size 432x288 with 1 Axes>"
      ]
     },
     "metadata": {
      "needs_background": "light"
     },
     "output_type": "display_data"
    }
   ],
   "source": [
    "plt.boxplot(data[\"price\"],vert=False)\n",
    "plt.yticks([1],[\"Price\"])\n",
    "plt.xlabel(\"Price Value\")\n",
    "plt.title(\"The distribution of Prices of the listed cars\")\n",
    "plt.show()"
   ]
  },
  {
   "cell_type": "markdown",
   "metadata": {},
   "source": [
    "Also, we have Odometer readings which seem to have many outlier points. We remove those as well by a similar logic considering the Interquantile Range."
   ]
  },
  {
   "cell_type": "code",
   "execution_count": 181,
   "metadata": {},
   "outputs": [
    {
     "data": {
      "text/plain": [
       "87343.0"
      ]
     },
     "execution_count": 181,
     "metadata": {},
     "output_type": "execute_result"
    }
   ],
   "source": [
    "odo_desc = data['odometer'].describe()\n",
    "odo_iqr = odo_desc[\"75%\"] - odo_desc[\"25%\"]\n",
    "odo_iqr"
   ]
  },
  {
   "cell_type": "code",
   "execution_count": 182,
   "metadata": {},
   "outputs": [],
   "source": [
    "odo_upper_limit = odo_desc[\"75%\"] + (1.5 * odo_iqr)\n",
    "odo_lower_limit = odo_desc[\"25%\"] - (1.5 * odo_iqr)"
   ]
  },
  {
   "cell_type": "code",
   "execution_count": 183,
   "metadata": {},
   "outputs": [
    {
     "data": {
      "text/plain": [
       "(488479, 14)"
      ]
     },
     "execution_count": 183,
     "metadata": {},
     "output_type": "execute_result"
    }
   ],
   "source": [
    "data = data[data[\"price\"]<=odo_upper_limit]\n",
    "data = data[data[\"price\"]>=odo_lower_limit]\n",
    "data.shape"
   ]
  },
  {
   "cell_type": "markdown",
   "metadata": {},
   "source": [
    "We now remove all the rows with year greater than 2020 as we cannot have any years greater than 2020."
   ]
  },
  {
   "cell_type": "code",
   "execution_count": 184,
   "metadata": {},
   "outputs": [
    {
     "data": {
      "text/plain": [
       "21"
      ]
     },
     "execution_count": 184,
     "metadata": {},
     "output_type": "execute_result"
    }
   ],
   "source": [
    "(data[\"year\"]>2020).sum()"
   ]
  },
  {
   "cell_type": "code",
   "execution_count": 185,
   "metadata": {},
   "outputs": [
    {
     "data": {
      "text/plain": [
       "(487541, 14)"
      ]
     },
     "execution_count": 185,
     "metadata": {},
     "output_type": "execute_result"
    }
   ],
   "source": [
    "data = data[data[\"year\"]<=2020]\n",
    "data.shape"
   ]
  },
  {
   "cell_type": "code",
   "execution_count": 186,
   "metadata": {
    "scrolled": true
   },
   "outputs": [
    {
     "data": {
      "image/png": "[encoded data removed]",
      "text/plain": [
       "<Figure size 1440x360 with 1 Axes>"
      ]
     },
     "metadata": {
      "needs_background": "light"
     },
     "output_type": "display_data"
    }
   ],
   "source": [
    "plt.figure(figsize=(20,5))\n",
    "plt.hist(data[\"year\"],bins=len(data[\"year\"].unique()))\n",
    "plt.xlabel(\"Years\")\n",
    "plt.xticks(np.arange(min(data[\"year\"]), max(data[\"year\"])+1, 5.0))\n",
    "plt.ylabel(\"Number of listings\")\n",
    "plt.title(\"Number of listings for year\")\n",
    "plt.show()"
   ]
  },
  {
   "cell_type": "markdown",
   "metadata": {},
   "source": [
    "Most the year values are after 1985. So, we only keep rows with year greater than 1985."
   ]
  },
  {
   "cell_type": "code",
   "execution_count": 187,
   "metadata": {},
   "outputs": [
    {
     "data": {
      "text/plain": [
       "(478591, 14)"
      ]
     },
     "execution_count": 187,
     "metadata": {},
     "output_type": "execute_result"
    }
   ],
   "source": [
    "data = data[data[\"year\"]>=1985]\n",
    "data.shape"
   ]
  },
  {
   "cell_type": "code",
   "execution_count": 188,
   "metadata": {},
   "outputs": [
    {
     "data": {
      "image/png": "[encoded data removed]",
      "text/plain": [
       "<Figure size 1440x360 with 1 Axes>"
      ]
     },
     "metadata": {
      "needs_background": "light"
     },
     "output_type": "display_data"
    }
   ],
   "source": [
    "plt.figure(figsize=(20,5))\n",
    "plt.hist(data[\"year\"],bins=len(data[\"year\"].unique()))\n",
    "plt.xlabel(\"Years\")\n",
    "plt.xticks(np.arange(min(data[\"year\"]), max(data[\"year\"])+1, 5.0))\n",
    "plt.ylabel(\"Number of listings\")\n",
    "plt.title(\"Number of listings for year\")\n",
    "plt.show()"
   ]
  },
  {
   "cell_type": "markdown",
   "metadata": {},
   "source": [
    "Now that we have all the columns having more than 40% of the data missing, we now have two options to move forward.\n",
    "1. Drop all the rows with missing values\n",
    "2. Impute the missing values using some kind of imputation technique."
   ]
  },
  {
   "cell_type": "markdown",
   "metadata": {},
   "source": [
    "Further we classify each of the column into 3 categories:\n",
    "1. The ones to be Target encoded\n",
    "2. The ones that are Categorical and need to be one hot encoded\n",
    "3. Continuous columns that are to be scaled\n",
    "Note that Year doesn't belong to any of those being an ordinal feature"
   ]
  },
  {
   "cell_type": "code",
   "execution_count": 189,
   "metadata": {},
   "outputs": [],
   "source": [
    "target_encoding_columns = [\"region\",\"state\", 'model','manufacturer']\n",
    "contiuous_columns_to_be_scaled = [\"odometer\"]\n",
    "categorical_columns = ['cylinders', 'fuel','title_status', 'transmission', \n",
    "                       'drive', 'type','paint_color']"
   ]
  },
  {
   "cell_type": "markdown",
   "metadata": {},
   "source": [
    "We decide to apply target encoding to four of the column: Region, State, Model, Manufacture. This is with a logic that we have an average price for each Region, each State, each Model and each Manufacturer.\n",
    "\n",
    "The is a continuous column \"Odometer\" which we need to scale.\n",
    "\n",
    "\"Year\" is an ordinal variable which we don't scale.\n",
    "\n",
    "The rest of the columns are categorical which we One-Hot Encode"
   ]
  },
  {
   "cell_type": "code",
   "execution_count": 190,
   "metadata": {},
   "outputs": [
    {
     "name": "stdout",
     "output_type": "stream",
     "text": [
      "cylinders has 9 values\n",
      "fuel has 6 values\n",
      "title_status has 7 values\n",
      "transmission has 4 values\n",
      "drive has 4 values\n",
      "type has 14 values\n",
      "paint_color has 13 values\n"
     ]
    }
   ],
   "source": [
    "for i in categorical_columns:\n",
    "    print(i + \" has \" + str(len(data[i].unique())) + \" values\")"
   ]
  },
  {
   "cell_type": "markdown",
   "metadata": {},
   "source": [
    "#### 1. When we drop all the rows with missing values"
   ]
  },
  {
   "cell_type": "code",
   "execution_count": 191,
   "metadata": {},
   "outputs": [],
   "source": [
    "data_dropped_NA = data.dropna()"
   ]
  },
  {
   "cell_type": "code",
   "execution_count": 192,
   "metadata": {},
   "outputs": [
    {
     "data": {
      "text/plain": [
       "(179492, 14)"
      ]
     },
     "execution_count": 192,
     "metadata": {},
     "output_type": "execute_result"
    }
   ],
   "source": [
    "data_dropped_NA.shape"
   ]
  },
  {
   "cell_type": "markdown",
   "metadata": {},
   "source": [
    "Dropping the rows with NA values removes a lot of rows(almost 65% of the data) which would hamper the building of a generalizable model and hence, we shift to imputing missing values. We tried implmenting Regression Models but we then realised it wasn't possible to generalize and hence shifted to imputing missing values."
   ]
  },
  {
   "cell_type": "markdown",
   "metadata": {},
   "source": [
    "#### 2. When we drop all the rows with missing values"
   ]
  },
  {
   "cell_type": "markdown",
   "metadata": {},
   "source": [
    "- We impute the columns \"Model\", \"Manufacturer\" and \"Paint Color\" with \"UNK\" when we have missing values.\n",
    "- For the other columns, we impute the missing values with mean in case continuous columns and most repeting value in case of categorical columns.\n",
    "- We fill the missing years with the most repeting year."
   ]
  },
  {
   "cell_type": "code",
   "execution_count": 198,
   "metadata": {},
   "outputs": [],
   "source": [
    "for i in data.drop(['year','model','manufacturer','paint_color'],axis=1).columns:\n",
    "    if data[i].dtype=='float':\n",
    "        data[i]=data[i].fillna(data[i].mean())\n",
    "    if data[i].dtype=='object':\n",
    "        data[i]=data[i].fillna(data[i].mode()[0])\n",
    "data['year']=data['year'].fillna(data['year'].mode()[0])\n",
    "data['model']=data['model'].fillna('UNK')\n",
    "data['manufacturer']=data['manufacturer'].fillna('UNK')\n",
    "data['paint_color']=data['paint_color'].fillna('UNK')"
   ]
  },
  {
   "cell_type": "code",
   "execution_count": 199,
   "metadata": {},
   "outputs": [],
   "source": [
    "y = data[\"price\"]\n",
    "X = data.drop(\"price\",axis=1)"
   ]
  },
  {
   "cell_type": "markdown",
   "metadata": {},
   "source": [
    "### Basic Model (Using only Numeric Features)"
   ]
  },
  {
   "cell_type": "code",
   "execution_count": 200,
   "metadata": {},
   "outputs": [],
   "source": [
    "X_1 = data[[\"year\",\"odometer\"]]\n",
    "X_train_val, X_test, y_train_val, y_test = train_test_split(X_1, y, test_size=0.20, random_state=0)\n",
    "X_train, X_val, y_train, y_val = train_test_split(X_train_val, y_train_val, test_size=0.20, random_state=0)"
   ]
  },
  {
   "cell_type": "code",
   "execution_count": 201,
   "metadata": {},
   "outputs": [],
   "source": [
    "only_scaling = make_pipeline(StandardScaler())\n",
    "processing_pipe = make_column_transformer((only_scaling, contiuous_columns_to_be_scaled),\n",
    "                                         remainder=\"passthrough\")\n",
    "pipe = Pipeline([('preprocess', processing_pipe),\n",
    "                 ('regression', LinearRegression())])"
   ]
  },
  {
   "cell_type": "code",
   "execution_count": 202,
   "metadata": {},
   "outputs": [
    {
     "data": {
      "text/plain": [
       "-49460855.33777468"
      ]
     },
     "execution_count": 202,
     "metadata": {},
     "output_type": "execute_result"
    }
   ],
   "source": [
    "score = cross_val_score(pipe, X_train_val, y_train_val, cv=5,scoring=\"neg_mean_squared_error\")\n",
    "np.mean(score)"
   ]
  },
  {
   "cell_type": "code",
   "execution_count": 203,
   "metadata": {},
   "outputs": [
    {
     "data": {
      "text/plain": [
       "0.27327886701233817"
      ]
     },
     "execution_count": 203,
     "metadata": {},
     "output_type": "execute_result"
    }
   ],
   "source": [
    "score = cross_val_score(pipe, X_train_val, y_train_val, cv=5)\n",
    "np.mean(score)"
   ]
  },
  {
   "cell_type": "code",
   "execution_count": 204,
   "metadata": {},
   "outputs": [],
   "source": [
    "param_grid_ridge = [{'regressor__alpha': np.logspace(-5, 3, 15)}]\n",
    "param_grid_lasso = [{'regressor__alpha': np.logspace(-5, 3, 15)}]\n",
    "param_grid_elastic = [{'regressor__l1_ratio':np.logspace(-5,1,15)}]"
   ]
  },
  {
   "cell_type": "code",
   "execution_count": 205,
   "metadata": {},
   "outputs": [
    {
     "data": {
      "text/plain": [
       "0.26591221124207476"
      ]
     },
     "execution_count": 205,
     "metadata": {},
     "output_type": "execute_result"
    }
   ],
   "source": [
    "pipe = Pipeline([('preprocess', processing_pipe),\n",
    "                 ('regressor', Ridge())])\n",
    "grid_ridge = GridSearchCV(pipe, param_grid_ridge)\n",
    "grid_ridge.fit(X_train_val, y_train_val)\n",
    "best_score = grid_ridge.score(X_test, y_test)\n",
    "best_score"
   ]
  },
  {
   "cell_type": "code",
   "execution_count": 206,
   "metadata": {},
   "outputs": [
    {
     "data": {
      "text/plain": [
       "0.2659328229818777"
      ]
     },
     "execution_count": 206,
     "metadata": {},
     "output_type": "execute_result"
    }
   ],
   "source": [
    "pipe = Pipeline([('preprocess', processing_pipe),\n",
    "                 ('regressor', Lasso())])\n",
    "grid_lasso = GridSearchCV(pipe, param_grid_lasso)\n",
    "grid_lasso.fit(X_train_val, y_train_val)\n",
    "best_score = grid_lasso.score(X_test, y_test)\n",
    "best_score"
   ]
  },
  {
   "cell_type": "code",
   "execution_count": 207,
   "metadata": {},
   "outputs": [
    {
     "data": {
      "text/plain": [
       "0.2663595813159447"
      ]
     },
     "execution_count": 207,
     "metadata": {},
     "output_type": "execute_result"
    }
   ],
   "source": [
    "pipe = Pipeline([('preprocess', processing_pipe),\n",
    "                 ('regressor', ElasticNet())])\n",
    "grid_elastic = GridSearchCV(pipe, param_grid_elastic)\n",
    "grid_elastic.fit(X_train_val, y_train_val)\n",
    "best_score = grid_elastic.score(X_test, y_test)\n",
    "best_score"
   ]
  },
  {
   "cell_type": "markdown",
   "metadata": {},
   "source": [
    "### Using categorical Features along with Numerical ones"
   ]
  },
  {
   "cell_type": "markdown",
   "metadata": {},
   "source": [
    "Making a pipeline for preprocessing categorical features and continous features"
   ]
  },
  {
   "cell_type": "code",
   "execution_count": 208,
   "metadata": {},
   "outputs": [],
   "source": [
    "target_scaling = make_pipeline(TargetEncoder(), StandardScaler())\n",
    "only_scaling = make_pipeline(StandardScaler())\n",
    "categorical_onehot = make_pipeline(OneHotEncoder(handle_unknown=\"ignore\"))\n",
    "processing_pipe = make_column_transformer((target_scaling, target_encoding_columns),\n",
    "                                          (only_scaling, contiuous_columns_to_be_scaled),\n",
    "                                          (categorical_onehot,categorical_columns),\n",
    "                                         remainder=\"passthrough\")"
   ]
  },
  {
   "cell_type": "markdown",
   "metadata": {},
   "source": [
    "### Regression Models for whole Dataset"
   ]
  },
  {
   "cell_type": "code",
   "execution_count": 209,
   "metadata": {},
   "outputs": [],
   "source": [
    "X_train_val, X_test, y_train_val, y_test = train_test_split(X, y, test_size=0.20, random_state=0)\n",
    "X_train, X_val, y_train, y_val = train_test_split(X_train_val, y_train_val, test_size=0.20, random_state=0)"
   ]
  },
  {
   "cell_type": "code",
   "execution_count": 210,
   "metadata": {},
   "outputs": [
    {
     "data": {
      "text/plain": [
       "-28827782.404364668"
      ]
     },
     "execution_count": 210,
     "metadata": {},
     "output_type": "execute_result"
    }
   ],
   "source": [
    "pipe = Pipeline([('preprocess', processing_pipe),\n",
    "                 ('regression', LinearRegression())])\n",
    "score = cross_val_score(pipe, X_train_val, y_train_val, cv=5,scoring=\"neg_mean_squared_error\")\n",
    "np.mean(score)"
   ]
  },
  {
   "cell_type": "code",
   "execution_count": 211,
   "metadata": {},
   "outputs": [
    {
     "data": {
      "text/plain": [
       "0.5764384588232787"
      ]
     },
     "execution_count": 211,
     "metadata": {},
     "output_type": "execute_result"
    }
   ],
   "source": [
    "pipe = Pipeline([('preprocess', processing_pipe),\n",
    "                 ('regression', LinearRegression())])\n",
    "score = cross_val_score(pipe, X_train_val, y_train_val, cv=5)\n",
    "np.mean(score)"
   ]
  },
  {
   "cell_type": "markdown",
   "metadata": {},
   "source": [
    "From the Linear Regression model, we can say that it takes a lot of time to learn the model given the data size and cross validating it even takes more time. \n",
    "\n",
    "Thus we use sample size of 10,20,30,40 and 50% to find the best models out of the following ones and then tune the best model by implementing a grid search over different hyperparameters.\n",
    "1. Linear Regression\n",
    "2. Stochastic Gradient Descent Regressor\n",
    "3. Decision Tree \n",
    "4. Gradient Boosting Regression\n",
    "5. XGBoost Regression\n",
    "6. Random Forest\n",
    "\n",
    "- For Gradient Boosting Regression, we implement two versions (one with maximum depth of 5 and another with maximum depth of 7)\n",
    "- For XGBoost model also, we implement 2 versions. 1 with the deafult setting of hyperparameters and another with randomly decided setting"
   ]
  },
  {
   "cell_type": "markdown",
   "metadata": {},
   "source": [
    "## Subsample (10%)"
   ]
  },
  {
   "cell_type": "code",
   "execution_count": 212,
   "metadata": {},
   "outputs": [
    {
     "name": "stdout",
     "output_type": "stream",
     "text": [
      "(47859, 14)\n"
     ]
    }
   ],
   "source": [
    "# randomly subsampling \n",
    "sample1 = data.sample(frac=0.1, random_state=1)\n",
    "print(sample1.shape)\n",
    "y = sample1[['price']] # label\n",
    "X = sample1.drop(columns = ['price']) # features"
   ]
  },
  {
   "cell_type": "code",
   "execution_count": 213,
   "metadata": {},
   "outputs": [],
   "source": [
    "X_train_val, X_test, y_train_val, y_test = train_test_split(X, y, test_size=0.20, random_state=0)\n",
    "X_train, X_val, y_train, y_val = train_test_split(X_train_val, y_train_val, test_size=0.20, random_state=0)"
   ]
  },
  {
   "cell_type": "code",
   "execution_count": 214,
   "metadata": {},
   "outputs": [
    {
     "data": {
      "text/plain": [
       "-32781083.558821786"
      ]
     },
     "execution_count": 214,
     "metadata": {},
     "output_type": "execute_result"
    }
   ],
   "source": [
    "pipe = Pipeline([('preprocess', processing_pipe),\n",
    "                 ('regression', LinearRegression())])\n",
    "score = cross_val_score(pipe, X_train_val, y_train_val, cv=5,scoring=\"neg_mean_squared_error\")\n",
    "np.mean(score)"
   ]
  },
  {
   "cell_type": "code",
   "execution_count": 215,
   "metadata": {},
   "outputs": [
    {
     "data": {
      "text/plain": [
       "0.5211285876721928"
      ]
     },
     "execution_count": 215,
     "metadata": {},
     "output_type": "execute_result"
    }
   ],
   "source": [
    "pipe = Pipeline([('preprocess', processing_pipe),\n",
    "                 ('regression', LinearRegression())])\n",
    "score = cross_val_score(pipe, X_train_val, y_train_val, cv=5)\n",
    "np.mean(score)"
   ]
  },
  {
   "cell_type": "code",
   "execution_count": 216,
   "metadata": {
    "scrolled": false
   },
   "outputs": [
    {
     "name": "stdout",
     "output_type": "stream",
     "text": [
      "-7.358670158813135e+21\n"
     ]
    }
   ],
   "source": [
    "# Stochastic Gradient Descent \n",
    "pipe = make_pipeline(processing_pipe, SGDRegressor())\n",
    "score = cross_val_score(pipe, X_train_val, y_train_val, cv = 5)\n",
    "print(np.mean(score))"
   ]
  },
  {
   "cell_type": "code",
   "execution_count": 217,
   "metadata": {},
   "outputs": [
    {
     "name": "stdout",
     "output_type": "stream",
     "text": [
      "0.5539711811226231\n"
     ]
    }
   ],
   "source": [
    "# Decision Tree \n",
    "pipe = make_pipeline(processing_pipe, DecisionTreeRegressor(max_depth = 7))\n",
    "score = cross_val_score(pipe, X_train_val, y_train_val, cv = 5)\n",
    "print(np.mean(score))"
   ]
  },
  {
   "cell_type": "code",
   "execution_count": 218,
   "metadata": {},
   "outputs": [
    {
     "name": "stdout",
     "output_type": "stream",
     "text": [
      "0.6462138376125792\n"
     ]
    }
   ],
   "source": [
    "# Gradient Boosting Regression\n",
    "pipe = make_pipeline(processing_pipe, GradientBoostingRegressor(max_depth = 5))\n",
    "score = cross_val_score(pipe, X_train_val, y_train_val, cv = 5)\n",
    "print(np.mean(score))"
   ]
  },
  {
   "cell_type": "code",
   "execution_count": 219,
   "metadata": {},
   "outputs": [
    {
     "name": "stdout",
     "output_type": "stream",
     "text": [
      "0.6649037412907189\n"
     ]
    }
   ],
   "source": [
    "# Gradient Boosting Regression\n",
    "pipe = make_pipeline(processing_pipe, GradientBoostingRegressor(max_depth = 7))\n",
    "score = cross_val_score(pipe, X_train_val, y_train_val, cv = 5)\n",
    "print(np.mean(score))"
   ]
  },
  {
   "cell_type": "code",
   "execution_count": 220,
   "metadata": {},
   "outputs": [
    {
     "name": "stdout",
     "output_type": "stream",
     "text": [
      "0.6692412624682891\n"
     ]
    }
   ],
   "source": [
    "# XGBoost Regression\n",
    "xg_reg = XGBRegressor()\n",
    "pipe = make_pipeline(processing_pipe, xg_reg)\n",
    "score = cross_val_score(pipe, X_train_val, y_train_val, cv = 5)\n",
    "print(np.mean(score))"
   ]
  },
  {
   "cell_type": "code",
   "execution_count": 221,
   "metadata": {},
   "outputs": [
    {
     "name": "stdout",
     "output_type": "stream",
     "text": [
      "0.6758496580181348\n"
     ]
    }
   ],
   "source": [
    "xg_reg = XGBRegressor(objective ='reg:squarederror', colsample_bytree = 0.3, learning_rate = 0.1,\n",
    "                max_depth = 50, alpha = 10, n_estimators = 50)\n",
    "pipe = make_pipeline(processing_pipe, xg_reg)\n",
    "score = cross_val_score(pipe, X_train_val, y_train_val, cv = 5)\n",
    "print(np.mean(score))"
   ]
  },
  {
   "cell_type": "code",
   "execution_count": 222,
   "metadata": {},
   "outputs": [
    {
     "name": "stdout",
     "output_type": "stream",
     "text": [
      "0.5799041778086282\n"
     ]
    }
   ],
   "source": [
    "# Random Forest\n",
    "pipe = make_pipeline(processing_pipe, RandomForestRegressor(max_depth = 7))\n",
    "score = cross_val_score(pipe, X_train_val, y_train_val, cv = 5)\n",
    "print(np.mean(score))"
   ]
  },
  {
   "cell_type": "markdown",
   "metadata": {},
   "source": [
    "## SubSample (20%)"
   ]
  },
  {
   "cell_type": "code",
   "execution_count": 223,
   "metadata": {},
   "outputs": [
    {
     "name": "stdout",
     "output_type": "stream",
     "text": [
      "(95718, 14)\n"
     ]
    }
   ],
   "source": [
    "# randomly subsampling \n",
    "sample1 = data.sample(frac=0.2, random_state=1)\n",
    "print(sample1.shape)\n",
    "# splitting the data into X (features) and y (i.e. label)\n",
    "y = sample1[['price']] # label\n",
    "X = sample1.drop(columns = ['price']) # features"
   ]
  },
  {
   "cell_type": "code",
   "execution_count": 224,
   "metadata": {},
   "outputs": [],
   "source": [
    "X_train_val, X_test, y_train_val, y_test = train_test_split(X, y, test_size=0.20, random_state=0)\n",
    "X_train, X_val, y_train, y_val = train_test_split(X_train_val, y_train_val, test_size=0.20, random_state=0)"
   ]
  },
  {
   "cell_type": "code",
   "execution_count": 225,
   "metadata": {},
   "outputs": [
    {
     "data": {
      "text/plain": [
       "-31131057.526327483"
      ]
     },
     "execution_count": 225,
     "metadata": {},
     "output_type": "execute_result"
    }
   ],
   "source": [
    "pipe = Pipeline([('preprocess', processing_pipe),\n",
    "                 ('regression', LinearRegression())])\n",
    "score = cross_val_score(pipe, X_train_val, y_train_val, cv=5,scoring=\"neg_mean_squared_error\")\n",
    "np.mean(score)"
   ]
  },
  {
   "cell_type": "code",
   "execution_count": 226,
   "metadata": {},
   "outputs": [
    {
     "data": {
      "text/plain": [
       "0.541863657346782"
      ]
     },
     "execution_count": 226,
     "metadata": {},
     "output_type": "execute_result"
    }
   ],
   "source": [
    "pipe = Pipeline([('preprocess', processing_pipe),\n",
    "                 ('regression', LinearRegression())])\n",
    "score = cross_val_score(pipe, X_train_val, y_train_val, cv=5)\n",
    "np.mean(score)"
   ]
  },
  {
   "cell_type": "code",
   "execution_count": 227,
   "metadata": {
    "scrolled": false
   },
   "outputs": [
    {
     "name": "stdout",
     "output_type": "stream",
     "text": [
      "-4.524949085033409e+21\n"
     ]
    }
   ],
   "source": [
    "# Stochastic Gradient Descent \n",
    "pipe = make_pipeline(processing_pipe, SGDRegressor())\n",
    "score = cross_val_score(pipe, X_train_val, y_train_val, cv = 5)\n",
    "print(np.mean(score))"
   ]
  },
  {
   "cell_type": "code",
   "execution_count": 228,
   "metadata": {},
   "outputs": [
    {
     "name": "stdout",
     "output_type": "stream",
     "text": [
      "0.5764613542344728\n"
     ]
    }
   ],
   "source": [
    "# Decision Tree \n",
    "pipe = make_pipeline(processing_pipe, DecisionTreeRegressor(max_depth = 7))\n",
    "score = cross_val_score(pipe, X_train_val, y_train_val, cv = 5)\n",
    "print(np.mean(score))"
   ]
  },
  {
   "cell_type": "code",
   "execution_count": 229,
   "metadata": {},
   "outputs": [
    {
     "name": "stdout",
     "output_type": "stream",
     "text": [
      "0.6648161704960778\n"
     ]
    }
   ],
   "source": [
    "# Gradient Boosting Regression\n",
    "pipe = make_pipeline(processing_pipe, GradientBoostingRegressor(max_depth = 5))\n",
    "score = cross_val_score(pipe, X_train_val, y_train_val, cv = 5)\n",
    "print(np.mean(score))"
   ]
  },
  {
   "cell_type": "code",
   "execution_count": 230,
   "metadata": {},
   "outputs": [
    {
     "name": "stdout",
     "output_type": "stream",
     "text": [
      "0.6884142902653357\n"
     ]
    }
   ],
   "source": [
    "# Gradient Boosting Regression\n",
    "pipe = make_pipeline(processing_pipe, GradientBoostingRegressor(max_depth = 7))\n",
    "score = cross_val_score(pipe, X_train_val, y_train_val, cv = 5)\n",
    "print(np.mean(score))"
   ]
  },
  {
   "cell_type": "code",
   "execution_count": 231,
   "metadata": {},
   "outputs": [
    {
     "name": "stdout",
     "output_type": "stream",
     "text": [
      "0.6978206659765077\n"
     ]
    }
   ],
   "source": [
    "xg_reg = XGBRegressor()\n",
    "pipe = make_pipeline(processing_pipe, xg_reg)\n",
    "score = cross_val_score(pipe, X_train_val, y_train_val, cv = 5)\n",
    "print(np.mean(score))"
   ]
  },
  {
   "cell_type": "code",
   "execution_count": 232,
   "metadata": {},
   "outputs": [
    {
     "name": "stdout",
     "output_type": "stream",
     "text": [
      "0.718828636692471\n"
     ]
    }
   ],
   "source": [
    "xg_reg = XGBRegressor(objective ='reg:squarederror', colsample_bytree = 0.3, learning_rate = 0.1,\n",
    "                max_depth = 50, alpha = 10, n_estimators = 50)\n",
    "pipe = make_pipeline(processing_pipe, xg_reg)\n",
    "score = cross_val_score(pipe, X_train_val, y_train_val, cv = 5)\n",
    "print(np.mean(score))"
   ]
  },
  {
   "cell_type": "code",
   "execution_count": 233,
   "metadata": {},
   "outputs": [
    {
     "name": "stdout",
     "output_type": "stream",
     "text": [
      "0.6006666006330691\n"
     ]
    }
   ],
   "source": [
    "pipe = make_pipeline(processing_pipe, RandomForestRegressor(max_depth = 7))\n",
    "score = cross_val_score(pipe, X_train_val, y_train_val, cv = 5)\n",
    "print(np.mean(score))"
   ]
  },
  {
   "cell_type": "markdown",
   "metadata": {},
   "source": [
    "## SubSample (30%)"
   ]
  },
  {
   "cell_type": "code",
   "execution_count": 234,
   "metadata": {},
   "outputs": [
    {
     "name": "stdout",
     "output_type": "stream",
     "text": [
      "(143577, 14)\n"
     ]
    }
   ],
   "source": [
    "# randomly subsampling \n",
    "sample1 = data.sample(frac=0.3, random_state=1)\n",
    "print(sample1.shape)\n",
    "# splitting the data into X (features) and y (i.e. label)\n",
    "y = sample1[['price']] # label\n",
    "X = sample1.drop(columns = ['price']) # features"
   ]
  },
  {
   "cell_type": "code",
   "execution_count": 235,
   "metadata": {},
   "outputs": [],
   "source": [
    "X_train_val, X_test, y_train_val, y_test = train_test_split(X, y, test_size=0.20, random_state=0)\n",
    "X_train, X_val, y_train, y_val = train_test_split(X_train_val, y_train_val, test_size=0.20, random_state=0)"
   ]
  },
  {
   "cell_type": "code",
   "execution_count": 236,
   "metadata": {},
   "outputs": [
    {
     "data": {
      "text/plain": [
       "-30698839.69322101"
      ]
     },
     "execution_count": 236,
     "metadata": {},
     "output_type": "execute_result"
    }
   ],
   "source": [
    "pipe = Pipeline([('preprocess', processing_pipe),\n",
    "                 ('regression', LinearRegression())])\n",
    "score = cross_val_score(pipe, X_train_val, y_train_val, cv=5,scoring=\"neg_mean_squared_error\")\n",
    "np.mean(score)"
   ]
  },
  {
   "cell_type": "code",
   "execution_count": 237,
   "metadata": {},
   "outputs": [
    {
     "data": {
      "text/plain": [
       "0.5510097801886962"
      ]
     },
     "execution_count": 237,
     "metadata": {},
     "output_type": "execute_result"
    }
   ],
   "source": [
    "pipe = Pipeline([('preprocess', processing_pipe),\n",
    "                 ('regression', LinearRegression())])\n",
    "score = cross_val_score(pipe, X_train_val, y_train_val, cv=5)\n",
    "np.mean(score)"
   ]
  },
  {
   "cell_type": "code",
   "execution_count": 238,
   "metadata": {
    "scrolled": false
   },
   "outputs": [
    {
     "name": "stdout",
     "output_type": "stream",
     "text": [
      "-8.541830391687783e+20\n"
     ]
    }
   ],
   "source": [
    "# Stochastic Gradient Descent \n",
    "pipe = make_pipeline(processing_pipe, SGDRegressor())\n",
    "score = cross_val_score(pipe, X_train_val, y_train_val, cv = 5)\n",
    "print(np.mean(score))"
   ]
  },
  {
   "cell_type": "code",
   "execution_count": 239,
   "metadata": {},
   "outputs": [
    {
     "name": "stdout",
     "output_type": "stream",
     "text": [
      "0.5914990852878315\n"
     ]
    }
   ],
   "source": [
    "# Decision Tree \n",
    "pipe = make_pipeline(processing_pipe, DecisionTreeRegressor(max_depth = 7))\n",
    "score = cross_val_score(pipe, X_train_val, y_train_val, cv = 5)\n",
    "print(np.mean(score))"
   ]
  },
  {
   "cell_type": "code",
   "execution_count": 240,
   "metadata": {},
   "outputs": [
    {
     "name": "stdout",
     "output_type": "stream",
     "text": [
      "0.67318829600755\n"
     ]
    }
   ],
   "source": [
    "# Gradient Boosting Regression\n",
    "pipe = make_pipeline(processing_pipe, GradientBoostingRegressor(max_depth = 5))\n",
    "score = cross_val_score(pipe, X_train_val, y_train_val, cv = 5)\n",
    "print(np.mean(score))"
   ]
  },
  {
   "cell_type": "code",
   "execution_count": 241,
   "metadata": {},
   "outputs": [
    {
     "name": "stdout",
     "output_type": "stream",
     "text": [
      "0.7006597090391571\n"
     ]
    }
   ],
   "source": [
    "# Gradient Boosting Regression\n",
    "pipe = make_pipeline(processing_pipe, GradientBoostingRegressor(max_depth = 7))\n",
    "score = cross_val_score(pipe, X_train_val, y_train_val, cv = 5)\n",
    "print(np.mean(score))"
   ]
  },
  {
   "cell_type": "code",
   "execution_count": 242,
   "metadata": {},
   "outputs": [
    {
     "name": "stdout",
     "output_type": "stream",
     "text": [
      "0.7093630934072545\n"
     ]
    }
   ],
   "source": [
    "xg_reg = XGBRegressor()\n",
    "pipe = make_pipeline(processing_pipe, xg_reg)\n",
    "score = cross_val_score(pipe, X_train_val, y_train_val, cv = 5)\n",
    "print(np.mean(score))"
   ]
  },
  {
   "cell_type": "code",
   "execution_count": 243,
   "metadata": {},
   "outputs": [
    {
     "name": "stdout",
     "output_type": "stream",
     "text": [
      "0.7455221386449707\n"
     ]
    }
   ],
   "source": [
    "xg_reg = XGBRegressor(objective ='reg:squarederror', colsample_bytree = 0.3, learning_rate = 0.1,\n",
    "                max_depth = 50, alpha = 10, n_estimators = 50)\n",
    "pipe = make_pipeline(processing_pipe, xg_reg)\n",
    "score = cross_val_score(pipe, X_train_val, y_train_val, cv = 5)\n",
    "print(np.mean(score))"
   ]
  },
  {
   "cell_type": "code",
   "execution_count": 244,
   "metadata": {},
   "outputs": [
    {
     "name": "stdout",
     "output_type": "stream",
     "text": [
      "0.6089095954268211\n"
     ]
    }
   ],
   "source": [
    "pipe = make_pipeline(processing_pipe, RandomForestRegressor(max_depth = 7))\n",
    "score = cross_val_score(pipe, X_train_val, y_train_val, cv = 5)\n",
    "print(np.mean(score))"
   ]
  },
  {
   "cell_type": "markdown",
   "metadata": {},
   "source": [
    "## SubSample (40%)"
   ]
  },
  {
   "cell_type": "code",
   "execution_count": 245,
   "metadata": {},
   "outputs": [
    {
     "name": "stdout",
     "output_type": "stream",
     "text": [
      "(191436, 14)\n"
     ]
    }
   ],
   "source": [
    "# randomly subsampling \n",
    "sample1 = data.sample(frac=0.4, random_state=1)\n",
    "print(sample1.shape)\n",
    "# splitting the data into X (features) and y (i.e. label)\n",
    "y = sample1[['price']] # label\n",
    "X = sample1.drop(columns = ['price']) # features"
   ]
  },
  {
   "cell_type": "code",
   "execution_count": 246,
   "metadata": {},
   "outputs": [],
   "source": [
    "X_train_val, X_test, y_train_val, y_test = train_test_split(X, y, test_size=0.20, random_state=0)\n",
    "X_train, X_val, y_train, y_val = train_test_split(X_train_val, y_train_val, test_size=0.20, random_state=0)"
   ]
  },
  {
   "cell_type": "code",
   "execution_count": 247,
   "metadata": {},
   "outputs": [
    {
     "data": {
      "text/plain": [
       "-29999275.226758145"
      ]
     },
     "execution_count": 247,
     "metadata": {},
     "output_type": "execute_result"
    }
   ],
   "source": [
    "pipe = Pipeline([('preprocess', processing_pipe),\n",
    "                 ('regression', LinearRegression())])\n",
    "score = cross_val_score(pipe, X_train_val, y_train_val, cv=5,scoring=\"neg_mean_squared_error\")\n",
    "np.mean(score)"
   ]
  },
  {
   "cell_type": "code",
   "execution_count": 248,
   "metadata": {},
   "outputs": [
    {
     "data": {
      "text/plain": [
       "0.5597775158656985"
      ]
     },
     "execution_count": 248,
     "metadata": {},
     "output_type": "execute_result"
    }
   ],
   "source": [
    "pipe = Pipeline([('preprocess', processing_pipe),\n",
    "                 ('regression', LinearRegression())])\n",
    "score = cross_val_score(pipe, X_train_val, y_train_val, cv=5)\n",
    "np.mean(score)"
   ]
  },
  {
   "cell_type": "code",
   "execution_count": 249,
   "metadata": {
    "scrolled": false
   },
   "outputs": [
    {
     "name": "stdout",
     "output_type": "stream",
     "text": [
      "-2.8515804004805714e+21\n"
     ]
    }
   ],
   "source": [
    "# Stochastic Gradient Descent \n",
    "pipe = make_pipeline(processing_pipe, SGDRegressor())\n",
    "score = cross_val_score(pipe, X_train_val, y_train_val, cv = 5)\n",
    "print(np.mean(score))"
   ]
  },
  {
   "cell_type": "code",
   "execution_count": 250,
   "metadata": {},
   "outputs": [
    {
     "name": "stdout",
     "output_type": "stream",
     "text": [
      "0.5940618660796189\n"
     ]
    }
   ],
   "source": [
    "# Decision Tree \n",
    "pipe = make_pipeline(processing_pipe, DecisionTreeRegressor(max_depth = 7))\n",
    "score = cross_val_score(pipe, X_train_val, y_train_val, cv = 5)\n",
    "print(np.mean(score))"
   ]
  },
  {
   "cell_type": "code",
   "execution_count": 251,
   "metadata": {},
   "outputs": [
    {
     "name": "stdout",
     "output_type": "stream",
     "text": [
      "0.679237164237456\n"
     ]
    }
   ],
   "source": [
    "# Gradient Boosting Regression\n",
    "pipe = make_pipeline(processing_pipe, GradientBoostingRegressor(max_depth = 5))\n",
    "score = cross_val_score(pipe, X_train_val, y_train_val, cv = 5)\n",
    "print(np.mean(score))"
   ]
  },
  {
   "cell_type": "code",
   "execution_count": 252,
   "metadata": {},
   "outputs": [
    {
     "name": "stdout",
     "output_type": "stream",
     "text": [
      "0.7060943509181318\n"
     ]
    }
   ],
   "source": [
    "# Gradient Boosting Regression\n",
    "pipe = make_pipeline(processing_pipe, GradientBoostingRegressor(max_depth = 7))\n",
    "score = cross_val_score(pipe, X_train_val, y_train_val, cv = 5)\n",
    "print(np.mean(score))"
   ]
  },
  {
   "cell_type": "code",
   "execution_count": 253,
   "metadata": {},
   "outputs": [
    {
     "name": "stdout",
     "output_type": "stream",
     "text": [
      "0.719536922417604\n"
     ]
    }
   ],
   "source": [
    "xg_reg = XGBRegressor()\n",
    "pipe = make_pipeline(processing_pipe, xg_reg)\n",
    "score = cross_val_score(pipe, X_train_val, y_train_val, cv = 5)\n",
    "print(np.mean(score))"
   ]
  },
  {
   "cell_type": "code",
   "execution_count": 254,
   "metadata": {},
   "outputs": [
    {
     "name": "stdout",
     "output_type": "stream",
     "text": [
      "0.7624377944004194\n"
     ]
    }
   ],
   "source": [
    "xg_reg = XGBRegressor(objective ='reg:squarederror', colsample_bytree = 0.3, learning_rate = 0.1,\n",
    "                max_depth = 50, alpha = 10, n_estimators = 50)\n",
    "pipe = make_pipeline(processing_pipe, xg_reg)\n",
    "score = cross_val_score(pipe, X_train_val, y_train_val, cv = 5)\n",
    "print(np.mean(score))"
   ]
  },
  {
   "cell_type": "code",
   "execution_count": 255,
   "metadata": {},
   "outputs": [
    {
     "name": "stdout",
     "output_type": "stream",
     "text": [
      "0.6120525932639855\n"
     ]
    }
   ],
   "source": [
    "pipe = make_pipeline(processing_pipe, RandomForestRegressor(max_depth = 7))\n",
    "score = cross_val_score(pipe, X_train_val, y_train_val, cv = 5)\n",
    "print(np.mean(score))"
   ]
  },
  {
   "cell_type": "markdown",
   "metadata": {},
   "source": [
    "## SubSample(50%)"
   ]
  },
  {
   "cell_type": "code",
   "execution_count": 256,
   "metadata": {},
   "outputs": [
    {
     "name": "stdout",
     "output_type": "stream",
     "text": [
      "(239296, 14)\n"
     ]
    }
   ],
   "source": [
    "# randomly subsampling \n",
    "sample1 = data.sample(frac=0.5, random_state=1)\n",
    "print(sample1.shape)\n",
    "# splitting the data into X (features) and y (i.e. label)\n",
    "y = sample1[['price']] # label\n",
    "X = sample1.drop(columns = ['price']) # features"
   ]
  },
  {
   "cell_type": "code",
   "execution_count": 257,
   "metadata": {},
   "outputs": [],
   "source": [
    "X_train_val, X_test, y_train_val, y_test = train_test_split(X, y, test_size=0.20, random_state=0)\n",
    "X_train, X_val, y_train, y_val = train_test_split(X_train_val, y_train_val, test_size=0.20, random_state=0)"
   ]
  },
  {
   "cell_type": "code",
   "execution_count": 258,
   "metadata": {},
   "outputs": [
    {
     "data": {
      "text/plain": [
       "-29787843.359199416"
      ]
     },
     "execution_count": 258,
     "metadata": {},
     "output_type": "execute_result"
    }
   ],
   "source": [
    "pipe = Pipeline([('preprocess', processing_pipe),\n",
    "                 ('regression', LinearRegression())])\n",
    "score = cross_val_score(pipe, X_train_val, y_train_val, cv=5,scoring=\"neg_mean_squared_error\")\n",
    "np.mean(score)"
   ]
  },
  {
   "cell_type": "code",
   "execution_count": 259,
   "metadata": {},
   "outputs": [
    {
     "data": {
      "text/plain": [
       "0.5623631037731954"
      ]
     },
     "execution_count": 259,
     "metadata": {},
     "output_type": "execute_result"
    }
   ],
   "source": [
    "pipe = Pipeline([('preprocess', processing_pipe),\n",
    "                 ('regression', LinearRegression())])\n",
    "score = cross_val_score(pipe, X_train_val, y_train_val, cv=5)\n",
    "np.mean(score)"
   ]
  },
  {
   "cell_type": "code",
   "execution_count": 260,
   "metadata": {
    "scrolled": false
   },
   "outputs": [
    {
     "name": "stdout",
     "output_type": "stream",
     "text": [
      "-1.667744883474543e+21\n"
     ]
    }
   ],
   "source": [
    "# Stochastic Gradient Descent \n",
    "pipe = make_pipeline(processing_pipe, SGDRegressor())\n",
    "score = cross_val_score(pipe, X_train_val, y_train_val, cv = 5)\n",
    "print(np.mean(score))"
   ]
  },
  {
   "cell_type": "code",
   "execution_count": 261,
   "metadata": {},
   "outputs": [
    {
     "name": "stdout",
     "output_type": "stream",
     "text": [
      "0.6013040178942486\n"
     ]
    }
   ],
   "source": [
    "# Decision Tree \n",
    "pipe = make_pipeline(processing_pipe, DecisionTreeRegressor(max_depth = 7))\n",
    "score = cross_val_score(pipe, X_train_val, y_train_val, cv = 5)\n",
    "print(np.mean(score))"
   ]
  },
  {
   "cell_type": "code",
   "execution_count": 262,
   "metadata": {},
   "outputs": [
    {
     "name": "stdout",
     "output_type": "stream",
     "text": [
      "0.6834660521485982\n"
     ]
    }
   ],
   "source": [
    "# Gradient Boosting Regression\n",
    "pipe = make_pipeline(processing_pipe, GradientBoostingRegressor(max_depth = 5))\n",
    "score = cross_val_score(pipe, X_train_val, y_train_val, cv = 5)\n",
    "print(np.mean(score))"
   ]
  },
  {
   "cell_type": "code",
   "execution_count": 263,
   "metadata": {},
   "outputs": [
    {
     "name": "stdout",
     "output_type": "stream",
     "text": [
      "0.7128378647542968\n"
     ]
    }
   ],
   "source": [
    "# Gradient Boosting Regression\n",
    "pipe = make_pipeline(processing_pipe, GradientBoostingRegressor(max_depth = 7))\n",
    "score = cross_val_score(pipe, X_train_val, y_train_val, cv = 5)\n",
    "print(np.mean(score))"
   ]
  },
  {
   "cell_type": "code",
   "execution_count": 264,
   "metadata": {},
   "outputs": [
    {
     "name": "stdout",
     "output_type": "stream",
     "text": [
      "0.7252728091432268\n"
     ]
    }
   ],
   "source": [
    "pipe = make_pipeline(processing_pipe, XGBRegressor())\n",
    "score = cross_val_score(pipe, X_train_val, y_train_val, cv = 5)\n",
    "print(np.mean(score))"
   ]
  },
  {
   "cell_type": "code",
   "execution_count": 265,
   "metadata": {},
   "outputs": [
    {
     "name": "stdout",
     "output_type": "stream",
     "text": [
      "0.7760494415971942\n"
     ]
    }
   ],
   "source": [
    "xg_reg = XGBRegressor(objective ='reg:squarederror', colsample_bytree = 0.3, learning_rate = 0.1,\n",
    "                max_depth = 50, alpha = 10, n_estimators = 50)\n",
    "pipe = make_pipeline(processing_pipe, xg_reg)\n",
    "score = cross_val_score(pipe, X_train_val, y_train_val, cv = 5)\n",
    "print(np.mean(score))"
   ]
  },
  {
   "cell_type": "code",
   "execution_count": 266,
   "metadata": {},
   "outputs": [
    {
     "name": "stdout",
     "output_type": "stream",
     "text": [
      "0.6166072853154958\n"
     ]
    }
   ],
   "source": [
    "pipe = make_pipeline(processing_pipe, RandomForestRegressor(max_depth = 7))\n",
    "score = cross_val_score(pipe, X_train_val, y_train_val, cv = 5)\n",
    "print(np.mean(score))"
   ]
  },
  {
   "cell_type": "markdown",
   "metadata": {},
   "source": [
    "From the performance of each model for each of the different subsamples we can see that XGBoost Regressor performance the best in all cases and hence, we tune the hyperparameters of the XGBoost model"
   ]
  },
  {
   "cell_type": "markdown",
   "metadata": {},
   "source": [
    "# Output Graphs of different models"
   ]
  },
  {
   "cell_type": "code",
   "execution_count": 3,
   "metadata": {},
   "outputs": [],
   "source": [
    "models = ['Linear Regression', 'Decision Tree', 'Gradient Boosting', 'XGBoost', 'Random Forest']\n",
    "s1 = [0.5211285876721928, 0.5539711811226231, 0.6649037412907189, 0.6758496580181348, 0.5799041778086282]\n",
    "s2 = [0.541863657346782, 0.5764613542344728, 0.6884142902653357, 0.718828636692471, 0.6006666006330691]\n",
    "s3 = [0.5510097801886962, 0.5914990852878315, 0.7006597090391571, 0.7455221386449707, 0.6089095954268211]\n",
    "s4 = [0.5597775158656985, 0.5940618660796189, 0.7060943509181318, 0.7624377944004194, 0.6120525932639855]\n",
    "s5 = [0.5623631037731954, 0.6013040178942486, 0.7128378647542968, 0.7760494415971942, 0.6166072853154958]"
   ]
  },
  {
   "cell_type": "code",
   "execution_count": 4,
   "metadata": {},
   "outputs": [
    {
     "data": {
      "text/html": [
       "<div>\n",
       "<style scoped>\n",
       "    .dataframe tbody tr th:only-of-type {\n",
       "        vertical-align: middle;\n",
       "    }\n",
       "\n",
       "    .dataframe tbody tr th {\n",
       "        vertical-align: top;\n",
       "    }\n",
       "\n",
       "    .dataframe thead th {\n",
       "        text-align: right;\n",
       "    }\n",
       "</style>\n",
       "<table border=\"1\" class=\"dataframe\">\n",
       "  <thead>\n",
       "    <tr style=\"text-align: right;\">\n",
       "      <th></th>\n",
       "      <th>Sample 1 (10%)</th>\n",
       "      <th>Sample 2 (20%)</th>\n",
       "      <th>Sample 3 (30%)</th>\n",
       "      <th>Sample 4 (40%)</th>\n",
       "      <th>Sample 5 (50%)</th>\n",
       "    </tr>\n",
       "  </thead>\n",
       "  <tbody>\n",
       "    <tr>\n",
       "      <td>Linear Regression</td>\n",
       "      <td>0.521129</td>\n",
       "      <td>0.541864</td>\n",
       "      <td>0.551010</td>\n",
       "      <td>0.559778</td>\n",
       "      <td>0.562363</td>\n",
       "    </tr>\n",
       "    <tr>\n",
       "      <td>Decision Tree</td>\n",
       "      <td>0.553971</td>\n",
       "      <td>0.576461</td>\n",
       "      <td>0.591499</td>\n",
       "      <td>0.594062</td>\n",
       "      <td>0.601304</td>\n",
       "    </tr>\n",
       "    <tr>\n",
       "      <td>Gradient Boosting</td>\n",
       "      <td>0.664904</td>\n",
       "      <td>0.688414</td>\n",
       "      <td>0.700660</td>\n",
       "      <td>0.706094</td>\n",
       "      <td>0.712838</td>\n",
       "    </tr>\n",
       "    <tr>\n",
       "      <td>XGBoost</td>\n",
       "      <td>0.675850</td>\n",
       "      <td>0.718829</td>\n",
       "      <td>0.745522</td>\n",
       "      <td>0.762438</td>\n",
       "      <td>0.776049</td>\n",
       "    </tr>\n",
       "    <tr>\n",
       "      <td>Random Forest</td>\n",
       "      <td>0.579904</td>\n",
       "      <td>0.600667</td>\n",
       "      <td>0.608910</td>\n",
       "      <td>0.612053</td>\n",
       "      <td>0.616607</td>\n",
       "    </tr>\n",
       "  </tbody>\n",
       "</table>\n",
       "</div>"
      ],
      "text/plain": [
       "                   Sample 1 (10%)  Sample 2 (20%)  Sample 3 (30%)  \\\n",
       "Linear Regression        0.521129        0.541864        0.551010   \n",
       "Decision Tree            0.553971        0.576461        0.591499   \n",
       "Gradient Boosting        0.664904        0.688414        0.700660   \n",
       "XGBoost                  0.675850        0.718829        0.745522   \n",
       "Random Forest            0.579904        0.600667        0.608910   \n",
       "\n",
       "                   Sample 4 (40%)  Sample 5 (50%)  \n",
       "Linear Regression        0.559778        0.562363  \n",
       "Decision Tree            0.594062        0.601304  \n",
       "Gradient Boosting        0.706094        0.712838  \n",
       "XGBoost                  0.762438        0.776049  \n",
       "Random Forest            0.612053        0.616607  "
      ]
     },
     "execution_count": 4,
     "metadata": {},
     "output_type": "execute_result"
    }
   ],
   "source": [
    "r2_scores = dict()\n",
    "r2_scores['Sample 1 (10%)'] = s1\n",
    "r2_scores['Sample 2 (20%)'] = s2\n",
    "r2_scores['Sample 3 (30%)'] = s3\n",
    "r2_scores['Sample 4 (40%)'] = s4\n",
    "r2_scores['Sample 5 (50%)'] = s5\n",
    "\n",
    "r2_scores_df = pd.DataFrame(r2_scores)\n",
    "r2_scores_df.index = models\n",
    "r2_scores_df"
   ]
  },
  {
   "cell_type": "code",
   "execution_count": 5,
   "metadata": {},
   "outputs": [
    {
     "data": {
      "image/png": "[encoded data removed]",
      "text/plain": [
       "<Figure size 720x576 with 1 Axes>"
      ]
     },
     "metadata": {
      "needs_background": "light"
     },
     "output_type": "display_data"
    }
   ],
   "source": [
    "plt.figure(figsize=(10,8))\n",
    "for i in models:\n",
    "    plt.plot(r2_scores_df.loc[i], label = i, marker='o')\n",
    "plt.legend(loc='upper left')\n",
    "plt.xlabel(\"Samples\")\n",
    "plt.ylabel(\"R2 score\")\n",
    "plt.title(\"R2 scores v/s samples for the different regression models\")\n",
    "plt.show()"
   ]
  },
  {
   "cell_type": "markdown",
   "metadata": {},
   "source": [
    "Seeing the size of the dataset we decided to implement the grid search over the 50% sample and then use the obtained setting to train XGBoost model for whole dataset."
   ]
  },
  {
   "cell_type": "code",
   "execution_count": 66,
   "metadata": {},
   "outputs": [
    {
     "data": {
      "text/plain": [
       "0.799503702863626"
      ]
     },
     "execution_count": 66,
     "metadata": {},
     "output_type": "execute_result"
    }
   ],
   "source": [
    "params = [{'XGBRegressor__max_depth':[10,25,50],\n",
    "           'XGBRegressor__colsample_bytree' : [0.2,0.3,0.4,0.5,0.6], \n",
    "           'XGBRegressor__learning_rate': [1,0.1,0.01,0.001],\n",
    "           'XGBRegressor__n_jobs': [-1],\n",
    "           'XGBRegressor__n_estimators':[30, 50],\n",
    "           'XGBRegressor__alpha': [0.1,1,10]\n",
    "          }]\n",
    "\n",
    "pipe = Pipeline([('preprocess', processing_pipe),\n",
    "                 ('XGBRegressor', XGBRegressor())])\n",
    "grid_xgb = GridSearchCV(pipe, params)\n",
    "grid_xgb.fit(X_train_val, y_train_val)\n",
    "best_score = grid_xgb.score(X_test, y_test)\n",
    "best_score"
   ]
  },
  {
   "cell_type": "code",
   "execution_count": 70,
   "metadata": {},
   "outputs": [
    {
     "data": {
      "text/plain": [
       "['XGB.pkl']"
      ]
     },
     "execution_count": 70,
     "metadata": {},
     "output_type": "execute_result"
    }
   ],
   "source": [
    "from sklearn.externals import joblib\n",
    "joblib.dump(grid_xgb.best_estimator_, 'XGB.pkl')"
   ]
  },
  {
   "cell_type": "code",
   "execution_count": 71,
   "metadata": {
    "scrolled": false
   },
   "outputs": [
    {
     "data": {
      "text/plain": [
       "{'XGBRegressor__alpha': 0.1,\n",
       " 'XGBRegressor__colsample_bytree': 0.5,\n",
       " 'XGBRegressor__learning_rate': 0.1,\n",
       " 'XGBRegressor__max_depth': 25,\n",
       " 'XGBRegressor__n_estimators': 50,\n",
       " 'XGBRegressor__n_jobs': -1}"
      ]
     },
     "execution_count": 71,
     "metadata": {},
     "output_type": "execute_result"
    }
   ],
   "source": [
    "grid_xgb.best_params_"
   ]
  },
  {
   "cell_type": "markdown",
   "metadata": {},
   "source": [
    "## XGBoost for whole Dataset"
   ]
  },
  {
   "cell_type": "code",
   "execution_count": 267,
   "metadata": {},
   "outputs": [],
   "source": [
    "sample1 = data.sample(frac=1, random_state=1)\n",
    "y = sample1[['price']] # label\n",
    "X = sample1.drop(columns = ['price'])"
   ]
  },
  {
   "cell_type": "code",
   "execution_count": 268,
   "metadata": {},
   "outputs": [],
   "source": [
    "X_train_val, X_test, y_train_val, y_test = train_test_split(X, y, test_size=0.20, random_state=0)\n",
    "X_train, X_val, y_train, y_val = train_test_split(X_train_val, y_train_val, test_size=0.20, random_state=0)"
   ]
  },
  {
   "cell_type": "code",
   "execution_count": 269,
   "metadata": {},
   "outputs": [
    {
     "name": "stdout",
     "output_type": "stream",
     "text": [
      "0.7354529263853505\n"
     ]
    }
   ],
   "source": [
    "xg_reg = XGBRegressor()\n",
    "pipe = make_pipeline(processing_pipe, xg_reg)\n",
    "score = cross_val_score(pipe, X_train_val, y_train_val, cv = 5)\n",
    "print(np.mean(score))"
   ]
  },
  {
   "cell_type": "code",
   "execution_count": 270,
   "metadata": {},
   "outputs": [
    {
     "name": "stdout",
     "output_type": "stream",
     "text": [
      "0.8146652253524929\n"
     ]
    }
   ],
   "source": [
    "xg_reg = XGBRegressor(colsample_bytree = 0.3, \n",
    "                          learning_rate = 0.1,\n",
    "                          max_depth = 50, \n",
    "                          alpha = 10, \n",
    "                          n_estimators = 50)\n",
    "pipe = make_pipeline(processing_pipe, xg_reg)\n",
    "score = cross_val_score(pipe, X_train_val, y_train_val, cv = 5)\n",
    "print(np.mean(score))"
   ]
  },
  {
   "cell_type": "code",
   "execution_count": 271,
   "metadata": {},
   "outputs": [
    {
     "name": "stdout",
     "output_type": "stream",
     "text": [
      "0.8226768467326991\n"
     ]
    }
   ],
   "source": [
    "xg_reg = XGBRegressor(alpha=0.1,\n",
    "                          colsample_bytree = 0.5,\n",
    "                          learning_rate=0.1,\n",
    "                          max_depth = 25,\n",
    "                          n_estimators = 50,\n",
    "                          n_jobs=-1)\n",
    "pipe = make_pipeline(processing_pipe, xg_reg)\n",
    "score = cross_val_score(pipe, X_train_val, y_train_val, cv = 5)\n",
    "print(np.mean(score))\n",
    "\n",
    "\n",
    "# {'XGBRegressor__alpha': 0.1,\n",
    "#  'XGBRegressor__colsample_bytree': 0.5,\n",
    "#  'XGBRegressor__learning_rate': 0.1,\n",
    "#  'XGBRegressor__max_depth': 25,\n",
    "#  'XGBRegressor__n_estimators': 50,\n",
    "#  'XGBRegressor__n_jobs': -1}"
   ]
  },
  {
   "cell_type": "markdown",
   "metadata": {},
   "source": [
    "As, we can see from the above results that XGBoost model performs the best with the obtained seeting of hyperparameters."
   ]
  },
  {
   "cell_type": "markdown",
   "metadata": {},
   "source": [
    "We also train linear models (Linear Regression, Ridge Regression and Lasso Regression) over the whole dataset to compare their performance with XGBoost."
   ]
  },
  {
   "cell_type": "code",
   "execution_count": 48,
   "metadata": {},
   "outputs": [],
   "source": [
    "param_grid_ridge = [{'regressor__alpha': np.logspace(-5, 3, 15)}]\n",
    "param_grid_lasso = [{'regressor__alpha': np.logspace(-5, 3, 15)}]\n",
    "param_grid_elastic = [{'regressor__l1_ratio':np.logspace(-5,1,15)}]"
   ]
  },
  {
   "cell_type": "code",
   "execution_count": 49,
   "metadata": {},
   "outputs": [
    {
     "data": {
      "text/plain": [
       "0.44432382468913034"
      ]
     },
     "execution_count": 49,
     "metadata": {},
     "output_type": "execute_result"
    }
   ],
   "source": [
    "pipe = Pipeline([('preprocess', processing_pipe),\n",
    "                 ('regressor', Ridge())])\n",
    "grid_ridge = GridSearchCV(pipe, param_grid_ridge)\n",
    "grid_ridge.fit(X_train_val, y_train_val)\n",
    "best_score = grid_ridge.score(X_test, y_test)\n",
    "best_score"
   ]
  },
  {
   "cell_type": "code",
   "execution_count": 50,
   "metadata": {},
   "outputs": [
    {
     "data": {
      "text/plain": [
       "0.577326601015952"
      ]
     },
     "execution_count": 50,
     "metadata": {},
     "output_type": "execute_result"
    }
   ],
   "source": [
    "pipe = Pipeline([('preprocess', processing_pipe),\n",
    "                 ('regressor', Lasso())])\n",
    "grid_lasso = GridSearchCV(pipe, param_grid_lasso)\n",
    "grid_lasso.fit(X_train_val, y_train_val)\n",
    "best_score = grid_lasso.score(X_test, y_test)\n",
    "best_score"
   ]
  },
  {
   "cell_type": "code",
   "execution_count": 51,
   "metadata": {},
   "outputs": [
    {
     "data": {
      "text/plain": [
       "0.5419882937501296"
      ]
     },
     "execution_count": 51,
     "metadata": {},
     "output_type": "execute_result"
    }
   ],
   "source": [
    "pipe = Pipeline([('preprocess', processing_pipe),\n",
    "                 ('regressor', ElasticNet())])\n",
    "grid_elastic = GridSearchCV(pipe, param_grid_elastic)\n",
    "grid_elastic.fit(X_train_val, y_train_val)\n",
    "best_score = grid_elastic.score(X_test, y_test)\n",
    "best_score"
   ]
  },
  {
   "cell_type": "markdown",
   "metadata": {},
   "source": [
    "From, this we see that the XGBoost model performs much better than the Linear Models. Hence, we now move towards getting a score for XGBoost model over the test dataset. Also the training and prediction time for the XGBoost model is very less as compared to all of the other models tried earlier."
   ]
  },
  {
   "cell_type": "code",
   "execution_count": 272,
   "metadata": {},
   "outputs": [],
   "source": [
    "xg_reg = XGBRegressor(alpha=0.1,\n",
    "                          colsample_bytree = 0.5,\n",
    "                          learning_rate=0.1,\n",
    "                          max_depth = 25,\n",
    "                          n_estimators = 50,\n",
    "                          n_jobs=-1)\n",
    "pipe = make_pipeline(processing_pipe, xg_reg)\n"
   ]
  },
  {
   "cell_type": "code",
   "execution_count": 274,
   "metadata": {},
   "outputs": [
    {
     "name": "stdout",
     "output_type": "stream",
     "text": [
      "0.8336336456915\n",
      "--- 77.34524989128113 seconds ---\n"
     ]
    }
   ],
   "source": [
    "start_time = time.time()\n",
    "pipe.fit(X_train_val, y_train_val)\n",
    "# pred = pipe.predict(X_test)\n",
    "print(pipe.score(X_test,y_test))\n",
    "print(\"--- %s seconds ---\" % (time.time() - start_time))"
   ]
  },
  {
   "cell_type": "markdown",
   "metadata": {},
   "source": [
    "Further XGBoost being a tree based model we can use the feature_importances_ attribute of it to find the importance given to the features by the model."
   ]
  },
  {
   "cell_type": "markdown",
   "metadata": {},
   "source": [
    "# Feature Importance and Feature Selection"
   ]
  },
  {
   "cell_type": "markdown",
   "metadata": {},
   "source": [
    "### Feature Importance for Random Forest Regressor \n",
    "#### Over 50% randomly sampled data points"
   ]
  },
  {
   "cell_type": "code",
   "execution_count": 11,
   "metadata": {},
   "outputs": [
    {
     "name": "stdout",
     "output_type": "stream",
     "text": [
      "(242064, 13)\n"
     ]
    }
   ],
   "source": [
    "# randomly subsampling \n",
    "sample5 = data.sample(frac=0.5, random_state=1)\n",
    "print(sample5.shape)\n",
    "\n",
    "# splitting the data into X (features) and y (i.e. label)\n",
    "y = sample5[['price']] # label\n",
    "X = sample5.drop(columns = ['price']) # features\n",
    "\n",
    "# preprocess the data - \n",
    "# for categorical data using OneHotEncoder and/or TargetEncoder\n",
    "# for continuous data using StandardScaler\n",
    "categorical = X.dtypes == object\n",
    "\n",
    "target_encoding_columns = [\"region\", 'model', 'manufacturer']\n",
    "contiuous_columns_to_be_scaled = [\"odometer\"]\n",
    "categorical_columns = ['cylinders', 'fuel','title_status', 'transmission', \n",
    "                       'drive', 'type','paint_color']\n",
    "\n",
    "preprocess = make_column_transformer(\n",
    "    (StandardScaler(), contiuous_columns_to_be_scaled),\n",
    "    (OneHotEncoder(handle_unknown = 'ignore'), categorical_columns),\n",
    "    (TargetEncoder(), target_encoding_columns), remainder=\"passthrough\")\n",
    "\n",
    "# splitting the data into training, validation and testing\n",
    "X_train_val, X_test, y_train_val, y_test = train_test_split(X, y, test_size=0.2, random_state = 42)\n",
    "X_train, X_val, y_train, y_val = train_test_split(X_train_val, y_train_val, test_size=0.2, random_state = 42)"
   ]
  },
  {
   "cell_type": "code",
   "execution_count": 12,
   "metadata": {},
   "outputs": [],
   "source": [
    "# converting y to numpy for random forest regression\n",
    "y_train_val = y_train_val.values\n",
    "y_train_val = y_train_val.ravel()\n",
    "# pipeline for Random Forest Regression\n",
    "pipe = make_pipeline(preprocess, RandomForestRegressor(max_depth = 7))"
   ]
  },
  {
   "cell_type": "code",
   "execution_count": 13,
   "metadata": {},
   "outputs": [
    {
     "name": "stdout",
     "output_type": "stream",
     "text": [
      "0.6263911002615566\n",
      "--- 454.1613118648529 seconds ---\n"
     ]
    }
   ],
   "source": [
    "start_time = time.time()\n",
    "pipe.fit(X_train_val, y_train_val)\n",
    "pred = pipe.predict(X_test)\n",
    "print(pipe.score(X_test,y_test))\n",
    "print(\"--- %s seconds ---\" % (time.time() - start_time))"
   ]
  },
  {
   "cell_type": "code",
   "execution_count": 15,
   "metadata": {},
   "outputs": [
    {
     "name": "stdout",
     "output_type": "stream",
     "text": [
      "['x0_10 cylinders', 'x0_12 cylinders', 'x0_3 cylinders', 'x0_4 cylinders', 'x0_5 cylinders', 'x0_6 cylinders', 'x0_8 cylinders', 'x0_other', 'x1_diesel', 'x1_electric', 'x1_gas', 'x1_hybrid', 'x1_other', 'x2_clean', 'x2_lien', 'x2_missing', 'x2_parts only', 'x2_rebuilt', 'x2_salvage', 'x3_automatic', 'x3_manual', 'x3_other', 'x4_4wd', 'x4_fwd', 'x4_rwd', 'x5_SUV', 'x5_bus', 'x5_convertible', 'x5_coupe', 'x5_hatchback', 'x5_mini-van', 'x5_offroad', 'x5_other', 'x5_pickup', 'x5_sedan', 'x5_truck', 'x5_van', 'x5_wagon', 'x6_Unknown', 'x6_black', 'x6_blue', 'x6_brown', 'x6_custom', 'x6_green', 'x6_grey', 'x6_orange', 'x6_purple', 'x6_red', 'x6_silver', 'x6_white', 'x6_yellow', 'cylinders', 'fuel', 'title_status', 'transmission', 'drive', 'type', 'paint_color']\n",
      "['region', 'model', 'manufacturer', 'region', 'model', 'manufacturer']\n"
     ]
    }
   ],
   "source": [
    "n1 = list(np.hstack([preprocess.named_transformers_['onehotencoder'].get_feature_names(), categorical_columns]))\n",
    "n2 = list(np.hstack([preprocess.named_transformers_['targetencoder'].get_feature_names(), target_encoding_columns]))\n",
    "print(n1)\n",
    "print(n2)"
   ]
  },
  {
   "cell_type": "code",
   "execution_count": 17,
   "metadata": {},
   "outputs": [],
   "source": [
    "n1 = n1[:51]\n",
    "n2 = n2[:3]"
   ]
  },
  {
   "cell_type": "code",
   "execution_count": 1,
   "metadata": {},
   "outputs": [],
   "source": [
    "n3 = ['odometer']\n",
    "preprocess_cols = n3\n",
    "preprocess_cols.extend(n1)\n",
    "preprocess_cols.extend(n2)\n",
    "preprocess_cols.append('year')"
   ]
  },
  {
   "cell_type": "code",
   "execution_count": 23,
   "metadata": {},
   "outputs": [
    {
     "data": {
      "text/plain": [
       "<matplotlib.axes._subplots.AxesSubplot at 0x12ed0cc88>"
      ]
     },
     "execution_count": 23,
     "metadata": {},
     "output_type": "execute_result"
    },
    {
     "data": {
      "image/png": "[encoded data removed]",
      "text/plain": [
       "<matplotlib.figure.Figure at 0x12a2e0080>"
      ]
     },
     "metadata": {},
     "output_type": "display_data"
    }
   ],
   "source": [
    "feat_importances = pd.Series(pipe[1].feature_importances_, preprocess_cols)\n",
    "feat_importances.nlargest(25).plot(kind='barh',figsize=(10,10))"
   ]
  },
  {
   "cell_type": "markdown",
   "metadata": {},
   "source": [
    "### Feature Importance for XGBoost Regressor"
   ]
  },
  {
   "cell_type": "code",
   "execution_count": 275,
   "metadata": {},
   "outputs": [],
   "source": [
    "y_train_val = y_train_val.values\n",
    "y_train_val = y_train_val.ravel()\n",
    "xg_reg = XGBRegressor(alpha=0.1,\n",
    "                          colsample_bytree = 0.5,\n",
    "                          learning_rate=0.1,\n",
    "                          max_depth = 25,\n",
    "                          n_estimators = 50,\n",
    "                          n_jobs=-1)\n",
    "pipe = make_pipeline(processing_pipe, xg_reg)\n"
   ]
  },
  {
   "cell_type": "code",
   "execution_count": 276,
   "metadata": {},
   "outputs": [
    {
     "name": "stdout",
     "output_type": "stream",
     "text": [
      "0.8336336456915\n",
      "--- 78.51062154769897 seconds ---\n"
     ]
    }
   ],
   "source": [
    "start_time = time.time()\n",
    "pipe.fit(X_train_val, y_train_val)\n",
    "pred = pipe.predict(X_test)\n",
    "print(pipe.score(X_test,y_test))\n",
    "print(\"--- %s seconds ---\" % (time.time() - start_time))"
   ]
  },
  {
   "cell_type": "code",
   "execution_count": 277,
   "metadata": {},
   "outputs": [
    {
     "name": "stdout",
     "output_type": "stream",
     "text": [
      "['x0_10 cylinders', 'x0_12 cylinders', 'x0_3 cylinders', 'x0_4 cylinders', 'x0_5 cylinders', 'x0_6 cylinders', 'x0_8 cylinders', 'x0_other', 'x1_diesel', 'x1_electric', 'x1_gas', 'x1_hybrid', 'x1_other', 'x2_clean', 'x2_lien', 'x2_missing', 'x2_parts only', 'x2_rebuilt', 'x2_salvage', 'x3_automatic', 'x3_manual', 'x3_other', 'x4_4wd', 'x4_fwd', 'x4_rwd', 'x5_SUV', 'x5_bus', 'x5_convertible', 'x5_coupe', 'x5_hatchback', 'x5_mini-van', 'x5_offroad', 'x5_other', 'x5_pickup', 'x5_sedan', 'x5_truck', 'x5_van', 'x5_wagon', 'x6_UNK', 'x6_black', 'x6_blue', 'x6_brown', 'x6_custom', 'x6_green', 'x6_grey', 'x6_orange', 'x6_purple', 'x6_red', 'x6_silver', 'x6_white', 'x6_yellow', 'cylinders', 'fuel', 'title_status', 'transmission', 'drive', 'type', 'paint_color']\n",
      "['region', 'state', 'model', 'manufacturer', 'region', 'state', 'model', 'manufacturer']\n"
     ]
    }
   ],
   "source": [
    "n1 = list(np.hstack([processing_pipe.named_transformers_[\"pipeline-3\"][\"onehotencoder\"].get_feature_names(), categorical_columns]))\n",
    "n2 = list(np.hstack([processing_pipe.named_transformers_[\"pipeline-1\"]['targetencoder'].get_feature_names(), target_encoding_columns]))\n",
    "print(n1)\n",
    "print(n2)"
   ]
  },
  {
   "cell_type": "code",
   "execution_count": 278,
   "metadata": {},
   "outputs": [
    {
     "data": {
      "text/plain": [
       "ColumnTransformer(n_jobs=None, remainder='passthrough', sparse_threshold=0.3,\n",
       "                  transformer_weights=None,\n",
       "                  transformers=[('pipeline-1',\n",
       "                                 Pipeline(memory=None,\n",
       "                                          steps=[('targetencoder',\n",
       "                                                  TargetEncoder(cols=None,\n",
       "                                                                drop_invariant=False,\n",
       "                                                                handle_missing='value',\n",
       "                                                                handle_unknown='value',\n",
       "                                                                min_samples_leaf=1,\n",
       "                                                                return_df=True,\n",
       "                                                                smoothing=1.0,\n",
       "                                                                verbose=0)),\n",
       "                                                 ('standardscaler',\n",
       "                                                  Standard...\n",
       "                                                                 with_std=True))],\n",
       "                                          verbose=False),\n",
       "                                 ['odometer']),\n",
       "                                ('pipeline-3',\n",
       "                                 Pipeline(memory=None,\n",
       "                                          steps=[('onehotencoder',\n",
       "                                                  OneHotEncoder(categorical_features=None,\n",
       "                                                                categories=None,\n",
       "                                                                drop=None,\n",
       "                                                                dtype=<class 'numpy.float64'>,\n",
       "                                                                handle_unknown='ignore',\n",
       "                                                                n_values=None,\n",
       "                                                                sparse=True))],\n",
       "                                          verbose=False),\n",
       "                                 ['cylinders', 'fuel', 'title_status',\n",
       "                                  'transmission', 'drive', 'type',\n",
       "                                  'paint_color'])],\n",
       "                  verbose=False)"
      ]
     },
     "execution_count": 278,
     "metadata": {},
     "output_type": "execute_result"
    }
   ],
   "source": [
    "processing_pipe"
   ]
  },
  {
   "cell_type": "code",
   "execution_count": 279,
   "metadata": {},
   "outputs": [],
   "source": [
    "n1 = n1[:51]\n",
    "n2 = n2[:4]\n",
    "n3 = ['odometer']\n",
    "preprocess_cols = n2.copy()\n",
    "preprocess_cols.extend(n3)\n",
    "preprocess_cols.extend(n1)\n",
    "preprocess_cols.append('year')"
   ]
  },
  {
   "cell_type": "code",
   "execution_count": 280,
   "metadata": {},
   "outputs": [],
   "source": [
    "feat_importances = pd.Series(pipe[1].feature_importances_, preprocess_cols)"
   ]
  },
  {
   "cell_type": "code",
   "execution_count": 281,
   "metadata": {},
   "outputs": [
    {
     "data": {
      "text/plain": [
       "<matplotlib.axes._subplots.AxesSubplot at 0x1680dcd2c50>"
      ]
     },
     "execution_count": 281,
     "metadata": {},
     "output_type": "execute_result"
    },
    {
     "data": {
      "image/png": "[encoded data removed]",
      "text/plain": [
       "<Figure size 504x504 with 1 Axes>"
      ]
     },
     "metadata": {
      "needs_background": "light"
     },
     "output_type": "display_data"
    }
   ],
   "source": [
    "feat_importances.nlargest(25).plot(kind='barh',figsize=(7,7))"
   ]
  },
  {
   "cell_type": "markdown",
   "metadata": {},
   "source": [
    "We tried Selecting important features obtained by Linear Regression and use those to train XGBoost model, which seems to lower the accuracy a bit."
   ]
  },
  {
   "cell_type": "code",
   "execution_count": 110,
   "metadata": {},
   "outputs": [
    {
     "data": {
      "text/plain": [
       "0.7886444415173182"
      ]
     },
     "execution_count": 110,
     "metadata": {},
     "output_type": "execute_result"
    }
   ],
   "source": [
    "pipe_rfe_xgregcv = make_pipeline(processing_pipe,\n",
    "                                 RFECV(LinearRegression(), cv=5,n_jobs=-1), xg_reg)\n",
    "np.mean(cross_val_score(pipe_rfe_xgregcv, X_train_val, y_train_val, cv=5))"
   ]
  },
  {
   "cell_type": "code",
   "execution_count": 0,
   "metadata": {
    "colab": {},
    "colab_type": "code",
    "id": "bLwOewwF7Snx"
   },
   "outputs": [],
   "source": [
    "data['year'] = data['year'].astype(int)\n",
    "data['odometer'] = data['odometer'].astype(int)\n",
    "for i in categorical_columns:\n",
    "  data[i] = data[i].astype('category')"
   ]
  },
  {
   "cell_type": "code",
   "execution_count": 0,
   "metadata": {
    "colab": {},
    "colab_type": "code",
    "id": "jG7Y5uM4Bkd4"
   },
   "outputs": [],
   "source": [
    "data['age'] = data['year'] - 1985\n",
    "data = data.drop(columns = 'year')"
   ]
  },
  {
   "cell_type": "code",
   "execution_count": 0,
   "metadata": {
    "colab": {},
    "colab_type": "code",
    "id": "Q_WTw2am7VHg"
   },
   "outputs": [],
   "source": [
    "# randomly subsampling \n",
    "sample1 = data.sample(frac=0.5, random_state=1)\n",
    "sample1.shape\n",
    "\n",
    "# splitting the data into X (features) and y (i.e. label)\n",
    "y = sample1[['price']] # label\n",
    "X = sample1.drop(columns = ['price']) # features\n",
    "\n",
    "# splitting the data into training, validation and testing\n",
    "X_train_val, X_test, y_train_val, y_test = train_test_split(X, y, test_size=0.2, random_state = 42)\n",
    "X_train, X_val, y_train, y_val = train_test_split(X_train_val, y_train_val, test_size=0.2, random_state = 42)"
   ]
  },
  {
   "cell_type": "code",
   "execution_count": 0,
   "metadata": {
    "colab": {
     "base_uri": "https://localhost:8080/",
     "height": 306
    },
    "colab_type": "code",
    "id": "on4e938Xksu9",
    "outputId": "e9657311-2dfe-4aa3-c767-628c50d2e6e6"
   },
   "outputs": [
    {
     "data": {
      "text/plain": [
       "region            object\n",
       "price              int64\n",
       "manufacturer      object\n",
       "model             object\n",
       "condition       category\n",
       "cylinders       category\n",
       "fuel            category\n",
       "odometer           int64\n",
       "title_status    category\n",
       "transmission    category\n",
       "drive           category\n",
       "size            category\n",
       "type            category\n",
       "paint_color     category\n",
       "state             object\n",
       "age                int64\n",
       "dtype: object"
      ]
     },
     "execution_count": 43,
     "metadata": {
      "tags": []
     },
     "output_type": "execute_result"
    }
   ],
   "source": [
    "data.dtypes"
   ]
  },
  {
   "cell_type": "code",
   "execution_count": 0,
   "metadata": {
    "colab": {},
    "colab_type": "code",
    "id": "vYJh6yxu7YDC"
   },
   "outputs": [],
   "source": [
    "cat_processing = make_pipeline(OneHotEncoder(handle_unknown = 'ignore'))\n",
    "cont_processing = make_pipeline(PolynomialFeatures(degree=2), StandardScaler())\n",
    "target_processing = make_pipeline(TargetEncoder(), StandardScaler())\n",
    "\n",
    "preprocess = make_column_transformer(\n",
    "    (target_processing, make_column_selector(dtype_include = 'object')),\n",
    "    (cat_processing, make_column_selector(dtype_include = 'category')), remainder=cont_processing)"
   ]
  },
  {
   "cell_type": "code",
   "execution_count": 0,
   "metadata": {
    "colab": {},
    "colab_type": "code",
    "id": "hGoljvsD7b4p"
   },
   "outputs": [],
   "source": [
    "y_train_val = y_train_val.values\n",
    "y_train_val = y_train_val.ravel()"
   ]
  },
  {
   "cell_type": "code",
   "execution_count": 0,
   "metadata": {
    "colab": {},
    "colab_type": "code",
    "id": "7FiVyMS-7eWR"
   },
   "outputs": [],
   "source": [
    "pipe = make_pipeline(preprocess, DecisionTreeRegressor(max_depth = 5))"
   ]
  },
  {
   "cell_type": "code",
   "execution_count": 0,
   "metadata": {
    "colab": {
     "base_uri": "https://localhost:8080/",
     "height": 51
    },
    "colab_type": "code",
    "id": "mYFEeDUj8mbi",
    "outputId": "4d253dcf-e5b6-476a-db36-8a6c861e91d2"
   },
   "outputs": [
    {
     "name": "stdout",
     "output_type": "stream",
     "text": [
      "0.5598398554129603\n",
      "--- 2.840186357498169 seconds ---\n"
     ]
    }
   ],
   "source": [
    "start_time = time.time()\n",
    "pipe.fit(X_train_val, y_train_val)\n",
    "pred = pipe.predict(X_test)\n",
    "print(pipe.score(X_test,y_test))\n",
    "print(\"--- %s seconds ---\" % (time.time() - start_time))"
   ]
  },
  {
   "cell_type": "code",
   "execution_count": 0,
   "metadata": {
    "colab": {
     "base_uri": "https://localhost:8080/",
     "height": 374
    },
    "colab_type": "code",
    "id": "nt3x0XLLDdqY",
    "outputId": "2ccc5969-232c-44fe-d3af-1c5c49913502"
   },
   "outputs": [
    {
     "data": {
      "text/plain": [
       "{'pipeline-1': Pipeline(memory=None,\n",
       "          steps=[('targetencoder',\n",
       "                  TargetEncoder(cols=['region', 'manufacturer', 'model',\n",
       "                                      'state'],\n",
       "                                drop_invariant=False, handle_missing='value',\n",
       "                                handle_unknown='value', min_samples_leaf=1,\n",
       "                                return_df=True, smoothing=1.0, verbose=0)),\n",
       "                 ('standardscaler',\n",
       "                  StandardScaler(copy=True, with_mean=True, with_std=True))],\n",
       "          verbose=False), 'pipeline-2': Pipeline(memory=None,\n",
       "          steps=[('onehotencoder',\n",
       "                  OneHotEncoder(categories='auto', drop=None,\n",
       "                                dtype=<class 'numpy.float64'>,\n",
       "                                handle_unknown='ignore', sparse=True))],\n",
       "          verbose=False), 'remainder': Pipeline(memory=None,\n",
       "          steps=[('polynomialfeatures',\n",
       "                  PolynomialFeatures(degree=2, include_bias=True,\n",
       "                                     interaction_only=True, order='C')),\n",
       "                 ('standardscaler',\n",
       "                  StandardScaler(copy=True, with_mean=True, with_std=True))],\n",
       "          verbose=False)}"
      ]
     },
     "execution_count": 57,
     "metadata": {
      "tags": []
     },
     "output_type": "execute_result"
    }
   ],
   "source": [
    "preprocess.named_transformers_"
   ]
  },
  {
   "cell_type": "code",
   "execution_count": 0,
   "metadata": {
    "colab": {},
    "colab_type": "code",
    "id": "zVAOY-xR_ZY3"
   },
   "outputs": [],
   "source": [
    "l2 = preprocess.named_transformers_['pipeline-2']['onehotencoder'].get_feature_names()\n",
    "l1 = preprocess.named_transformers_['pipeline-1']['targetencoder'].get_feature_names()\n",
    "l3 = preprocess.named_transformers_['remainder']['polynomialfeatures'].get_feature_names()"
   ]
  },
  {
   "cell_type": "code",
   "execution_count": 0,
   "metadata": {
    "colab": {
     "base_uri": "https://localhost:8080/",
     "height": 85
    },
    "colab_type": "code",
    "id": "fF9JybI_HQhD",
    "outputId": "2294a397-a60e-4d5a-a179-cf1cf5b18af9",
    "scrolled": true
   },
   "outputs": [
    {
     "data": {
      "text/plain": [
       "Index(['region', 'manufacturer', 'model', 'condition', 'cylinders', 'fuel',\n",
       "       'odometer', 'title_status', 'transmission', 'drive', 'size', 'type',\n",
       "       'paint_color', 'state', 'age'],\n",
       "      dtype='object')"
      ]
     },
     "execution_count": 86,
     "metadata": {
      "tags": []
     },
     "output_type": "execute_result"
    }
   ],
   "source": [
    "X_train_val.columns"
   ]
  },
  {
   "cell_type": "markdown",
   "metadata": {
    "colab_type": "text",
    "id": "k14YS1ts7BR6"
   },
   "source": [
    "Top features using Feature Importances from Decision Tree Regressor model"
   ]
  },
  {
   "cell_type": "code",
   "execution_count": 42,
   "metadata": {
    "colab": {
     "base_uri": "https://localhost:8080/",
     "height": 102
    },
    "colab_type": "code",
    "id": "XXGaVkTFEyf6",
    "outputId": "2091f273-9e03-4db4-94e6-1adfa1231a77"
   },
   "outputs": [
    {
     "data": {
      "text/plain": [
       "[(0.4648291621361818, 'model'),\n",
       " (0.4388180551704728, 'x1^2'),\n",
       " (0.04087845053092869, 'x1'),\n",
       " (0.02700873564977228, 'x2_diesel'),\n",
       " (0.014503134242888526, 'x0^2')]"
      ]
     },
     "execution_count": 42,
     "metadata": {},
     "output_type": "execute_result"
    }
   ],
   "source": [
    "features = list(l1)\n",
    "features.extend(l2)\n",
    "features.extend(l3)\n",
    "coef = pipe[1].feature_importances_\n",
    "t1 = [(i,j) for i, j in zip(coef, features)]\n",
    "t2 = sorted(t1, key = lambda a: abs(a[0]), reverse = True)\n",
    "t2[:5]"
   ]
  },
  {
   "cell_type": "code",
   "execution_count": 0,
   "metadata": {
    "colab": {},
    "colab_type": "code",
    "id": "vYJh6yxu7YDC"
   },
   "outputs": [],
   "source": [
    "cat_processing = make_pipeline(OneHotEncoder(handle_unknown = 'ignore'))\n",
    "cont_processing = make_pipeline(PolynomialFeatures(interaction_only=True), StandardScaler())\n",
    "target_processing = make_pipeline(TargetEncoder(), StandardScaler())\n",
    "\n",
    "preprocess = make_column_transformer(\n",
    "    (target_processing, make_column_selector(dtype_include = 'object')),\n",
    "    (cat_processing, make_column_selector(dtype_include = 'category')), remainder=cont_processing)"
   ]
  },
  {
   "cell_type": "code",
   "execution_count": 0,
   "metadata": {
    "colab": {},
    "colab_type": "code",
    "id": "hGoljvsD7b4p"
   },
   "outputs": [],
   "source": [
    "y_train_val = y_train_val.values\n",
    "y_train_val = y_train_val.ravel()"
   ]
  },
  {
   "cell_type": "code",
   "execution_count": 0,
   "metadata": {
    "colab": {},
    "colab_type": "code",
    "id": "7FiVyMS-7eWR"
   },
   "outputs": [],
   "source": [
    "pipe = make_pipeline(preprocess, DecisionTreeRegressor(max_depth = 5))"
   ]
  },
  {
   "cell_type": "code",
   "execution_count": 0,
   "metadata": {
    "colab": {
     "base_uri": "https://localhost:8080/",
     "height": 51
    },
    "colab_type": "code",
    "id": "mYFEeDUj8mbi",
    "outputId": "4d253dcf-e5b6-476a-db36-8a6c861e91d2"
   },
   "outputs": [
    {
     "name": "stdout",
     "output_type": "stream",
     "text": [
      "0.5598398554129603\n",
      "--- 2.840186357498169 seconds ---\n"
     ]
    }
   ],
   "source": [
    "start_time = time.time()\n",
    "pipe.fit(X_train_val, y_train_val)\n",
    "pred = pipe.predict(X_test)\n",
    "print(pipe.score(X_test,y_test))\n",
    "print(\"--- %s seconds ---\" % (time.time() - start_time))"
   ]
  },
  {
   "cell_type": "code",
   "execution_count": 0,
   "metadata": {
    "colab": {
     "base_uri": "https://localhost:8080/",
     "height": 374
    },
    "colab_type": "code",
    "id": "nt3x0XLLDdqY",
    "outputId": "2ccc5969-232c-44fe-d3af-1c5c49913502"
   },
   "outputs": [
    {
     "data": {
      "text/plain": [
       "{'pipeline-1': Pipeline(memory=None,\n",
       "          steps=[('targetencoder',\n",
       "                  TargetEncoder(cols=['region', 'manufacturer', 'model',\n",
       "                                      'state'],\n",
       "                                drop_invariant=False, handle_missing='value',\n",
       "                                handle_unknown='value', min_samples_leaf=1,\n",
       "                                return_df=True, smoothing=1.0, verbose=0)),\n",
       "                 ('standardscaler',\n",
       "                  StandardScaler(copy=True, with_mean=True, with_std=True))],\n",
       "          verbose=False), 'pipeline-2': Pipeline(memory=None,\n",
       "          steps=[('onehotencoder',\n",
       "                  OneHotEncoder(categories='auto', drop=None,\n",
       "                                dtype=<class 'numpy.float64'>,\n",
       "                                handle_unknown='ignore', sparse=True))],\n",
       "          verbose=False), 'remainder': Pipeline(memory=None,\n",
       "          steps=[('polynomialfeatures',\n",
       "                  PolynomialFeatures(degree=2, include_bias=True,\n",
       "                                     interaction_only=True, order='C')),\n",
       "                 ('standardscaler',\n",
       "                  StandardScaler(copy=True, with_mean=True, with_std=True))],\n",
       "          verbose=False)}"
      ]
     },
     "execution_count": 57,
     "metadata": {
      "tags": []
     },
     "output_type": "execute_result"
    }
   ],
   "source": [
    "preprocess.named_transformers_"
   ]
  },
  {
   "cell_type": "code",
   "execution_count": 0,
   "metadata": {
    "colab": {},
    "colab_type": "code",
    "id": "zVAOY-xR_ZY3"
   },
   "outputs": [],
   "source": [
    "l2 = preprocess.named_transformers_['pipeline-2']['onehotencoder'].get_feature_names()\n",
    "l1 = preprocess.named_transformers_['pipeline-1']['targetencoder'].get_feature_names()\n",
    "l3 = preprocess.named_transformers_['remainder']['polynomialfeatures'].get_feature_names()"
   ]
  },
  {
   "cell_type": "code",
   "execution_count": 0,
   "metadata": {
    "colab": {
     "base_uri": "https://localhost:8080/",
     "height": 85
    },
    "colab_type": "code",
    "id": "fF9JybI_HQhD",
    "outputId": "2294a397-a60e-4d5a-a179-cf1cf5b18af9",
    "scrolled": true
   },
   "outputs": [
    {
     "data": {
      "text/plain": [
       "Index(['region', 'manufacturer', 'model', 'condition', 'cylinders', 'fuel',\n",
       "       'odometer', 'title_status', 'transmission', 'drive', 'size', 'type',\n",
       "       'paint_color', 'state', 'age'],\n",
       "      dtype='object')"
      ]
     },
     "execution_count": 86,
     "metadata": {
      "tags": []
     },
     "output_type": "execute_result"
    }
   ],
   "source": [
    "X_train_val.columns"
   ]
  },
  {
   "cell_type": "code",
   "execution_count": 0,
   "metadata": {
    "colab": {
     "base_uri": "https://localhost:8080/",
     "height": 102
    },
    "colab_type": "code",
    "id": "XXGaVkTFEyf6",
    "outputId": "3a6bcf48-be4a-4d39-dab1-621e3d97ef94"
   },
   "outputs": [
    {
     "data": {
      "text/plain": [
       "[(0.47969650570140154, 'x1'),\n",
       " (0.4648291621361818, 'model'),\n",
       " (0.02700873564977228, 'x2_diesel'),\n",
       " (0.017077757932763525, 'x0'),\n",
       " (0.011387838579880879, 'region')]"
      ]
     },
     "execution_count": 20,
     "metadata": {
      "tags": []
     },
     "output_type": "execute_result"
    }
   ],
   "source": [
    "features = list(l1)\n",
    "features.extend(l2)\n",
    "features.extend(l3)\n",
    "coef = pipe[1].feature_importances_\n",
    "t1 = [(i,j) for i, j in zip(coef, features)]\n",
    "t2 = sorted(t1, key = lambda a: abs(a[0]), reverse = True)\n",
    "t2[:5]"
   ]
  },
  {
   "cell_type": "code",
   "execution_count": 0,
   "metadata": {
    "colab": {},
    "colab_type": "code",
    "id": "Ssto6TXTHzPk"
   },
   "outputs": [],
   "source": [
    "X1 = preprocess.fit_transform(X_train_val, y_train_val)"
   ]
  },
  {
   "cell_type": "code",
   "execution_count": 0,
   "metadata": {
    "colab": {
     "base_uri": "https://localhost:8080/",
     "height": 34
    },
    "colab_type": "code",
    "id": "_BKcsJuYWs6d",
    "outputId": "a97cb940-2c87-4157-dff8-9242333cd710"
   },
   "outputs": [
    {
     "data": {
      "text/plain": [
       "(193196, 69)"
      ]
     },
     "execution_count": 47,
     "metadata": {
      "tags": []
     },
     "output_type": "execute_result"
    }
   ],
   "source": [
    "print(X1.shape)\n",
    "X1 = X1.todense()\n",
    "X1_preprocessed = pd.DataFrame(X1, columns = features)"
   ]
  },
  {
   "cell_type": "markdown",
   "metadata": {
    "colab_type": "text",
    "id": "TlKpxEmR7Q2V"
   },
   "source": [
    "##### Method 1 - Using Recursive Feature Elimination using Linear Regression"
   ]
  },
  {
   "cell_type": "code",
   "execution_count": 0,
   "metadata": {
    "colab": {
     "base_uri": "https://localhost:8080/",
     "height": 173
    },
    "colab_type": "code",
    "id": "84_Pm0aTXqtn",
    "outputId": "d31f9097-82cc-4b02-a94f-82c9e5711901"
   },
   "outputs": [
    {
     "name": "stderr",
     "output_type": "stream",
     "text": [
      "/usr/local/lib/python3.6/dist-packages/sklearn/utils/validation.py:760: DataConversionWarning: A column-vector y was passed when a 1d array was expected. Please change the shape of y to (n_samples, ), for example using ravel().\n",
      "  y = column_or_1d(y, warn=True)\n"
     ]
    },
    {
     "name": "stdout",
     "output_type": "stream",
     "text": [
      "[ True  True  True  True  True  True  True  True  True  True  True  True\n",
      "  True  True  True  True  True  True  True  True  True  True  True  True\n",
      "  True  True  True  True  True  True  True  True  True  True  True  True\n",
      "  True  True  True  True  True  True  True  True  True  True  True  True\n",
      "  True False  True  True  True  True  True  True  True  True  True  True\n",
      "  True  True  True  True  True False  True  True  True]\n"
     ]
    }
   ],
   "source": [
    "# Recursive Feature Elimination using Linear Regression\n",
    "from sklearn.feature_selection import RFECV\n",
    "rfe = RFECV(LinearRegression(), cv=10, min_features_to_select=1)\n",
    "rfe.fit(X1, y_train_val)\n",
    "print(rfe.support_)"
   ]
  },
  {
   "cell_type": "code",
   "execution_count": 0,
   "metadata": {
    "colab": {
     "base_uri": "https://localhost:8080/",
     "height": 289
    },
    "colab_type": "code",
    "id": "HqfFjPP5oo2X",
    "outputId": "76cd6fad-078b-4bcd-bd4b-9aa1e25b76a5"
   },
   "outputs": [
    {
     "name": "stdout",
     "output_type": "stream",
     "text": [
      "Index(['x0_excellent', 'x0_fair', 'x0_good', 'x0_like new', 'x0_new',\n",
      "       'x0_salvage', 'x1_10 cylinders', 'x1_12 cylinders', 'x1_3 cylinders',\n",
      "       'x1_4 cylinders', 'x1_5 cylinders', 'x1_6 cylinders', 'x1_8 cylinders',\n",
      "       'x1_other', 'x2_diesel', 'x2_electric', 'x2_gas', 'x2_hybrid',\n",
      "       'x2_other', 'x3_clean', 'x3_lien', 'x3_missing', 'x3_parts only',\n",
      "       'x3_rebuilt', 'x3_salvage', 'x4_automatic', 'x4_manual', 'x4_other',\n",
      "       'x5_4wd', 'x5_fwd', 'x5_rwd', 'x6_compact', 'x6_full-size',\n",
      "       'x6_mid-size', 'x6_sub-compact', 'x7_SUV', 'x7_bus', 'x7_convertible',\n",
      "       'x7_coupe', 'x7_hatchback', 'x7_mini-van', 'x7_offroad', 'x7_other',\n",
      "       'x7_pickup', 'x7_sedan', 'x7_truck', 'x7_van', 'x7_wagon', 'x8_Unknown',\n",
      "       'x8_blue', 'x8_brown', 'x8_custom', 'x8_green', 'x8_grey', 'x8_orange',\n",
      "       'x8_purple', 'x8_red', 'x8_silver', 'x8_white', 'x8_yellow', 'region',\n",
      "       'manufacturer', 'model', 'state', 'x0', 'x1', 'x0 x1'],\n",
      "      dtype='object')\n",
      "[1 1 1 1 1 1 1 1 1 1 1 1 1 1 1 1 1 1 1 1 1 1 1 1 1 1 1 1 1 1 1 1 1 1 1 1 1\n",
      " 1 1 1 1 1 1 1 1 1 1 1 1 2 1 1 1 1 1 1 1 1 1 1 1 1 1 1 1 3 1 1 1]\n"
     ]
    }
   ],
   "source": [
    "# feature importances by RFECV\n",
    "print(X1_preprocessed.columns[rfe.support_])\n",
    "print(rfe.ranking_)"
   ]
  },
  {
   "cell_type": "code",
   "execution_count": 4,
   "metadata": {},
   "outputs": [],
   "source": [
    "# Recursive Feature Selection using XGBoost taking a lot of time\n",
    "from sklearn.feature_selection import RFECV\n",
    "rfe = RFECV(xgb, cv=5)\n",
    "rfe.fit(X1, y_train_val)\n",
    "print(rfe.support_)\n",
    "print(X1_preprocessed.columns[rfe.support_])"
   ]
  },
  {
   "cell_type": "markdown",
   "metadata": {},
   "source": [
    "We tried getting features importance using RFECV for XGBoost model but it took a lot of time and hence we didn't continue with that further."
   ]
  },
  {
   "cell_type": "markdown",
   "metadata": {
    "colab": {},
    "colab_type": "code",
    "id": "0nmrO_fvxF_S"
   },
   "source": [
    "##### Method 2 - Using Recursive Feature Elimination using Decision Tree"
   ]
  },
  {
   "cell_type": "code",
   "execution_count": 45,
   "metadata": {},
   "outputs": [],
   "source": [
    "xgreg = XGBRegressor(alpha = 0.1, \n",
    "                   colsample_bytree = 0.5,\n",
    "                   learning_rate = 0.1,\n",
    "                   max_depth = 25,\n",
    "                   n_estimators = 50,\n",
    "                   n_jobs = -1)"
   ]
  },
  {
   "cell_type": "code",
   "execution_count": 48,
   "metadata": {},
   "outputs": [
    {
     "data": {
      "text/plain": [
       "0.5838623684153589"
      ]
     },
     "execution_count": 48,
     "metadata": {},
     "output_type": "execute_result"
    }
   ],
   "source": [
    "pipe_rfe_xgregcv = make_pipeline(preprocess,\n",
    "                                 RFECV(DecisionTreeRegressor(), cv=5,n_jobs=-1), \n",
    "                                 xgreg)\n",
    "np.mean(cross_val_score(pipe_rfe_xgregcv, X_train_val, y_train_val, cv=5))"
   ]
  },
  {
   "cell_type": "markdown",
   "metadata": {
    "colab_type": "text",
    "id": "CNabhs0o7rmT"
   },
   "source": [
    "##### Method 3 - Finding important features using SelectFromModel using XGBoost and LassoCV"
   ]
  },
  {
   "cell_type": "code",
   "execution_count": 0,
   "metadata": {
    "colab": {},
    "colab_type": "code",
    "id": "QW7o0t0Is6ih"
   },
   "outputs": [],
   "source": [
    "xgb = XGBRegressor(objective = 'reg:squarederror',\n",
    "                   alpha = 0.1, \n",
    "                   colsample_bytree = 0.5,\n",
    "                   learning_rate = 0.1,\n",
    "                   max_depth = 25,\n",
    "                   n_estimators = 50,\n",
    "                   n_jobs = -1)"
   ]
  },
  {
   "cell_type": "code",
   "execution_count": 0,
   "metadata": {
    "colab": {
     "base_uri": "https://localhost:8080/",
     "height": 34
    },
    "colab_type": "code",
    "id": "wF02bjX_r6XX",
    "outputId": "e8ddbf1c-e877-43d5-e34b-f95c549fde9f"
   },
   "outputs": [
    {
     "name": "stdout",
     "output_type": "stream",
     "text": [
      "(193196, 20)\n"
     ]
    }
   ],
   "source": [
    "select_xgboost = SelectFromModel(xgb, threshold=1e-2)\n",
    "select_xgboost.fit(X1, y_train_val)\n",
    "print(select_xgboost.transform(X1).shape)"
   ]
  },
  {
   "cell_type": "code",
   "execution_count": 0,
   "metadata": {
    "colab": {
     "base_uri": "https://localhost:8080/",
     "height": 51
    },
    "colab_type": "code",
    "id": "74ktvoAYuao9",
    "outputId": "bb96afd2-4ee6-4c55-8d45-7e152e2c3486"
   },
   "outputs": [
    {
     "name": "stdout",
     "output_type": "stream",
     "text": [
      "0.6230376730226608\n",
      "0.5942005347243712\n"
     ]
    }
   ],
   "source": [
    "X1_xgboost = select_xgboost.transform(X1)\n",
    "pipe_xgb = make_pipeline(DecisionTreeRegressor())\n",
    "print(np.mean(cross_val_score(pipe_xgb, X1_xgboost, y_train_val, cv=10)))\n",
    "print(np.mean(cross_val_score(pipe_xgb, X1, y_train_val, cv=10)))"
   ]
  },
  {
   "cell_type": "markdown",
   "metadata": {
    "colab_type": "text",
    "id": "1_5FBfcM18m8"
   },
   "source": [
    "We can see here that if we use only the top 20 features from SelectFromModel and use DecisionTreeRregressor on it, we get a better result than using all the features together. \n",
    "Next, we will run our XGBoost model on the top 20 features and see what happens."
   ]
  },
  {
   "cell_type": "code",
   "execution_count": 0,
   "metadata": {
    "colab": {
     "base_uri": "https://localhost:8080/",
     "height": 34
    },
    "colab_type": "code",
    "id": "TzqZEluN2TYn",
    "outputId": "fb146630-eea2-4408-cc13-1d202d1656fe"
   },
   "outputs": [
    {
     "name": "stdout",
     "output_type": "stream",
     "text": [
      "0.7812960221061896\n"
     ]
    }
   ],
   "source": [
    "print(np.mean(cross_val_score(xgb, X1_xgboost, y_train_val, cv=5)))"
   ]
  },
  {
   "cell_type": "markdown",
   "metadata": {
    "colab_type": "text",
    "id": "lh9izzXS3bSA"
   },
   "source": [
    "Now, lets select features using LassoCV and then use those features to run our XGBoost model. "
   ]
  },
  {
   "cell_type": "code",
   "execution_count": 0,
   "metadata": {
    "colab": {
     "base_uri": "https://localhost:8080/",
     "height": 34
    },
    "colab_type": "code",
    "id": "PTSgYUqublAf",
    "outputId": "8f0a0810-80d7-487d-a89b-0185ca0e8c27"
   },
   "outputs": [
    {
     "name": "stdout",
     "output_type": "stream",
     "text": [
      "(193196, 39)\n"
     ]
    }
   ],
   "source": [
    "select_lassocv = SelectFromModel(LassoCV(), threshold=1e-4)\n",
    "select_lassocv.fit(X1, y_train_val)\n",
    "X1_lasso = select_lassocv.transform(X1)\n",
    "print(select_lassocv.transform(X1).shape)"
   ]
  },
  {
   "cell_type": "code",
   "execution_count": 0,
   "metadata": {
    "colab": {
     "base_uri": "https://localhost:8080/",
     "height": 34
    },
    "colab_type": "code",
    "id": "srwyomi-3pqb",
    "outputId": "f4b3a801-6a05-404b-c870-c8088bf73e9b"
   },
   "outputs": [
    {
     "name": "stdout",
     "output_type": "stream",
     "text": [
      "0.803380444684214\n"
     ]
    }
   ],
   "source": [
    "print(np.mean(cross_val_score(xgb, X1_lasso, y_train_val, cv=5)))"
   ]
  },
  {
   "cell_type": "markdown",
   "metadata": {
    "colab_type": "text",
    "id": "FZOiKEOj8YeJ"
   },
   "source": [
    "We can see that if we select the important features using LassoCV and then apply XGBoost on those important feautre, we get a better model"
   ]
  },
  {
   "cell_type": "code",
   "execution_count": 0,
   "metadata": {
    "colab": {
     "base_uri": "https://localhost:8080/",
     "height": 411
    },
    "colab_type": "code",
    "id": "UfIHMeYUcJc1",
    "outputId": "13fad638-8eb1-4cfc-a2f5-356fd292e5eb"
   },
   "outputs": [
    {
     "name": "stderr",
     "output_type": "stream",
     "text": [
      "/usr/local/lib/python3.6/dist-packages/sklearn/linear_model/_coordinate_descent.py:1088: DataConversionWarning: A column-vector y was passed when a 1d array was expected. Please change the shape of y to (n_samples, ), for example using ravel().\n",
      "  y = column_or_1d(y, warn=True)\n",
      "/usr/local/lib/python3.6/dist-packages/sklearn/linear_model/_coordinate_descent.py:1088: DataConversionWarning: A column-vector y was passed when a 1d array was expected. Please change the shape of y to (n_samples, ), for example using ravel().\n",
      "  y = column_or_1d(y, warn=True)\n",
      "/usr/local/lib/python3.6/dist-packages/sklearn/linear_model/_coordinate_descent.py:1088: DataConversionWarning: A column-vector y was passed when a 1d array was expected. Please change the shape of y to (n_samples, ), for example using ravel().\n",
      "  y = column_or_1d(y, warn=True)\n",
      "/usr/local/lib/python3.6/dist-packages/sklearn/linear_model/_coordinate_descent.py:1088: DataConversionWarning: A column-vector y was passed when a 1d array was expected. Please change the shape of y to (n_samples, ), for example using ravel().\n",
      "  y = column_or_1d(y, warn=True)\n",
      "/usr/local/lib/python3.6/dist-packages/sklearn/linear_model/_coordinate_descent.py:1088: DataConversionWarning: A column-vector y was passed when a 1d array was expected. Please change the shape of y to (n_samples, ), for example using ravel().\n",
      "  y = column_or_1d(y, warn=True)\n",
      "/usr/local/lib/python3.6/dist-packages/sklearn/linear_model/_coordinate_descent.py:1088: DataConversionWarning: A column-vector y was passed when a 1d array was expected. Please change the shape of y to (n_samples, ), for example using ravel().\n",
      "  y = column_or_1d(y, warn=True)\n",
      "/usr/local/lib/python3.6/dist-packages/sklearn/linear_model/_coordinate_descent.py:1088: DataConversionWarning: A column-vector y was passed when a 1d array was expected. Please change the shape of y to (n_samples, ), for example using ravel().\n",
      "  y = column_or_1d(y, warn=True)\n",
      "/usr/local/lib/python3.6/dist-packages/sklearn/linear_model/_coordinate_descent.py:1088: DataConversionWarning: A column-vector y was passed when a 1d array was expected. Please change the shape of y to (n_samples, ), for example using ravel().\n",
      "  y = column_or_1d(y, warn=True)\n",
      "/usr/local/lib/python3.6/dist-packages/sklearn/linear_model/_coordinate_descent.py:1088: DataConversionWarning: A column-vector y was passed when a 1d array was expected. Please change the shape of y to (n_samples, ), for example using ravel().\n",
      "  y = column_or_1d(y, warn=True)\n",
      "/usr/local/lib/python3.6/dist-packages/sklearn/linear_model/_coordinate_descent.py:1088: DataConversionWarning: A column-vector y was passed when a 1d array was expected. Please change the shape of y to (n_samples, ), for example using ravel().\n",
      "  y = column_or_1d(y, warn=True)\n"
     ]
    },
    {
     "name": "stdout",
     "output_type": "stream",
     "text": [
      "0.5925153093067441\n",
      "0.5931984748529692\n"
     ]
    }
   ],
   "source": [
    "pipe_lassocv = make_pipeline(select_lassocv, RidgeCV())\n",
    "all_features = make_pipeline(RidgeCV())\n",
    "print(np.mean(cross_val_score(pipe_lassocv, X1, y_train_val, cv=10)))\n",
    "print(np.mean(cross_val_score(all_features, X1, y_train_val, cv=10)))"
   ]
  },
  {
   "cell_type": "markdown",
   "metadata": {
    "colab_type": "text",
    "id": "wnP3yA-j58UN"
   },
   "source": [
    "Next, we tried using Sequential Feature Selector on Linear Regression to get the most important features."
   ]
  },
  {
   "cell_type": "markdown",
   "metadata": {},
   "source": [
    "##### Method 4 - Finding important features using Sequential Feature Selector on Linear Regression and on XGBoost\n"
   ]
  },
  {
   "cell_type": "code",
   "execution_count": 0,
   "metadata": {
    "colab": {
     "base_uri": "https://localhost:8080/",
     "height": 156
    },
    "colab_type": "code",
    "id": "WmTzUBKcod9x",
    "outputId": "ae0b1e76-b607-464f-e959-4d6a72bf7935"
   },
   "outputs": [
    {
     "name": "stderr",
     "output_type": "stream",
     "text": [
      "/usr/local/lib/python3.6/dist-packages/sklearn/externals/joblib/__init__.py:15: FutureWarning: sklearn.externals.joblib is deprecated in 0.21 and will be removed in 0.23. Please import this functionality directly from joblib, which can be installed with: pip install joblib. If this warning is raised when loading pickled models, you may need to re-serialize those models with scikit-learn 0.21+.\n",
      "  warnings.warn(msg, category=FutureWarning)\n"
     ]
    },
    {
     "name": "stdout",
     "output_type": "stream",
     "text": [
      "(11, 12, 16, 61, 63, 67, 68)\n",
      "Index(['x1_6 cylinders', 'x1_8 cylinders', 'x2_gas', 'region', 'model', 'x1',\n",
      "       'x0 x1'],\n",
      "      dtype='object')\n",
      "0.5654248460648045\n"
     ]
    }
   ],
   "source": [
    "sfs = SequentialFeatureSelector(LinearRegression(), forward=False, k_features=7)\n",
    "sfs.fit(X1, y_train_val)\n",
    "\n",
    "print(sfs.k_feature_idx_)\n",
    "print(X1_preprocessed.columns[np.array(sfs.k_feature_idx_)])\n",
    "\n",
    "print(sfs.k_score_)"
   ]
  },
  {
   "cell_type": "code",
   "execution_count": 0,
   "metadata": {
    "colab": {},
    "colab_type": "code",
    "id": "5AborQsH6GFl"
   },
   "outputs": [],
   "source": [
    "# tried the same for XGBoost, but its taking a lot of time\n",
    "sfs = SequentialFeatureSelector(xgb, forward=False, k_features=7)\n",
    "sfs.fit(X1, y_train_val)\n",
    "\n",
    "print(sfs.k_feature_idx_)\n",
    "print(X1_preprocessed.columns[np.array(sfs.k_feature_idx_)])\n",
    "\n",
    "print(sfs.k_score_)"
   ]
  },
  {
   "cell_type": "markdown",
   "metadata": {},
   "source": [
    "We tried getting features importance using Sequential Feature Selector for XGBoost model but it took a lot of time and hence we didn't continue with that further."
   ]
  },
  {
   "cell_type": "markdown",
   "metadata": {
    "colab_type": "text",
    "id": "2qz_TebkmFDq"
   },
   "source": [
    "- As we can see that we are getting a very good score after selecting features from LassoCV and then running our final XGBoost model with the tunes hyper parameters. Thus, we will now fit our LassoCV model on the entire dataset and report our score using the tuned XGBoost model on test data with only the features we get from LassoCV."
   ]
  },
  {
   "cell_type": "markdown",
   "metadata": {},
   "source": [
    "### Using LassoCV and SelectFromModel to select the important features and use those features to train the XGBoost model and get the R^2 score for test set"
   ]
  },
  {
   "cell_type": "code",
   "execution_count": 0,
   "metadata": {
    "colab": {},
    "colab_type": "code",
    "id": "GvfQb2A6mqkk"
   },
   "outputs": [],
   "source": [
    "# splitting the data into X (features) and y (i.e. label)\n",
    "y = data[['price']] # label\n",
    "X = data.drop(columns = ['price']) # features\n",
    "\n",
    "# splitting the data into training, validation and testing\n",
    "X_train_val, X_test, y_train_val, y_test = train_test_split(X, y, test_size=0.2, random_state = 42)\n",
    "X_train, X_val, y_train, y_val = train_test_split(X_train_val, y_train_val, test_size=0.2, random_state = 42)\n",
    "\n",
    "# preprocess the X_train and X_test\n",
    "X1 = preprocess.fit_transform(X_train_val, y_train_val)\n",
    "X_test_processed = preprocess.transform(X_test)"
   ]
  },
  {
   "cell_type": "code",
   "execution_count": 0,
   "metadata": {
    "colab": {
     "base_uri": "https://localhost:8080/",
     "height": 34
    },
    "colab_type": "code",
    "id": "xGByMUsNmEhI",
    "outputId": "fa75f77b-d964-44b1-d804-d3eda2931647"
   },
   "outputs": [
    {
     "name": "stdout",
     "output_type": "stream",
     "text": [
      "(386392, 41)\n"
     ]
    }
   ],
   "source": [
    "select_lassocv = SelectFromModel(LassoCV(), threshold=1e-4)\n",
    "select_lassocv.fit(X1, y_train_val)\n",
    "X1_lasso = select_lassocv.transform(X1)\n",
    "print(select_lassocv.transform(X1).shape)"
   ]
  },
  {
   "cell_type": "code",
   "execution_count": 0,
   "metadata": {
    "colab": {
     "base_uri": "https://localhost:8080/",
     "height": 51
    },
    "colab_type": "code",
    "id": "2Zkj7d27pnIQ",
    "outputId": "2380b42e-f5c0-406a-d526-fe355be9974c"
   },
   "outputs": [
    {
     "name": "stdout",
     "output_type": "stream",
     "text": [
      "0.8447703588643329\n",
      "--- 106.15354466438293 seconds ---\n"
     ]
    }
   ],
   "source": [
    "X_test_processed = select_lassocv.transform(X_test_processed)\n",
    "start_time = time.time()\n",
    "xgb.fit(X1_lasso, y_train_val)\n",
    "pred = xgb.predict(X_test_processed)\n",
    "print(xgb.score(X_test_processed,y_test))\n",
    "print(\"--- %s seconds ---\" % (time.time() - start_time))"
   ]
  },
  {
   "cell_type": "markdown",
   "metadata": {
    "colab_type": "text",
    "id": "vW583u-Erzqk"
   },
   "source": [
    "We can clearly see that when we did feature selection using LassoCV on the entire dataset, we increase the r-sqaured score of our final model that is XGBoost by 0.1."
   ]
  },
  {
   "cell_type": "markdown",
   "metadata": {
    "colab_type": "text",
    "id": "jmowHlNq8npF"
   },
   "source": [
    "# Explainable model"
   ]
  },
  {
   "cell_type": "markdown",
   "metadata": {
    "colab_type": "text",
    "id": "nP-xJ-bNlT7w"
   },
   "source": [
    "To make an explainable model, we will use only the top 6 features that we found from the different feature selection techniques above."
   ]
  },
  {
   "cell_type": "code",
   "execution_count": 0,
   "metadata": {
    "colab": {
     "base_uri": "https://localhost:8080/",
     "height": 204
    },
    "colab_type": "code",
    "id": "T7Yp4O0gqwqB",
    "outputId": "b0764978-983c-40cf-ff0b-f435187f3c2f"
   },
   "outputs": [
    {
     "data": {
      "text/html": [
       "<div>\n",
       "<style scoped>\n",
       "    .dataframe tbody tr th:only-of-type {\n",
       "        vertical-align: middle;\n",
       "    }\n",
       "\n",
       "    .dataframe tbody tr th {\n",
       "        vertical-align: top;\n",
       "    }\n",
       "\n",
       "    .dataframe thead th {\n",
       "        text-align: right;\n",
       "    }\n",
       "</style>\n",
       "<table border=\"1\" class=\"dataframe\">\n",
       "  <thead>\n",
       "    <tr style=\"text-align: right;\">\n",
       "      <th></th>\n",
       "      <th>model</th>\n",
       "      <th>region</th>\n",
       "      <th>odometer</th>\n",
       "      <th>age</th>\n",
       "      <th>fuel</th>\n",
       "      <th>price</th>\n",
       "    </tr>\n",
       "  </thead>\n",
       "  <tbody>\n",
       "    <tr>\n",
       "      <th>0</th>\n",
       "      <td>golf r</td>\n",
       "      <td>salt lake city</td>\n",
       "      <td>63500</td>\n",
       "      <td>27</td>\n",
       "      <td>gas</td>\n",
       "      <td>17899</td>\n",
       "    </tr>\n",
       "    <tr>\n",
       "      <th>1</th>\n",
       "      <td>f-150</td>\n",
       "      <td>salt lake city</td>\n",
       "      <td>10</td>\n",
       "      <td>31</td>\n",
       "      <td>gas</td>\n",
       "      <td>8990</td>\n",
       "    </tr>\n",
       "    <tr>\n",
       "      <th>3</th>\n",
       "      <td>f-150</td>\n",
       "      <td>salt lake city</td>\n",
       "      <td>10</td>\n",
       "      <td>31</td>\n",
       "      <td>gas</td>\n",
       "      <td>8990</td>\n",
       "    </tr>\n",
       "    <tr>\n",
       "      <th>5</th>\n",
       "      <td>Unknown</td>\n",
       "      <td>salt lake city</td>\n",
       "      <td>120057</td>\n",
       "      <td>24</td>\n",
       "      <td>gas</td>\n",
       "      <td>13999</td>\n",
       "    </tr>\n",
       "    <tr>\n",
       "      <th>6</th>\n",
       "      <td>f-350</td>\n",
       "      <td>salt lake city</td>\n",
       "      <td>95484</td>\n",
       "      <td>32</td>\n",
       "      <td>diesel</td>\n",
       "      <td>34500</td>\n",
       "    </tr>\n",
       "  </tbody>\n",
       "</table>\n",
       "</div>"
      ],
      "text/plain": [
       "     model          region  odometer  age    fuel  price\n",
       "0   golf r  salt lake city     63500   27     gas  17899\n",
       "1    f-150  salt lake city        10   31     gas   8990\n",
       "3    f-150  salt lake city        10   31     gas   8990\n",
       "5  Unknown  salt lake city    120057   24     gas  13999\n",
       "6    f-350  salt lake city     95484   32  diesel  34500"
      ]
     },
     "execution_count": 36,
     "metadata": {
      "tags": []
     },
     "output_type": "execute_result"
    }
   ],
   "source": [
    "# selecting the top features from different feature selection techniques\n",
    "important_features = ['model', 'region', 'odometer', 'age', 'fuel', 'price']\n",
    "small_data = data[important_features]\n",
    "small_data.head()"
   ]
  },
  {
   "cell_type": "code",
   "execution_count": 0,
   "metadata": {
    "colab": {
     "base_uri": "https://localhost:8080/",
     "height": 136
    },
    "colab_type": "code",
    "id": "8Bm0tzGVA3GO",
    "outputId": "272627c9-4b54-49bc-bee4-9ada918cfe84"
   },
   "outputs": [
    {
     "data": {
      "text/plain": [
       "model         object\n",
       "region        object\n",
       "odometer       int64\n",
       "age            int64\n",
       "fuel        category\n",
       "price          int64\n",
       "dtype: object"
      ]
     },
     "execution_count": 37,
     "metadata": {
      "tags": []
     },
     "output_type": "execute_result"
    }
   ],
   "source": [
    "small_data.dtypes"
   ]
  },
  {
   "cell_type": "code",
   "execution_count": 0,
   "metadata": {
    "colab": {},
    "colab_type": "code",
    "id": "YjL9LJ_sCi_O"
   },
   "outputs": [],
   "source": [
    "# splitting the data into X (features) and y (i.e. label)\n",
    "y = small_data[['price']] # label\n",
    "X = small_data.drop(columns = ['price']) # features\n",
    "\n",
    "# splitting the data into training, validation and testing\n",
    "X_train_val, X_test, y_train_val, y_test = train_test_split(X, y, test_size=0.2, random_state = 42)\n",
    "X_train, X_val, y_train, y_val = train_test_split(X_train_val, y_train_val, test_size=0.2, random_state = 42)"
   ]
  },
  {
   "cell_type": "code",
   "execution_count": 0,
   "metadata": {
    "colab": {},
    "colab_type": "code",
    "id": "ElcNrPcCsqg8"
   },
   "outputs": [],
   "source": [
    "# simple preprocessing to make an explainable model\n",
    "cat_processing = make_pipeline(OneHotEncoder(handle_unknown = 'ignore'))\n",
    "cont_processing = make_pipeline(StandardScaler())\n",
    "target_processing = make_pipeline(TargetEncoder(), StandardScaler())\n",
    "\n",
    "simple_preprocess = make_column_transformer(\n",
    "    (target_processing, make_column_selector(dtype_include = 'object')),\n",
    "    (cat_processing, make_column_selector(dtype_include = 'category')), remainder=cont_processing)"
   ]
  },
  {
   "cell_type": "code",
   "execution_count": 0,
   "metadata": {
    "colab": {
     "base_uri": "https://localhost:8080/",
     "height": 51
    },
    "colab_type": "code",
    "id": "2E61-QnTBC0x",
    "outputId": "cf9e12d6-f472-473c-868f-b2aad5887580"
   },
   "outputs": [
    {
     "name": "stdout",
     "output_type": "stream",
     "text": [
      "0.5581009056105071\n",
      "--- 1.1101269721984863 seconds ---\n"
     ]
    }
   ],
   "source": [
    "pipe = make_pipeline(simple_preprocess, LinearRegression())\n",
    "start_time = time.time()\n",
    "pipe.fit(X_train_val, y_train_val)\n",
    "pred = pipe.predict(X_test)\n",
    "print(pipe.score(X_test,y_test))\n",
    "print(\"--- %s seconds ---\" % (time.time() - start_time))"
   ]
  },
  {
   "cell_type": "markdown",
   "metadata": {
    "colab_type": "text",
    "id": "Ri7ZPH8oy_mc"
   },
   "source": [
    "When we ran a linear model on the entire dataset with all the features, we get a r-squared score of approximately 0.55 which is the same as above (when we select only the important features)."
   ]
  },
  {
   "cell_type": "code",
   "execution_count": 0,
   "metadata": {
    "colab": {},
    "colab_type": "code",
    "id": "hxZWY5hruryb"
   },
   "outputs": [],
   "source": [
    "# finding the coefficient after Linear Regression\n",
    "l2 = simple_preprocess.named_transformers_['pipeline-2']['onehotencoder'].get_feature_names()\n",
    "l1 = simple_preprocess.named_transformers_['pipeline-1']['targetencoder'].get_feature_names()\n",
    "l3 = ['odometer', 'age']"
   ]
  },
  {
   "cell_type": "code",
   "execution_count": 0,
   "metadata": {
    "colab": {
     "base_uri": "https://localhost:8080/",
     "height": 170
    },
    "colab_type": "code",
    "id": "0Rt1RJOJurym",
    "outputId": "b1c6fc1f-bef6-44a5-ec50-fe93447bb7fd"
   },
   "outputs": [
    {
     "data": {
      "text/plain": [
       "[(4121.772982430498, 'model'),\n",
       " (1041.710251508221, 'region'),\n",
       " (3932.0075692318596, 'x0_diesel'),\n",
       " (-2500.687733405713, 'x0_electric'),\n",
       " (-446.56012020231617, 'x0_gas'),\n",
       " (-1247.3486026821213, 'x0_hybrid'),\n",
       " (262.58888705828673, 'x0_other'),\n",
       " (-798.6072913450822, 'odometer'),\n",
       " (3100.590371221654, 'age')]"
      ]
     },
     "execution_count": 61,
     "metadata": {
      "tags": []
     },
     "output_type": "execute_result"
    }
   ],
   "source": [
    "features = list(l1)\n",
    "features.extend(l2)\n",
    "features.extend(l3)\n",
    "coef = pipe[1].coef_\n",
    "t1 = [(i,j) for i, j in zip(coef, features)]\n",
    "# t2 = sorted(t1, key = lambda a: abs(a[0]), reverse = True)\n",
    "t1"
   ]
  },
  {
   "cell_type": "code",
   "execution_count": 0,
   "metadata": {
    "colab": {
     "base_uri": "https://localhost:8080/",
     "height": 51
    },
    "colab_type": "code",
    "id": "UzUpnNNEbI5S",
    "outputId": "b4b94491-cf80-4e80-e7fc-7f7d281a7058"
   },
   "outputs": [
    {
     "name": "stdout",
     "output_type": "stream",
     "text": [
      "0.5704241328345019\n",
      "--- 1.8191964626312256 seconds ---\n"
     ]
    }
   ],
   "source": [
    "# converting y to numpy for random forest regression\n",
    "y_train_val = y_train_val.values\n",
    "y_train_val = y_train_val.ravel()\n",
    "\n",
    "pipe = make_pipeline(simple_preprocess, DecisionTreeRegressor(max_depth = 5))\n",
    "start_time = time.time()\n",
    "pipe.fit(X_train_val, y_train_val)\n",
    "pred = pipe.predict(X_test)\n",
    "print(pipe.score(X_test,y_test))\n",
    "print(\"--- %s seconds ---\" % (time.time() - start_time))"
   ]
  },
  {
   "cell_type": "markdown",
   "metadata": {},
   "source": [
    " We also tried building XGBoost model on whole dataset with the selected features but it gave worse R^2 as compared to the normal. We tried this to see if our explainable model was as good as the original model but comparing a normal decision tree with the XGBoost trained on whole dataset is too unrealistic when we already know that the XGBoost is a complex model and would generalize in a better way.\n",
    " \n",
    "So to compare the performance keeping in mind the features we took and the performance of the explainable small decison tree was neerly same as XGBoost trained using the selected features(in fact greater than 0.1 as compared to XGBoost)."
   ]
  },
  {
   "cell_type": "code",
   "execution_count": 0,
   "metadata": {
    "colab": {},
    "colab_type": "code",
    "id": "VZLRR1y8ajPs"
   },
   "outputs": [],
   "source": [
    "X2 = simple_preprocess.fit_transform(X_train_val, y_train_val)"
   ]
  },
  {
   "cell_type": "code",
   "execution_count": 0,
   "metadata": {
    "colab": {},
    "colab_type": "code",
    "id": "Hrdue7jbaNn0"
   },
   "outputs": [],
   "source": [
    "l2 = simple_preprocess.named_transformers_['pipeline-2']['onehotencoder'].get_feature_names()\n",
    "l1 = simple_preprocess.named_transformers_['pipeline-1']['targetencoder'].get_feature_names()\n",
    "l3 = ['odometer', 'age']"
   ]
  },
  {
   "cell_type": "code",
   "execution_count": 0,
   "metadata": {
    "colab": {
     "base_uri": "https://localhost:8080/",
     "height": 102
    },
    "colab_type": "code",
    "id": "NKLTh9kJaNoN",
    "outputId": "11d38dcd-0336-4d25-87cd-877b91430948"
   },
   "outputs": [
    {
     "data": {
      "text/plain": [
       "[(0.5883857842065066, 'model'),\n",
       " (0.3621827294137506, 'age'),\n",
       " (0.022336882768516322, 'x0_diesel'),\n",
       " (0.013324121082545982, 'odometer'),\n",
       " (0.011259935869855039, 'region')]"
      ]
     },
     "execution_count": 44,
     "metadata": {
      "tags": []
     },
     "output_type": "execute_result"
    }
   ],
   "source": [
    "features = list(l1)\n",
    "features.extend(l2)\n",
    "features.extend(l3)\n",
    "coef = pipe[1].feature_importances_\n",
    "t1 = [(i,j) for i, j in zip(coef, features)]\n",
    "t2 = sorted(t1, key = lambda a: abs(a[0]), reverse = True)\n",
    "t2[:5]"
   ]
  },
  {
   "cell_type": "code",
   "execution_count": 0,
   "metadata": {
    "colab": {
     "base_uri": "https://localhost:8080/",
     "height": 170
    },
    "colab_type": "code",
    "id": "PkHVP70Mtj3J",
    "outputId": "c8869e76-2acd-4eb1-d649-e1884856308b"
   },
   "outputs": [
    {
     "data": {
      "text/plain": [
       "['model',\n",
       " 'region',\n",
       " 'x0_diesel',\n",
       " 'x0_electric',\n",
       " 'x0_gas',\n",
       " 'x0_hybrid',\n",
       " 'x0_other',\n",
       " 'odometer',\n",
       " 'age']"
      ]
     },
     "execution_count": 45,
     "metadata": {
      "tags": []
     },
     "output_type": "execute_result"
    }
   ],
   "source": [
    "features"
   ]
  },
  {
   "cell_type": "code",
   "execution_count": 0,
   "metadata": {
    "colab": {},
    "colab_type": "code",
    "id": "1QenntzbdHx1"
   },
   "outputs": [],
   "source": [
    "#X2 = X2.todense()\n",
    "X2_df = pd.DataFrame(X2, columns = features)"
   ]
  },
  {
   "cell_type": "code",
   "execution_count": 0,
   "metadata": {
    "colab": {},
    "colab_type": "code",
    "id": "WVH-HpI6DPjb"
   },
   "outputs": [],
   "source": [
    "reg = DecisionTreeRegressor(max_leaf_nodes = 5)\n",
    "reg = reg.fit(X2_df, y_train_val)"
   ]
  },
  {
   "cell_type": "code",
   "execution_count": 30,
   "metadata": {},
   "outputs": [],
   "source": [
    "import os\n",
    "os.environ[\"PATH\"] += os.pathsep + 'C:/Program Files (x86)/Graphviz2.38/bin'"
   ]
  },
  {
   "cell_type": "code",
   "execution_count": 31,
   "metadata": {
    "colab": {
     "base_uri": "https://localhost:8080/",
     "height": 518
    },
    "colab_type": "code",
    "id": "i-ODnglqhhJX",
    "outputId": "233a4099-1dc9-4b23-dcc9-1aee6f0fb634"
   },
   "outputs": [
    {
     "data": {
      "image/svg+xml": [
       "<?xml version=\"1.0\" encoding=\"UTF-8\" standalone=\"no\"?>\r\n",
       "<!DOCTYPE svg PUBLIC \"-//W3C//DTD SVG 1.1//EN\"\r\n",
       " \"http://www.w3.org/Graphics/SVG/1.1/DTD/svg11.dtd\">\r\n",
       "<!-- Generated by graphviz version 2.38.0 (20140413.2041)\r\n",
       " -->\r\n",
       "<!-- Title: Tree Pages: 1 -->\r\n",
       "<svg width=\"768pt\" height=\"373pt\"\r\n",
       " viewBox=\"0.00 0.00 768.00 373.00\" xmlns=\"http://www.w3.org/2000/svg\" xmlns:xlink=\"http://www.w3.org/1999/xlink\">\r\n",
       "<g id=\"graph0\" class=\"graph\" transform=\"scale(1 1) rotate(0) translate(4 369)\">\r\n",
       "<title>Tree</title>\r\n",
       "<polygon fill=\"white\" stroke=\"none\" points=\"-4,4 -4,-369 764,-369 764,4 -4,4\"/>\r\n",
       "<!-- 0 -->\r\n",
       "<g id=\"node1\" class=\"node\"><title>0</title>\r\n",
       "<path fill=\"#f8dcc8\" stroke=\"black\" d=\"M402,-365C402,-365 271,-365 271,-365 265,-365 259,-359 259,-353 259,-353 259,-309 259,-309 259,-303 265,-297 271,-297 271,-297 402,-297 402,-297 408,-297 414,-303 414,-309 414,-309 414,-353 414,-353 414,-359 408,-365 402,-365\"/>\r\n",
       "<text text-anchor=\"start\" x=\"290.5\" y=\"-349.8\" font-family=\"Helvetica,sans-Serif\" font-size=\"14.00\">model ≤ 0.313</text>\r\n",
       "<text text-anchor=\"start\" x=\"267\" y=\"-334.8\" font-family=\"Helvetica,sans-Serif\" font-size=\"14.00\">mse = 73603060.558</text>\r\n",
       "<text text-anchor=\"start\" x=\"276.5\" y=\"-319.8\" font-family=\"Helvetica,sans-Serif\" font-size=\"14.00\">samples = 386392</text>\r\n",
       "<text text-anchor=\"start\" x=\"277\" y=\"-304.8\" font-family=\"Helvetica,sans-Serif\" font-size=\"14.00\">value = 12008.493</text>\r\n",
       "</g>\r\n",
       "<!-- 1 -->\r\n",
       "<g id=\"node2\" class=\"node\"><title>1</title>\r\n",
       "<path fill=\"#fcefe6\" stroke=\"black\" d=\"M316,-261C316,-261 185,-261 185,-261 179,-261 173,-255 173,-249 173,-249 173,-205 173,-205 173,-199 179,-193 185,-193 185,-193 316,-193 316,-193 322,-193 328,-199 328,-205 328,-205 328,-249 328,-249 328,-255 322,-261 316,-261\"/>\r\n",
       "<text text-anchor=\"start\" x=\"212.5\" y=\"-245.8\" font-family=\"Helvetica,sans-Serif\" font-size=\"14.00\">age ≤ 0.371</text>\r\n",
       "<text text-anchor=\"start\" x=\"181\" y=\"-230.8\" font-family=\"Helvetica,sans-Serif\" font-size=\"14.00\">mse = 41438759.866</text>\r\n",
       "<text text-anchor=\"start\" x=\"190.5\" y=\"-215.8\" font-family=\"Helvetica,sans-Serif\" font-size=\"14.00\">samples = 264275</text>\r\n",
       "<text text-anchor=\"start\" x=\"195\" y=\"-200.8\" font-family=\"Helvetica,sans-Serif\" font-size=\"14.00\">value = 9053.368</text>\r\n",
       "</g>\r\n",
       "<!-- 0&#45;&gt;1 -->\r\n",
       "<g id=\"edge1\" class=\"edge\"><title>0&#45;&gt;1</title>\r\n",
       "<path fill=\"none\" stroke=\"black\" d=\"M308.578,-296.884C301.068,-287.976 292.855,-278.235 285.032,-268.957\"/>\r\n",
       "<polygon fill=\"black\" stroke=\"black\" points=\"287.698,-266.689 278.576,-261.299 282.346,-271.201 287.698,-266.689\"/>\r\n",
       "<text text-anchor=\"middle\" x=\"276.456\" y=\"-282.509\" font-family=\"Helvetica,sans-Serif\" font-size=\"14.00\">True</text>\r\n",
       "</g>\r\n",
       "<!-- 2 -->\r\n",
       "<g id=\"node5\" class=\"node\"><title>2</title>\r\n",
       "<path fill=\"#efb388\" stroke=\"black\" d=\"M489,-261C489,-261 358,-261 358,-261 352,-261 346,-255 346,-249 346,-249 346,-205 346,-205 346,-199 352,-193 358,-193 358,-193 489,-193 489,-193 495,-193 501,-199 501,-205 501,-205 501,-249 501,-249 501,-255 495,-261 489,-261\"/>\r\n",
       "<text text-anchor=\"start\" x=\"385.5\" y=\"-245.8\" font-family=\"Helvetica,sans-Serif\" font-size=\"14.00\">age ≤ 0.029</text>\r\n",
       "<text text-anchor=\"start\" x=\"354\" y=\"-230.8\" font-family=\"Helvetica,sans-Serif\" font-size=\"14.00\">mse = 83412680.494</text>\r\n",
       "<text text-anchor=\"start\" x=\"363.5\" y=\"-215.8\" font-family=\"Helvetica,sans-Serif\" font-size=\"14.00\">samples = 122117</text>\r\n",
       "<text text-anchor=\"start\" x=\"364\" y=\"-200.8\" font-family=\"Helvetica,sans-Serif\" font-size=\"14.00\">value = 18403.716</text>\r\n",
       "</g>\r\n",
       "<!-- 0&#45;&gt;2 -->\r\n",
       "<g id=\"edge4\" class=\"edge\"><title>0&#45;&gt;2</title>\r\n",
       "<path fill=\"none\" stroke=\"black\" d=\"M364.746,-296.884C372.344,-287.976 380.652,-278.235 388.566,-268.957\"/>\r\n",
       "<polygon fill=\"black\" stroke=\"black\" points=\"391.271,-271.179 395.098,-261.299 385.945,-266.636 391.271,-271.179\"/>\r\n",
       "<text text-anchor=\"middle\" x=\"397.076\" y=\"-282.521\" font-family=\"Helvetica,sans-Serif\" font-size=\"14.00\">False</text>\r\n",
       "</g>\r\n",
       "<!-- 3 -->\r\n",
       "<g id=\"node3\" class=\"node\"><title>3</title>\r\n",
       "<path fill=\"#ffffff\" stroke=\"black\" d=\"M143,-149.5C143,-149.5 12,-149.5 12,-149.5 6,-149.5 0,-143.5 0,-137.5 0,-137.5 0,-108.5 0,-108.5 0,-102.5 6,-96.5 12,-96.5 12,-96.5 143,-96.5 143,-96.5 149,-96.5 155,-102.5 155,-108.5 155,-108.5 155,-137.5 155,-137.5 155,-143.5 149,-149.5 143,-149.5\"/>\r\n",
       "<text text-anchor=\"start\" x=\"8\" y=\"-134.3\" font-family=\"Helvetica,sans-Serif\" font-size=\"14.00\">mse = 19323220.582</text>\r\n",
       "<text text-anchor=\"start\" x=\"17.5\" y=\"-119.3\" font-family=\"Helvetica,sans-Serif\" font-size=\"14.00\">samples = 166433</text>\r\n",
       "<text text-anchor=\"start\" x=\"22\" y=\"-104.3\" font-family=\"Helvetica,sans-Serif\" font-size=\"14.00\">value = 6512.701</text>\r\n",
       "</g>\r\n",
       "<!-- 1&#45;&gt;3 -->\r\n",
       "<g id=\"edge2\" class=\"edge\"><title>1&#45;&gt;3</title>\r\n",
       "<path fill=\"none\" stroke=\"black\" d=\"M194.332,-192.884C173.533,-180.621 150.056,-166.779 129.632,-154.737\"/>\r\n",
       "<polygon fill=\"black\" stroke=\"black\" points=\"131.176,-151.584 120.784,-149.52 127.62,-157.614 131.176,-151.584\"/>\r\n",
       "</g>\r\n",
       "<!-- 4 -->\r\n",
       "<g id=\"node4\" class=\"node\"><title>4</title>\r\n",
       "<path fill=\"#f6d3ba\" stroke=\"black\" d=\"M316,-149.5C316,-149.5 185,-149.5 185,-149.5 179,-149.5 173,-143.5 173,-137.5 173,-137.5 173,-108.5 173,-108.5 173,-102.5 179,-96.5 185,-96.5 185,-96.5 316,-96.5 316,-96.5 322,-96.5 328,-102.5 328,-108.5 328,-108.5 328,-137.5 328,-137.5 328,-143.5 322,-149.5 316,-149.5\"/>\r\n",
       "<text text-anchor=\"start\" x=\"181\" y=\"-134.3\" font-family=\"Helvetica,sans-Serif\" font-size=\"14.00\">mse = 49400234.334</text>\r\n",
       "<text text-anchor=\"start\" x=\"194.5\" y=\"-119.3\" font-family=\"Helvetica,sans-Serif\" font-size=\"14.00\">samples = 97842</text>\r\n",
       "<text text-anchor=\"start\" x=\"191\" y=\"-104.3\" font-family=\"Helvetica,sans-Serif\" font-size=\"14.00\">value = 13375.141</text>\r\n",
       "</g>\r\n",
       "<!-- 1&#45;&gt;4 -->\r\n",
       "<g id=\"edge3\" class=\"edge\"><title>1&#45;&gt;4</title>\r\n",
       "<path fill=\"none\" stroke=\"black\" d=\"M250.5,-192.884C250.5,-182.326 250.5,-170.597 250.5,-159.854\"/>\r\n",
       "<polygon fill=\"black\" stroke=\"black\" points=\"254,-159.52 250.5,-149.52 247,-159.52 254,-159.52\"/>\r\n",
       "</g>\r\n",
       "<!-- 5 -->\r\n",
       "<g id=\"node6\" class=\"node\"><title>5</title>\r\n",
       "<path fill=\"#f8dbc7\" stroke=\"black\" d=\"M489,-149.5C489,-149.5 358,-149.5 358,-149.5 352,-149.5 346,-143.5 346,-137.5 346,-137.5 346,-108.5 346,-108.5 346,-102.5 352,-96.5 358,-96.5 358,-96.5 489,-96.5 489,-96.5 495,-96.5 501,-102.5 501,-108.5 501,-108.5 501,-137.5 501,-137.5 501,-143.5 495,-149.5 489,-149.5\"/>\r\n",
       "<text text-anchor=\"start\" x=\"354\" y=\"-134.3\" font-family=\"Helvetica,sans-Serif\" font-size=\"14.00\">mse = 49200216.329</text>\r\n",
       "<text text-anchor=\"start\" x=\"367.5\" y=\"-119.3\" font-family=\"Helvetica,sans-Serif\" font-size=\"14.00\">samples = 39963</text>\r\n",
       "<text text-anchor=\"start\" x=\"364\" y=\"-104.3\" font-family=\"Helvetica,sans-Serif\" font-size=\"14.00\">value = 12144.292</text>\r\n",
       "</g>\r\n",
       "<!-- 2&#45;&gt;5 -->\r\n",
       "<g id=\"edge5\" class=\"edge\"><title>2&#45;&gt;5</title>\r\n",
       "<path fill=\"none\" stroke=\"black\" d=\"M423.5,-192.884C423.5,-182.326 423.5,-170.597 423.5,-159.854\"/>\r\n",
       "<polygon fill=\"black\" stroke=\"black\" points=\"427,-159.52 423.5,-149.52 420,-159.52 427,-159.52\"/>\r\n",
       "</g>\r\n",
       "<!-- 6 -->\r\n",
       "<g id=\"node7\" class=\"node\"><title>6</title>\r\n",
       "<path fill=\"#eba069\" stroke=\"black\" d=\"M662,-157C662,-157 531,-157 531,-157 525,-157 519,-151 519,-145 519,-145 519,-101 519,-101 519,-95 525,-89 531,-89 531,-89 662,-89 662,-89 668,-89 674,-95 674,-101 674,-101 674,-145 674,-145 674,-151 668,-157 662,-157\"/>\r\n",
       "<text text-anchor=\"start\" x=\"550.5\" y=\"-141.8\" font-family=\"Helvetica,sans-Serif\" font-size=\"14.00\">model ≤ 1.567</text>\r\n",
       "<text text-anchor=\"start\" x=\"527\" y=\"-126.8\" font-family=\"Helvetica,sans-Serif\" font-size=\"14.00\">mse = 71725060.078</text>\r\n",
       "<text text-anchor=\"start\" x=\"540.5\" y=\"-111.8\" font-family=\"Helvetica,sans-Serif\" font-size=\"14.00\">samples = 82154</text>\r\n",
       "<text text-anchor=\"start\" x=\"537\" y=\"-96.8\" font-family=\"Helvetica,sans-Serif\" font-size=\"14.00\">value = 21448.551</text>\r\n",
       "</g>\r\n",
       "<!-- 2&#45;&gt;6 -->\r\n",
       "<g id=\"edge6\" class=\"edge\"><title>2&#45;&gt;6</title>\r\n",
       "<path fill=\"none\" stroke=\"black\" d=\"M479.668,-192.884C496.219,-183.125 514.467,-172.366 531.523,-162.31\"/>\r\n",
       "<polygon fill=\"black\" stroke=\"black\" points=\"533.481,-165.219 540.318,-157.125 529.926,-159.189 533.481,-165.219\"/>\r\n",
       "</g>\r\n",
       "<!-- 7 -->\r\n",
       "<g id=\"node8\" class=\"node\"><title>7</title>\r\n",
       "<path fill=\"#eeab7b\" stroke=\"black\" d=\"M575,-53C575,-53 444,-53 444,-53 438,-53 432,-47 432,-41 432,-41 432,-12 432,-12 432,-6 438,-0 444,-0 444,-0 575,-0 575,-0 581,-0 587,-6 587,-12 587,-12 587,-41 587,-41 587,-47 581,-53 575,-53\"/>\r\n",
       "<text text-anchor=\"start\" x=\"440\" y=\"-37.8\" font-family=\"Helvetica,sans-Serif\" font-size=\"14.00\">mse = 65887076.504</text>\r\n",
       "<text text-anchor=\"start\" x=\"453.5\" y=\"-22.8\" font-family=\"Helvetica,sans-Serif\" font-size=\"14.00\">samples = 60142</text>\r\n",
       "<text text-anchor=\"start\" x=\"450\" y=\"-7.8\" font-family=\"Helvetica,sans-Serif\" font-size=\"14.00\">value = 19683.623</text>\r\n",
       "</g>\r\n",
       "<!-- 6&#45;&gt;7 -->\r\n",
       "<g id=\"edge7\" class=\"edge\"><title>6&#45;&gt;7</title>\r\n",
       "<path fill=\"none\" stroke=\"black\" d=\"M566.072,-88.9485C557.65,-79.8005 548.507,-69.8697 540.077,-60.7126\"/>\r\n",
       "<polygon fill=\"black\" stroke=\"black\" points=\"542.542,-58.2231 533.194,-53.2367 537.392,-62.9643 542.542,-58.2231\"/>\r\n",
       "</g>\r\n",
       "<!-- 8 -->\r\n",
       "<g id=\"node9\" class=\"node\"><title>8</title>\r\n",
       "<path fill=\"#e58139\" stroke=\"black\" d=\"M748,-53C748,-53 617,-53 617,-53 611,-53 605,-47 605,-41 605,-41 605,-12 605,-12 605,-6 611,-0 617,-0 617,-0 748,-0 748,-0 754,-0 760,-6 760,-12 760,-12 760,-41 760,-41 760,-47 754,-53 748,-53\"/>\r\n",
       "<text text-anchor=\"start\" x=\"613\" y=\"-37.8\" font-family=\"Helvetica,sans-Serif\" font-size=\"14.00\">mse = 55911342.033</text>\r\n",
       "<text text-anchor=\"start\" x=\"626.5\" y=\"-22.8\" font-family=\"Helvetica,sans-Serif\" font-size=\"14.00\">samples = 22012</text>\r\n",
       "<text text-anchor=\"start\" x=\"623\" y=\"-7.8\" font-family=\"Helvetica,sans-Serif\" font-size=\"14.00\">value = 26270.753</text>\r\n",
       "</g>\r\n",
       "<!-- 6&#45;&gt;8 -->\r\n",
       "<g id=\"edge8\" class=\"edge\"><title>6&#45;&gt;8</title>\r\n",
       "<path fill=\"none\" stroke=\"black\" d=\"M626.579,-88.9485C634.904,-79.8005 643.941,-69.8697 652.275,-60.7126\"/>\r\n",
       "<polygon fill=\"black\" stroke=\"black\" points=\"654.936,-62.9883 659.078,-53.2367 649.759,-58.2769 654.936,-62.9883\"/>\r\n",
       "</g>\r\n",
       "</g>\r\n",
       "</svg>\r\n"
      ],
      "text/plain": [
       "<graphviz.files.Source at 0x1af6168ec18>"
      ]
     },
     "execution_count": 31,
     "metadata": {},
     "output_type": "execute_result"
    }
   ],
   "source": [
    "dot_data = tree.export_graphviz(reg, out_file=None, \n",
    "                      feature_names=features,  \n",
    "                      filled=True, rounded=True,  \n",
    "                      special_characters=True)  \n",
    "graph = graphviz.Source(dot_data)  \n",
    "graph "
   ]
  },
  {
   "cell_type": "markdown",
   "metadata": {
    "colab_type": "text",
    "id": "_kkgZMYOzPWK"
   },
   "source": [
    "Conclusion -\n",
    "Using the coefficients from Linear Regression and feature importances from Decision Tree, we can clearly see that our most important features are model, age, region and diesel cars (basically fuel). \n",
    "We can see that model is positively correlated with price whereas age is negatively correlated (the way we have defined age is, that more the value of the age newer the car, thus, newer the car more the price. \n",
    "Another finding is that diesel cars are most expensive on Craigslist while compared to other types of fuel cars. "
   ]
  },
  {
   "cell_type": "markdown",
   "metadata": {
    "colab_type": "text",
    "id": "0m1MG8Qsz-80"
   },
   "source": [
    "# Final Model "
   ]
  },
  {
   "cell_type": "markdown",
   "metadata": {
    "colab_type": "text",
    "id": "nI-kA6O-0CCV"
   },
   "source": [
    "If someone asks us what were the main findings of this entire exercise, we would like to summarise the entire exercise below. \n",
    "If someone wants to work on this dataset then he/she should follow the following steps based on our findings - \n",
    "1. Most important was exploring the dataset and preprocessing the data. \n",
    "  1. There are many outliers in the dataset, so remove all the outliers from features like price, odometer, year etc. \n",
    "  2. There were a lot of missing values, so need to carry out missing value analysis by imputing the continuous features with the mean of the feature and categorical features with either the mode of the feature or by introducing a new column - Unknown for the missing data. \n",
    "  3. Convert the continuous columns to int/float\n",
    "  4. Make sure to delete columns like id so that they do not leak information about the target variable\n",
    "2. Once we are done with this, we need more in depth data preprocessing - \n",
    "  1. One hot encode the categorical columns\n",
    "  2. Target encode the categorical columns that have a lot of categories like model that has over 30,000 categories\n",
    "  3. We also tried Polynomial feature expansion on our continuous features that gave us a better result\n",
    "  4. Lastly, make sure to scale your data\n",
    "3. Now we will start building our models. We have tried a variety of models but the best one was XGBoost. We also performed Grid Search Cross Validation to tune our hyper-parameters of XGBoost. \n",
    "The other models one can try from the ones we have tried and reported the cross validation score are - \n",
    "  1. Linear Models - Linear Regression, Lasso and Ridge\n",
    "  2. Tree Based Models - Decision Tree, Random Forest, Gradient Boosting and XGBoost\n",
    "4. Feature Selection - As we had a lot of features we wanted to understand which features are important and maybe select the best features to get a better accuracy. The different techniques we used here are -\n",
    "  1. Recursive Feature Selection using Linear Regression and Decision Tree Regressor \n",
    "  2. SelectFromModel using LassoCV and XGBoost\n",
    "  3. Sequential Feature Selection using Linear Regression. We tried this on XGBoost but it was taking a lot of time to run \n",
    "  4. Using feature importances from the Decision Tree and XGBoost models\n",
    "The best one turned out to be selecitng features using LassoCV, that selected 41 out of the 69 features. Then, we used only these features to run our final XGBoost model. This gave us a better score than using all the features. "
   ]
  }
 ],
 "metadata": {
  "kernelspec": {
   "display_name": "Python 3",
   "language": "python",
   "name": "python3"
  },
  "language_info": {
   "codemirror_mode": {
    "name": "ipython",
    "version": 3
   },
   "file_extension": ".py",
   "mimetype": "text/x-python",
   "name": "python",
   "nbconvert_exporter": "python",
   "pygments_lexer": "ipython3",
   "version": "3.6.8"
  }
 },
 "nbformat": 4,
 "nbformat_minor": 2
}
