{
 "cells": [
  {
   "cell_type": "markdown",
   "metadata": {
    "colab_type": "text",
    "id": "s5juPTod5E-U"
   },
   "source": [
    "# Importing Libraries"
   ]
  },
  {
   "cell_type": "code",
   "execution_count": 1,
   "metadata": {
    "colab": {
     "base_uri": "https://localhost:8080/",
     "height": 34
    },
    "colab_type": "code",
    "id": "knqbiL2AQlqY",
    "outputId": "4053bcd0-08f2-419e-d0e1-e16cc85b2073"
   },
   "outputs": [
    {
     "name": "stderr",
     "output_type": "stream",
     "text": [
      "Using TensorFlow backend.\n"
     ]
    }
   ],
   "source": [
    "# loading libraries\n",
    "# keras\n",
    "import keras\n",
    "from keras.models import Sequential\n",
    "from keras.layers import Dense, Activation, Dropout\n",
    "from keras.wrappers.scikit_learn import KerasClassifier, KerasRegressor\n",
    "from keras import regularizers\n",
    "from keras.datasets import fashion_mnist\n",
    "from keras.layers.normalization import BatchNormalization\n",
    "\n",
    "# sklearn\n",
    "from sklearn.datasets import load_digits\n",
    "from sklearn.model_selection import train_test_split\n",
    "from sklearn.model_selection import GridSearchCV\n",
    "from sklearn.model_selection import StratifiedShuffleSplit\n",
    "\n",
    "import numpy as np\n",
    "import pandas as pd\n",
    "import matplotlib.pyplot as plt\n"
   ]
  },
  {
   "cell_type": "markdown",
   "metadata": {
    "colab_type": "text",
    "id": "uON0eBDR5H2R"
   },
   "source": [
    "# Task 1"
   ]
  },
  {
   "cell_type": "code",
   "execution_count": 3,
   "metadata": {
    "colab": {
     "base_uri": "https://localhost:8080/",
     "height": 34
    },
    "colab_type": "code",
    "id": "-nG4cfC9TM4_",
    "outputId": "9c5250e3-8e96-499e-ea77-f20a7059fc0e"
   },
   "outputs": [
    {
     "name": "stdout",
     "output_type": "stream",
     "text": [
      "(1797, 64)\n"
     ]
    }
   ],
   "source": [
    "# loading the data from sklearn digits\n",
    "digits = load_digits()\n",
    "print(digits.data.shape)\n",
    "\n",
    "X = digits.data\n",
    "y = digits.target\n",
    "\n",
    "X_train, X_test, y_train, y_test = train_test_split(X, y, test_size = 0.2, stratify = y, shuffle = True)\n",
    "\n",
    "num_classes = 10\n",
    "# convert class vectors to binary class matrices\n",
    "y_train = keras.utils.to_categorical(y_train, num_classes)\n",
    "y_test = keras.utils.to_categorical(y_test, num_classes)"
   ]
  },
  {
   "cell_type": "code",
   "execution_count": 0,
   "metadata": {
    "colab": {},
    "colab_type": "code",
    "id": "GBukd6BYT4Pd"
   },
   "outputs": [],
   "source": [
    "# creating an initial model with 2 hidden layers and regularization paratmer = 0.01\n",
    "def create_model(reg_parameter = 0.01, hidden_size = 32):  \n",
    "  model = Sequential([\n",
    "      Dense(hidden_size, input_shape=(64,), kernel_regularizer = regularizers.l2(reg_parameter)),\n",
    "      Activation('relu'),\n",
    "      Dense(int(hidden_size/2), kernel_regularizer = regularizers.l2(reg_parameter)),\n",
    "      Activation('relu'),\n",
    "      Dense(10),\n",
    "      Activation('softmax')])\n",
    "\n",
    "  model.compile(\"adam\", \"categorical_crossentropy\", metrics=['accuracy'])\n",
    "  return model"
   ]
  },
  {
   "cell_type": "code",
   "execution_count": 5,
   "metadata": {
    "colab": {
     "base_uri": "https://localhost:8080/",
     "height": 374
    },
    "colab_type": "code",
    "id": "P0x2LHCwTsxX",
    "outputId": "5824532b-6c80-4c57-9530-6b1fcb69701c"
   },
   "outputs": [
    {
     "name": "stdout",
     "output_type": "stream",
     "text": [
      "Epoch 1/10\n",
      "1437/1437 [==============================] - 2s 1ms/step - loss: 4.3591 - accuracy: 0.2345\n",
      "Epoch 2/10\n",
      "1437/1437 [==============================] - 0s 28us/step - loss: 2.8547 - accuracy: 0.3166\n",
      "Epoch 3/10\n",
      "1437/1437 [==============================] - 0s 26us/step - loss: 2.3468 - accuracy: 0.3904\n",
      "Epoch 4/10\n",
      "1437/1437 [==============================] - 0s 23us/step - loss: 2.0603 - accuracy: 0.4788\n",
      "Epoch 5/10\n",
      "1437/1437 [==============================] - 0s 22us/step - loss: 1.8496 - accuracy: 0.5623\n",
      "Epoch 6/10\n",
      "1437/1437 [==============================] - 0s 26us/step - loss: 1.6686 - accuracy: 0.6472\n",
      "Epoch 7/10\n",
      "1437/1437 [==============================] - 0s 25us/step - loss: 1.5164 - accuracy: 0.7015\n",
      "Epoch 8/10\n",
      "1437/1437 [==============================] - 0s 23us/step - loss: 1.3778 - accuracy: 0.7474\n",
      "Epoch 9/10\n",
      "1437/1437 [==============================] - 0s 22us/step - loss: 1.2442 - accuracy: 0.7898\n",
      "Epoch 10/10\n",
      "1437/1437 [==============================] - 0s 22us/step - loss: 1.1304 - accuracy: 0.8107\n"
     ]
    },
    {
     "data": {
      "text/plain": [
       "<keras.callbacks.callbacks.History at 0x7feb4b118160>"
      ]
     },
     "execution_count": 5,
     "metadata": {
      "tags": []
     },
     "output_type": "execute_result"
    }
   ],
   "source": [
    "model = create_model()\n",
    "model.fit(X_train, y_train, batch_size=128, epochs=10, verbose=1)"
   ]
  },
  {
   "cell_type": "code",
   "execution_count": 6,
   "metadata": {
    "colab": {
     "base_uri": "https://localhost:8080/",
     "height": 51
    },
    "colab_type": "code",
    "id": "VnMiePN2XhAO",
    "outputId": "84f402e2-bfc7-455c-e47f-95d3eb85af71"
   },
   "outputs": [
    {
     "name": "stdout",
     "output_type": "stream",
     "text": [
      "Test loss: 1.024\n",
      "Test Accuracy: 0.850\n"
     ]
    }
   ],
   "source": [
    "score = model.evaluate(X_test, y_test, verbose=0)\n",
    "print(\"Test loss: {:.3f}\".format(score[0]))\n",
    "print(\"Test Accuracy: {:.3f}\".format(score[1]))"
   ]
  },
  {
   "cell_type": "code",
   "execution_count": 7,
   "metadata": {
    "colab": {
     "base_uri": "https://localhost:8080/",
     "height": 51
    },
    "colab_type": "code",
    "id": "kv-XPI4lpZGT",
    "outputId": "b3ff5650-a6eb-4028-efa0-04534cdb4a81"
   },
   "outputs": [
    {
     "name": "stdout",
     "output_type": "stream",
     "text": [
      "Best training score: 0.972222 using {'hidden_size': 256, 'reg_parameter': 0.001}\n",
      "Testing score: 0.988889\n"
     ]
    }
   ],
   "source": [
    "# grid search for l2 regularization parameter and hidden layer size\n",
    "# create model\n",
    "model = KerasClassifier(build_fn=create_model, epochs=10, batch_size=128, verbose=0)\n",
    "# define the grid search parameters\n",
    "reg_param_list = [0.001, 0.01, 0.05, 0.1, 0.5, 1, 10, 100]\n",
    "hidden_layers = [16, 32, 64, 128, 256]\n",
    "param_grid = dict(hidden_size=hidden_layers, reg_parameter=reg_param_list)\n",
    "grid = GridSearchCV(estimator=model, param_grid=param_grid, n_jobs=-1, cv = StratifiedShuffleSplit(n_splits = 1, test_size = 0.2))\n",
    "grid_result = grid.fit(X_train, y_train)\n",
    "# summarize results\n",
    "print(\"Best training score: %f using %s\" % (grid_result.best_score_, grid_result.best_params_))\n",
    "print(\"Testing score: %f\" % grid.score(X_test, y_test))"
   ]
  },
  {
   "cell_type": "code",
   "execution_count": 8,
   "metadata": {
    "colab": {
     "base_uri": "https://localhost:8080/",
     "height": 1000
    },
    "colab_type": "code",
    "id": "L6GhoIqcR-NP",
    "outputId": "2a3a3d5c-60bb-4474-b34d-5fe9eb188c6d"
   },
   "outputs": [
    {
     "data": {
      "text/html": [
       "<div>\n",
       "<style scoped>\n",
       "    .dataframe tbody tr th:only-of-type {\n",
       "        vertical-align: middle;\n",
       "    }\n",
       "\n",
       "    .dataframe tbody tr th {\n",
       "        vertical-align: top;\n",
       "    }\n",
       "\n",
       "    .dataframe thead th {\n",
       "        text-align: right;\n",
       "    }\n",
       "</style>\n",
       "<table border=\"1\" class=\"dataframe\">\n",
       "  <thead>\n",
       "    <tr style=\"text-align: right;\">\n",
       "      <th></th>\n",
       "      <th></th>\n",
       "      <th>mean_test_score</th>\n",
       "    </tr>\n",
       "    <tr>\n",
       "      <th>param_reg_parameter</th>\n",
       "      <th>param_hidden_size</th>\n",
       "      <th></th>\n",
       "    </tr>\n",
       "  </thead>\n",
       "  <tbody>\n",
       "    <tr>\n",
       "      <th rowspan=\"5\" valign=\"top\">0.001</th>\n",
       "      <th>16</th>\n",
       "      <td>0.413194</td>\n",
       "    </tr>\n",
       "    <tr>\n",
       "      <th>32</th>\n",
       "      <td>0.635417</td>\n",
       "    </tr>\n",
       "    <tr>\n",
       "      <th>64</th>\n",
       "      <td>0.923611</td>\n",
       "    </tr>\n",
       "    <tr>\n",
       "      <th>128</th>\n",
       "      <td>0.916667</td>\n",
       "    </tr>\n",
       "    <tr>\n",
       "      <th>256</th>\n",
       "      <td>0.972222</td>\n",
       "    </tr>\n",
       "    <tr>\n",
       "      <th rowspan=\"5\" valign=\"top\">0.010</th>\n",
       "      <th>16</th>\n",
       "      <td>0.281250</td>\n",
       "    </tr>\n",
       "    <tr>\n",
       "      <th>32</th>\n",
       "      <td>0.486111</td>\n",
       "    </tr>\n",
       "    <tr>\n",
       "      <th>64</th>\n",
       "      <td>0.892361</td>\n",
       "    </tr>\n",
       "    <tr>\n",
       "      <th>128</th>\n",
       "      <td>0.954861</td>\n",
       "    </tr>\n",
       "    <tr>\n",
       "      <th>256</th>\n",
       "      <td>0.965278</td>\n",
       "    </tr>\n",
       "    <tr>\n",
       "      <th rowspan=\"5\" valign=\"top\">0.050</th>\n",
       "      <th>16</th>\n",
       "      <td>0.170139</td>\n",
       "    </tr>\n",
       "    <tr>\n",
       "      <th>32</th>\n",
       "      <td>0.454861</td>\n",
       "    </tr>\n",
       "    <tr>\n",
       "      <th>64</th>\n",
       "      <td>0.875000</td>\n",
       "    </tr>\n",
       "    <tr>\n",
       "      <th>128</th>\n",
       "      <td>0.934028</td>\n",
       "    </tr>\n",
       "    <tr>\n",
       "      <th>256</th>\n",
       "      <td>0.958333</td>\n",
       "    </tr>\n",
       "    <tr>\n",
       "      <th rowspan=\"5\" valign=\"top\">0.100</th>\n",
       "      <th>16</th>\n",
       "      <td>0.284722</td>\n",
       "    </tr>\n",
       "    <tr>\n",
       "      <th>32</th>\n",
       "      <td>0.555556</td>\n",
       "    </tr>\n",
       "    <tr>\n",
       "      <th>64</th>\n",
       "      <td>0.798611</td>\n",
       "    </tr>\n",
       "    <tr>\n",
       "      <th>128</th>\n",
       "      <td>0.947917</td>\n",
       "    </tr>\n",
       "    <tr>\n",
       "      <th>256</th>\n",
       "      <td>0.937500</td>\n",
       "    </tr>\n",
       "    <tr>\n",
       "      <th rowspan=\"5\" valign=\"top\">0.500</th>\n",
       "      <th>16</th>\n",
       "      <td>0.250000</td>\n",
       "    </tr>\n",
       "    <tr>\n",
       "      <th>32</th>\n",
       "      <td>0.527778</td>\n",
       "    </tr>\n",
       "    <tr>\n",
       "      <th>64</th>\n",
       "      <td>0.815972</td>\n",
       "    </tr>\n",
       "    <tr>\n",
       "      <th>128</th>\n",
       "      <td>0.940972</td>\n",
       "    </tr>\n",
       "    <tr>\n",
       "      <th>256</th>\n",
       "      <td>0.923611</td>\n",
       "    </tr>\n",
       "    <tr>\n",
       "      <th rowspan=\"5\" valign=\"top\">1.000</th>\n",
       "      <th>16</th>\n",
       "      <td>0.222222</td>\n",
       "    </tr>\n",
       "    <tr>\n",
       "      <th>32</th>\n",
       "      <td>0.291667</td>\n",
       "    </tr>\n",
       "    <tr>\n",
       "      <th>64</th>\n",
       "      <td>0.704861</td>\n",
       "    </tr>\n",
       "    <tr>\n",
       "      <th>128</th>\n",
       "      <td>0.878472</td>\n",
       "    </tr>\n",
       "    <tr>\n",
       "      <th>256</th>\n",
       "      <td>0.892361</td>\n",
       "    </tr>\n",
       "    <tr>\n",
       "      <th rowspan=\"5\" valign=\"top\">10.000</th>\n",
       "      <th>16</th>\n",
       "      <td>0.201389</td>\n",
       "    </tr>\n",
       "    <tr>\n",
       "      <th>32</th>\n",
       "      <td>0.166667</td>\n",
       "    </tr>\n",
       "    <tr>\n",
       "      <th>64</th>\n",
       "      <td>0.159722</td>\n",
       "    </tr>\n",
       "    <tr>\n",
       "      <th>128</th>\n",
       "      <td>0.444444</td>\n",
       "    </tr>\n",
       "    <tr>\n",
       "      <th>256</th>\n",
       "      <td>0.722222</td>\n",
       "    </tr>\n",
       "    <tr>\n",
       "      <th rowspan=\"5\" valign=\"top\">100.000</th>\n",
       "      <th>16</th>\n",
       "      <td>0.131944</td>\n",
       "    </tr>\n",
       "    <tr>\n",
       "      <th>32</th>\n",
       "      <td>0.142361</td>\n",
       "    </tr>\n",
       "    <tr>\n",
       "      <th>64</th>\n",
       "      <td>0.281250</td>\n",
       "    </tr>\n",
       "    <tr>\n",
       "      <th>128</th>\n",
       "      <td>0.333333</td>\n",
       "    </tr>\n",
       "    <tr>\n",
       "      <th>256</th>\n",
       "      <td>0.534722</td>\n",
       "    </tr>\n",
       "  </tbody>\n",
       "</table>\n",
       "</div>"
      ],
      "text/plain": [
       "                                       mean_test_score\n",
       "param_reg_parameter param_hidden_size                 \n",
       "0.001               16                        0.413194\n",
       "                    32                        0.635417\n",
       "                    64                        0.923611\n",
       "                    128                       0.916667\n",
       "                    256                       0.972222\n",
       "0.010               16                        0.281250\n",
       "                    32                        0.486111\n",
       "                    64                        0.892361\n",
       "                    128                       0.954861\n",
       "                    256                       0.965278\n",
       "0.050               16                        0.170139\n",
       "                    32                        0.454861\n",
       "                    64                        0.875000\n",
       "                    128                       0.934028\n",
       "                    256                       0.958333\n",
       "0.100               16                        0.284722\n",
       "                    32                        0.555556\n",
       "                    64                        0.798611\n",
       "                    128                       0.947917\n",
       "                    256                       0.937500\n",
       "0.500               16                        0.250000\n",
       "                    32                        0.527778\n",
       "                    64                        0.815972\n",
       "                    128                       0.940972\n",
       "                    256                       0.923611\n",
       "1.000               16                        0.222222\n",
       "                    32                        0.291667\n",
       "                    64                        0.704861\n",
       "                    128                       0.878472\n",
       "                    256                       0.892361\n",
       "10.000              16                        0.201389\n",
       "                    32                        0.166667\n",
       "                    64                        0.159722\n",
       "                    128                       0.444444\n",
       "                    256                       0.722222\n",
       "100.000             16                        0.131944\n",
       "                    32                        0.142361\n",
       "                    64                        0.281250\n",
       "                    128                       0.333333\n",
       "                    256                       0.534722"
      ]
     },
     "execution_count": 8,
     "metadata": {
      "tags": []
     },
     "output_type": "execute_result"
    }
   ],
   "source": [
    "res = pd.DataFrame(grid.cv_results_)\n",
    "res.pivot_table(index=[\"param_reg_parameter\", \"param_hidden_size\"],\n",
    "                values=[\"mean_test_score\"])"
   ]
  },
  {
   "cell_type": "code",
   "execution_count": 0,
   "metadata": {
    "colab": {},
    "colab_type": "code",
    "id": "RhHkBk2X8z2W"
   },
   "outputs": [],
   "source": []
  }
 ],
 "metadata": {
  "accelerator": "GPU",
  "colab": {
   "collapsed_sections": [],
   "name": "AML-Homework5-Task1.ipynb",
   "provenance": []
  },
  "kernelspec": {
   "display_name": "Python 3",
   "language": "python",
   "name": "python3"
  },
  "language_info": {
   "codemirror_mode": {
    "name": "ipython",
    "version": 3
   },
   "file_extension": ".py",
   "mimetype": "text/x-python",
   "name": "python",
   "nbconvert_exporter": "python",
   "pygments_lexer": "ipython3",
   "version": "3.6.8"
  }
 },
 "nbformat": 4,
 "nbformat_minor": 1
}
