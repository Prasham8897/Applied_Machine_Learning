{
 "cells": [
  {
   "cell_type": "markdown",
   "metadata": {},
   "source": [
    "- mad2306: Manas Dresswala\n",
    "\n",
    "- pds2136: Prasham Dhaneshbhai Sheth"
   ]
  },
  {
   "cell_type": "code",
   "execution_count": 1,
   "metadata": {},
   "outputs": [],
   "source": [
    "import pandas as pd\n",
    "import numpy as np\n",
    "\n",
    "from sklearn.preprocessing import StandardScaler,Normalizer\n",
    "from category_encoders import TargetEncoder\n",
    "from sklearn.pipeline import Pipeline,make_pipeline\n",
    "from sklearn.model_selection import cross_val_score, GridSearchCV, train_test_split\n",
    "from sklearn.compose import make_column_transformer\n",
    "from sklearn.linear_model import Ridge,LinearRegression\n",
    "\n",
    "from sklearn.feature_extraction.text import CountVectorizer\n",
    "from sklearn.feature_extraction.text import TfidfVectorizer, TfidfTransformer\n"
   ]
  },
  {
   "cell_type": "markdown",
   "metadata": {},
   "source": [
    "# 1.1"
   ]
  },
  {
   "cell_type": "code",
   "execution_count": 2,
   "metadata": {},
   "outputs": [],
   "source": [
    "data = pd.read_csv('winemag-data-130k-v2.csv')"
   ]
  },
  {
   "cell_type": "code",
   "execution_count": 3,
   "metadata": {},
   "outputs": [],
   "source": [
    "data = data.drop(columns = ['Unnamed: 0'])\n",
    "data = data.loc[data['country'] == 'US']"
   ]
  },
  {
   "cell_type": "code",
   "execution_count": 4,
   "metadata": {},
   "outputs": [
    {
     "data": {
      "text/plain": [
       "country                      0\n",
       "description                  0\n",
       "designation              17596\n",
       "points                       0\n",
       "price                      239\n",
       "province                     0\n",
       "region_1                   278\n",
       "region_2                  3993\n",
       "taster_name              16774\n",
       "taster_twitter_handle    19763\n",
       "title                        0\n",
       "variety                      0\n",
       "winery                       0\n",
       "dtype: int64"
      ]
     },
     "execution_count": 4,
     "metadata": {},
     "output_type": "execute_result"
    }
   ],
   "source": [
    "# number of missing values in each column\n",
    "data.isnull().sum()"
   ]
  },
  {
   "cell_type": "code",
   "execution_count": 5,
   "metadata": {},
   "outputs": [],
   "source": [
    "# below columns have a lot of missing values and the value of country for all is 'US' this dropping the respective columns\n",
    "data = data.drop(columns = ['taster_name', 'taster_twitter_handle', 'designation', 'country']) \n",
    "\n",
    "# removing text data for the first part\n",
    "data1 = data.drop(columns = ['description', 'title'])\n",
    "\n",
    "# dropping the rows with missing values\n",
    "data1 = data1.dropna() "
   ]
  },
  {
   "cell_type": "code",
   "execution_count": 6,
   "metadata": {},
   "outputs": [],
   "source": [
    "y1 = data1[['points']]\n",
    "X1 = data1.drop(columns = 'points')"
   ]
  },
  {
   "cell_type": "code",
   "execution_count": 7,
   "metadata": {},
   "outputs": [],
   "source": [
    "preprocess = make_column_transformer((StandardScaler(), ['price']), remainder = TargetEncoder())\n",
    "\n",
    "X_train, X_test, y_train, y_test = train_test_split(X1, y1, test_size=0.2, random_state = 42)"
   ]
  },
  {
   "cell_type": "code",
   "execution_count": 8,
   "metadata": {},
   "outputs": [
    {
     "name": "stdout",
     "output_type": "stream",
     "text": [
      "The cross-validation score for Linear Regression is: 0.39475384732478214\n",
      "The score on test set is: 0.4215588941233599\n"
     ]
    }
   ],
   "source": [
    "# baseline using Linear Regression\n",
    "pipe = make_pipeline(preprocess, LinearRegression())\n",
    "score = cross_val_score(pipe, X_train, y_train, cv = 5)\n",
    "pipe.fit(X_train,y_train)\n",
    "\n",
    "print(\"The cross-validation score for Linear Regression is: \"+ str(np.mean(score)))\n",
    "print(\"The score on test set is: \" + str(pipe.score(X_test,y_test)))"
   ]
  },
  {
   "cell_type": "code",
   "execution_count": 9,
   "metadata": {},
   "outputs": [
    {
     "name": "stdout",
     "output_type": "stream",
     "text": [
      "The cross-validation score for Ridge Regression is: 0.3947542271071985\n",
      "The score on test set is: 0.4215590685281599\n"
     ]
    }
   ],
   "source": [
    "# Ridge\n",
    "pipe = make_pipeline(preprocess, Ridge())\n",
    "score = cross_val_score(pipe, X_train, y_train, cv = 5)\n",
    "pipe.fit(X_train,y_train)\n",
    "\n",
    "print(\"The cross-validation score for Ridge Regression is: \"+ str(np.mean(score)))\n",
    "print(\"The score on test set is: \" + str(pipe.score(X_test,y_test)))"
   ]
  },
  {
   "cell_type": "markdown",
   "metadata": {},
   "source": [
    "# 1.2"
   ]
  },
  {
   "cell_type": "code",
   "execution_count": 10,
   "metadata": {},
   "outputs": [],
   "source": [
    "text_data = data[['description', 'points']]"
   ]
  },
  {
   "cell_type": "code",
   "execution_count": 11,
   "metadata": {},
   "outputs": [],
   "source": [
    "y2 = text_data[['points']]\n",
    "X2 = text_data.drop(columns = 'points')\n",
    "\n",
    "X_train, X_test, y_train, y_test = train_test_split(X2, y2, test_size=0.2, random_state = 42)"
   ]
  },
  {
   "cell_type": "code",
   "execution_count": 12,
   "metadata": {},
   "outputs": [],
   "source": [
    "X_train = X_train['description'].tolist()\n",
    "X_test = X_test['description'].tolist()"
   ]
  },
  {
   "cell_type": "code",
   "execution_count": 13,
   "metadata": {},
   "outputs": [],
   "source": [
    "vect = CountVectorizer()\n",
    "X_train = vect.fit_transform(X_train)\n",
    "X_test = vect.transform(X_test)"
   ]
  },
  {
   "cell_type": "code",
   "execution_count": 14,
   "metadata": {},
   "outputs": [
    {
     "name": "stdout",
     "output_type": "stream",
     "text": [
      "Score from Linear Regression on test set is: 0.5199730911806023\n"
     ]
    }
   ],
   "source": [
    "lr = LinearRegression().fit(X_train, y_train)\n",
    "s1 = lr.score(X_test, y_test)\n",
    "print(\"Score from Linear Regression on test set is: \" +str(s1))"
   ]
  },
  {
   "cell_type": "code",
   "execution_count": 15,
   "metadata": {},
   "outputs": [
    {
     "name": "stdout",
     "output_type": "stream",
     "text": [
      "Score from Ridge Regression on test set is: 0.675389761886473\n"
     ]
    }
   ],
   "source": [
    "r = Ridge().fit(X_train, y_train)\n",
    "s1 = r.score(X_test, y_test)\n",
    "print(\"Score from Ridge Regression on test set is: \" +str(s1))"
   ]
  },
  {
   "cell_type": "markdown",
   "metadata": {},
   "source": [
    "We see that with using text features, the R2 score is increasing from 0.42 to 0.67. \n",
    "Next, we noticed there are a lot of duplicate values in the 'description' feature, so we dropped them and again run our model."
   ]
  },
  {
   "cell_type": "code",
   "execution_count": 16,
   "metadata": {},
   "outputs": [],
   "source": [
    "text_data = text_data.drop_duplicates('description', keep=False)"
   ]
  },
  {
   "cell_type": "code",
   "execution_count": 17,
   "metadata": {},
   "outputs": [],
   "source": [
    "y2 = text_data[['points']]\n",
    "X2 = text_data.drop(columns = 'points')\n",
    "\n",
    "X_train, X_test, y_train, y_test = train_test_split(X2, y2, test_size=0.2, random_state = 42)"
   ]
  },
  {
   "cell_type": "code",
   "execution_count": 18,
   "metadata": {},
   "outputs": [],
   "source": [
    "X_train = X_train['description'].tolist()\n",
    "X_test = X_test['description'].tolist()"
   ]
  },
  {
   "cell_type": "code",
   "execution_count": 19,
   "metadata": {},
   "outputs": [],
   "source": [
    "vect = CountVectorizer()\n",
    "X_train = vect.fit_transform(X_train)\n",
    "X_test = vect.transform(X_test)"
   ]
  },
  {
   "cell_type": "code",
   "execution_count": 20,
   "metadata": {},
   "outputs": [
    {
     "name": "stdout",
     "output_type": "stream",
     "text": [
      "Score from Linear Regression on test set is: 0.468991714814975\n"
     ]
    }
   ],
   "source": [
    "lr = LinearRegression().fit(X_train, y_train)\n",
    "s1 = lr.score(X_test, y_test)\n",
    "print(\"Score from Linear Regression on test set is: \" +str(s1))"
   ]
  },
  {
   "cell_type": "code",
   "execution_count": 21,
   "metadata": {},
   "outputs": [
    {
     "name": "stdout",
     "output_type": "stream",
     "text": [
      "Score from Ridge Regression on test set is: 0.6761203670215854\n"
     ]
    }
   ],
   "source": [
    "r = Ridge().fit(X_train, y_train)\n",
    "s1 = r.score(X_test, y_test)\n",
    "print(\"Score from Ridge Regression on test set is: \" +str(s1))"
   ]
  },
  {
   "cell_type": "markdown",
   "metadata": {},
   "source": [
    "We see that after dropping duplicates, our r2 increases by 0.01.\n",
    "So moving forward in 1.3 we use the data after removing the duplicates."
   ]
  },
  {
   "cell_type": "markdown",
   "metadata": {},
   "source": [
    "# 1.3"
   ]
  },
  {
   "cell_type": "code",
   "execution_count": 22,
   "metadata": {},
   "outputs": [],
   "source": [
    "X_train, X_test, y_train, y_test = train_test_split(X2, y2, test_size=0.2, random_state = 42)\n",
    "X_train = X_train['description'].tolist()\n",
    "X_test = X_test['description'].tolist()"
   ]
  },
  {
   "cell_type": "code",
   "execution_count": 23,
   "metadata": {},
   "outputs": [
    {
     "name": "stdout",
     "output_type": "stream",
     "text": [
      "Score from Ridge Regression with default parameter setting on test set is: 0.5888761331386896\n",
      "The best parameters after grid search: {'alpha': 35.93813663804626}\n",
      "Score from Ridge Regression with default parameter setting on test set is: 0.7141821011858287\n"
     ]
    }
   ],
   "source": [
    "# adding n-grams with minimum frequency = 4\n",
    "vect = CountVectorizer(ngram_range=(1, 3), min_df=4)\n",
    "X_train_ngram = vect.fit_transform(X_train)\n",
    "X_test_ngram = vect.transform(X_test)\n",
    "\n",
    "r = Ridge().fit(X_train_ngram, y_train)\n",
    "s1 = r.score(X_test_ngram, y_test)\n",
    "print(\"Score from Ridge Regression with default parameter setting on test set is: \" +str(s1))\n",
    "\n",
    "param_grid = [{'alpha':  np.logspace(-2,2,10)}]\n",
    "grid = GridSearchCV(Ridge(), param_grid, cv = 5)\n",
    "grid.fit(X_train_ngram, y_train)\n",
    "print(\"The best parameters after grid search: \" + str(grid.best_params_))\n",
    "print(\"Score from Ridge Regression with default parameter setting on test set is: \" \n",
    "      +str(grid.score(X_test_ngram, y_test)))"
   ]
  },
  {
   "cell_type": "code",
   "execution_count": 24,
   "metadata": {},
   "outputs": [
    {
     "name": "stdout",
     "output_type": "stream",
     "text": [
      "Score from Ridge Regression with default parameter setting on test set is: 0.715050198339527\n",
      "The best parameters after grid search: {'alpha': 0.5994842503189409}\n",
      "Score from Ridge Regression with default parameter setting on test set is: 0.7127196343560669\n"
     ]
    }
   ],
   "source": [
    "# adding tf-idf rescaling\n",
    "tfidf = make_pipeline(CountVectorizer(ngram_range=(1, 3), min_df=4), TfidfTransformer())\n",
    "X_train_tfidf = tfidf.fit_transform(X_train)\n",
    "X_test_tfidf = tfidf.transform(X_test)\n",
    "\n",
    "r = Ridge().fit(X_train_tfidf, y_train)\n",
    "s1 = r.score(X_test_tfidf, y_test)\n",
    "print(\"Score from Ridge Regression with default parameter setting on test set is: \" +str(s1))\n",
    "\n",
    "param_grid = [{'alpha': np.logspace(-2,2,10)}]\n",
    "grid = GridSearchCV(Ridge(), param_grid, cv = 5)\n",
    "grid.fit(X_train_tfidf, y_train)\n",
    "print(\"The best parameters after grid search: \" + str(grid.best_params_))\n",
    "print(\"Score from Ridge Regression with default parameter setting on test set is: \" \n",
    "      +str(grid.score(X_test_tfidf, y_test)))"
   ]
  },
  {
   "cell_type": "code",
   "execution_count": 25,
   "metadata": {},
   "outputs": [
    {
     "name": "stdout",
     "output_type": "stream",
     "text": [
      "Score from Ridge Regression with default parameter setting on test set is: 0.6846310265706672\n",
      "The best parameters after grid search: {'alpha': 0.21544346900318834}\n",
      "Score from Ridge Regression with default parameter setting on test set is: 0.6931825711320354\n"
     ]
    }
   ],
   "source": [
    "# adding characters\n",
    "char = make_pipeline(CountVectorizer(ngram_range=(1, 3), min_df=4, analyzer=\"char_wb\"), TfidfTransformer())\n",
    "X_train_char = char.fit_transform(X_train)\n",
    "X_test_char = char.transform(X_test)\n",
    "\n",
    "r = Ridge().fit(X_train_char, y_train)\n",
    "s1 = r.score(X_test_char, y_test)\n",
    "print(\"Score from Ridge Regression with default parameter setting on test set is: \" +str(s1))\n",
    "\n",
    "param_grid = [{'alpha': np.logspace(-2,2,10)}]\n",
    "grid = GridSearchCV(Ridge(), param_grid, cv = 5)\n",
    "grid.fit(X_train_char, y_train)\n",
    "print(\"The best parameters after grid search: \" + str(grid.best_params_))\n",
    "print(\"Score from Ridge Regression with default parameter setting on test set is: \" \n",
    "      +str(grid.score(X_test_char, y_test)))"
   ]
  },
  {
   "cell_type": "code",
   "execution_count": 26,
   "metadata": {},
   "outputs": [
    {
     "name": "stdout",
     "output_type": "stream",
     "text": [
      "Score from Ridge Regression with default parameter setting on test set is: 0.6846310265706672\n",
      "The best parameters after grid search: {'alpha': 0.21544346900318834}\n",
      "Score from Ridge Regression with default parameter setting on test set is: 0.6931825711320354\n"
     ]
    }
   ],
   "source": [
    "# removing stop words and trying the previous model\n",
    "char1 = make_pipeline(CountVectorizer(ngram_range=(1, 3), min_df=4, stop_words=\"english\", analyzer=\"char_wb\"), TfidfTransformer())\n",
    "X_train_char1 = char1.fit_transform(X_train)\n",
    "X_test_char1 = char1.transform(X_test)\n",
    "\n",
    "r = Ridge().fit(X_train_char1, y_train)\n",
    "s1 = r.score(X_test_char1, y_test)\n",
    "print(\"Score from Ridge Regression with default parameter setting on test set is: \" +str(s1))\n",
    "\n",
    "param_grid = [{'alpha': np.logspace(-2,2,10)}]\n",
    "grid = GridSearchCV(Ridge(), param_grid, cv = 5)\n",
    "grid.fit(X_train_char1, y_train)\n",
    "print(\"The best parameters after grid search: \" + str(grid.best_params_))\n",
    "print(\"Score from Ridge Regression with default parameter setting on test set is: \" \n",
    "      +str(grid.score(X_test_char1, y_test)))"
   ]
  },
  {
   "cell_type": "code",
   "execution_count": 27,
   "metadata": {},
   "outputs": [
    {
     "name": "stdout",
     "output_type": "stream",
     "text": [
      "Score from Ridge Regression with default parameter setting on test set is: 0.7004719750951894\n",
      "The best parameters after grid search: {'alpha': 0.5994842503189409}\n",
      "Score from Ridge Regression with default parameter setting on test set is: 0.6959058917654448\n"
     ]
    }
   ],
   "source": [
    "# removing charater analysis from the aboove model \n",
    "char1 = make_pipeline(CountVectorizer(ngram_range=(1, 3), min_df=4, stop_words=\"english\"), TfidfTransformer())\n",
    "X_train_char1 = char1.fit_transform(X_train)\n",
    "X_test_char1 = char1.transform(X_test)\n",
    "\n",
    "r = Ridge().fit(X_train_char1, y_train)\n",
    "s1 = r.score(X_test_char1, y_test)\n",
    "print(\"Score from Ridge Regression with default parameter setting on test set is: \" +str(s1))\n",
    "\n",
    "param_grid = [{'alpha':np.logspace(-2,2,10)}]\n",
    "grid = GridSearchCV(Ridge(), param_grid, cv = 5)\n",
    "grid.fit(X_train_char1, y_train)\n",
    "print(\"The best parameters after grid search: \" + str(grid.best_params_))\n",
    "print(\"Score from Ridge Regression with default parameter setting on test set is: \" \n",
    "      +str(grid.score(X_test_char1, y_test)))"
   ]
  },
  {
   "cell_type": "code",
   "execution_count": 28,
   "metadata": {},
   "outputs": [
    {
     "name": "stdout",
     "output_type": "stream",
     "text": [
      "Score from Ridge Regression with default parameter setting on test set is: 0.7004720431097023\n",
      "The best parameters after grid search: {'alpha': 0.5994842503189409}\n",
      "Score from Ridge Regression with default parameter setting on test set is: 0.6959062801460703\n"
     ]
    }
   ],
   "source": [
    "# adding Normalizer to the aboove model \n",
    "char2 = make_pipeline(CountVectorizer(ngram_range=(1, 3), min_df=4, stop_words=\"english\"),Normalizer(), TfidfTransformer())\n",
    "X_train_char2 = char2.fit_transform(X_train)\n",
    "X_test_char2 = char2.transform(X_test)\n",
    "\n",
    "r = Ridge().fit(X_train_char2, y_train)\n",
    "s1 = r.score(X_test_char2, y_test)\n",
    "print(\"Score from Ridge Regression with default parameter setting on test set is: \" +str(s1))\n",
    "\n",
    "param_grid = [{'alpha': np.logspace(-2,2,10)}]\n",
    "grid = GridSearchCV(Ridge(), param_grid, cv = 5)\n",
    "grid.fit(X_train_char2, y_train)\n",
    "print(\"The best parameters after grid search: \" + str(grid.best_params_))\n",
    "print(\"Score from Ridge Regression with default parameter setting on test set is: \" \n",
    "      +str(grid.score(X_test_char2, y_test)))"
   ]
  },
  {
   "cell_type": "markdown",
   "metadata": {},
   "source": [
    "After looking at all the models, we see that the best R2 is coming when we used the following - \n",
    "1. n-gram ranging from 1-3\n",
    "2. Minimum frequency = 4\n",
    "3. Removed stop words\n",
    "4. Normalizing the bag of words vector\n",
    "5. Tranforming the tokens using tf-idf transformer\n",
    "\n",
    "We can also see that the regularization parameter changes based on the setting we used for tuning the bag to words model."
   ]
  },
  {
   "cell_type": "markdown",
   "metadata": {},
   "source": [
    "# 1.4"
   ]
  },
  {
   "cell_type": "code",
   "execution_count": 29,
   "metadata": {},
   "outputs": [],
   "source": [
    "# below columns have a lot of missing values and the value of country for all is 'US' this dropping the respective columns\n",
    "data2 = data.drop(columns = ['title']) \n",
    "\n",
    "# dropping the rows with missing values\n",
    "data2 = data2.dropna()\n",
    "data2 = (data2.drop_duplicates(keep = 'first'))"
   ]
  },
  {
   "cell_type": "code",
   "execution_count": 30,
   "metadata": {},
   "outputs": [],
   "source": [
    "# adding non-text features\n",
    "y3 = data2[['points']]\n",
    "X3 = data2.drop(columns = 'points')\n",
    "\n",
    "# splitting the data into training, validation and testing\n",
    "X_train, X_test, y_train, y_test = train_test_split(X3, y3, test_size=0.2, random_state = 42)"
   ]
  },
  {
   "cell_type": "code",
   "execution_count": 31,
   "metadata": {},
   "outputs": [
    {
     "name": "stdout",
     "output_type": "stream",
     "text": [
      "The score on test set with default parameters is: 0.7674700896851882\n"
     ]
    }
   ],
   "source": [
    "text_pipeline = make_pipeline(CountVectorizer(ngram_range=(1, 3), min_df = 4),Normalizer(),TfidfTransformer())\n",
    "preprocess = make_column_transformer((StandardScaler(), ['price']),\n",
    "                                     (text_pipeline, 'description'),\n",
    "                                     remainder = TargetEncoder())\n",
    "\n",
    "pipe = make_pipeline(preprocess, Ridge())\n",
    "pipe.fit(X_train, y_train)\n",
    "print(\"The score on test set with default parameters is: \" + str(pipe.score(X_test,y_test)))"
   ]
  },
  {
   "cell_type": "code",
   "execution_count": 32,
   "metadata": {},
   "outputs": [
    {
     "name": "stdout",
     "output_type": "stream",
     "text": [
      "The best parameters after grid search: {'regressor__alpha': 0.5994842503189409}\n",
      "The score on test set after grid search is 0.7658084506602063\n"
     ]
    }
   ],
   "source": [
    "pipeline_new = Pipeline([('processor', preprocess),('regressor', Ridge())])\n",
    "param_grid = [{'regressor__alpha': np.logspace(-2,2,10)}]\n",
    "grid = GridSearchCV(pipeline_new, param_grid, cv = 5)\n",
    "grid.fit(X_train, y_train)\n",
    "print(\"The best parameters after grid search: \" + str(grid.best_params_))\n",
    "print(\"The score on test set after grid search is \" + str(grid.score(X_test, y_test)))"
   ]
  },
  {
   "cell_type": "markdown",
   "metadata": {},
   "source": [
    "When we combine text and non-text features, we can see that the R2 is increasing to 0.7674."
   ]
  },
  {
   "cell_type": "code",
   "execution_count": null,
   "metadata": {},
   "outputs": [],
   "source": []
  }
 ],
 "metadata": {
  "kernelspec": {
   "display_name": "Python 3",
   "language": "python",
   "name": "python3"
  },
  "language_info": {
   "codemirror_mode": {
    "name": "ipython",
    "version": 3
   },
   "file_extension": ".py",
   "mimetype": "text/x-python",
   "name": "python",
   "nbconvert_exporter": "python",
   "pygments_lexer": "ipython3",
   "version": "3.6.8"
  }
 },
 "nbformat": 4,
 "nbformat_minor": 2
}
